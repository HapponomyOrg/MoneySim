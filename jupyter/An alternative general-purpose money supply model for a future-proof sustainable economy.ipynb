{
 "cells": [
  {
   "attachments": {},
   "cell_type": "markdown",
   "metadata": {},
   "source": [
    "# An alternative general-purpose money supply model for a future-proof sustainable economy  \n",
    "\n",
    "### Stef Kuypers PhD researcher VUB  \n",
    "  \n",
    "## Abstract  \n",
    "It has been fifty years since the publication of the Club of Rome's book \"Limits to Growth\" (Meadows and Club of Rome, 1972) and over the years the Intergovernmental Panel on Climate Change (IPCC) has published numerous reports indicating ever higher urgency for a transition to a more sustainable economy; that is, an economy which fulfills the needs of the current generation without jeopardizing the well-being of future generations. Progress in this direction is still deemed to be too slow. Lack of funding, conflicting economic interests, and perceived negative impacts of needed measures on the economy are often the cause of delayed, and limited action.\n",
    "\n",
    "This paper proposes an alternative general-purpose money supply model with the goal to expand the current set of viable monetary models, introduce a new behavioral economic context, and to be a starting point for further research. It is the intent of the author to open up new paths of thought and reasoning that might have the potential to help solve some of the most pressing challenges society faces today, such as creating a systemically stable foundation for a future-oriented global economy, resolving funding issues for large-scale transition projects that are necessary to mitigate the issues highlighted by the IPCC in a timely manner, and nudge society towards an inherently sustainable economic model.  \n",
    "\n",
    "The proposed money supply model is subjected to a series of stress scenarios to determine systemic stability, and the long-term effects of these scenarios are analyzed. Systemic stability is compared with the findings presented in Kuypers et al. (2021). Finally, optional adjustments to the model are discussed, along with the assumed positive effects towards sustainability on a macroeconomic scale. These effects are then compared with the effects of a post-Keynesian money supply model.\n",
    "\n",
    "The conclusion is that, although further research will be necessary to address questions raised by this paper, the alternative model shows adequate merit, and there is a significant likelihood that it might be more suitable to support a sustainable economy than the current, post-Keynesian, model. Excessive wealth hoarding and short term capitalization are discouraged, thereby incentivizing a higher focus on long term planning, which is a better basis for sustainable business practices. It gives employees better bargaining power for meaningful jobs. The model provides a self-stabilizing money stock, and therefore provides more financial resilience to large economic shocks such as a global pandemic. Furthermore, the model allows for funding of large-scale projects, such as an energy transition and climate change measures, with a reduced probability to jeopardize monetary, and financial stability."
   ]
  },
  {
   "cell_type": "markdown",
   "metadata": {},
   "source": [
    "## 1 Introduction  \n",
    "There is by now a widely accepted consensus that our economy needs to transition towards a more sustainable model that provides the physical and psychological needs for the current generation without jeopardizing the well-being of future generations. The most recent IPCC reports (IPCC, 2018; IPCC, 2019; IPCC, 2022) list a plethora of actions that need to be taken in order to make sure this transition is not only ecologically, but also socially sustainable. This is a difficult puzzle to solve considering there are often conflicting economic interests at play (Sornarajah, 2003).\n",
    "\n",
    "Over the last few decades, the banking and financial sector has created several tools that should help money to be steered towards sustainable activities. Green investments are marketed as supporting business practices that have a favorable impact on our natural environment. Green finance (Batrancea et al., 2020) provides the tools and constructs that make it easy for ecologically aware investors to find their way, and green banks position themselves as sustainable finance hubs that pledge to stay away from any activities with a negative impact on our living environment.\n",
    "\n",
    "However, greenwashing pollutes these efforts (Alves, 2009; Lyon and Montgomery, 2015; Banerjee et al., 1995; Chen and Chang, 2013; TerraChoice, 2009, 2010), and would require a substantial, and expensive, auditing effort to keep it under control.\n",
    "Environmental protection legislation by states often triggers lawsuits by investors setting up legal cases through the International Centre for Settlement of Investment Disputes (ICSID) (Miles and Lawry-White, 2019; Hippolyte, 2017). The rulings of the ICSID have a high enforceability (Borlini and Silingardi, 2021), but it has also received critique on its effectiveness (Pauwelyn, 2015; Kahn et al, 2021; Faure and Ma, 2020), and probably needs a reform (Torres Rojas, 2019; You, 2022).\n",
    "\n",
    "Proponents of green growth (OECD, 2011; OECD, 2012; Bowen and Hepburn, 2014) advocate economic growth is needed in order to maintain prosperity and lift people in developing countries out of poverty. Opponents state that sustained economic growth cannot go hand in hand with a reduced impact on our environment (Hickel, 2019; Parrique et al., 2019), and that new models for well-being and prosperity need to be developed.\n",
    "\n",
    "Even though the debate is still ongoing, it seems that openness for a reconsideration of our economic growth model is on the rise (OECD, 2020; D’Alessandro et al., 2020). Implementing green growth is not a straightforward endeavor. A combination of adequate accounting methods, political will to implement green policies, which often come with a cost over the short term, and economic incentives for green investments is needed (Hallegatte et al., 2012; Nordhaus, 2015; Hepburn et al., 2018; Larissa et al., 2020; Dogaru, 2021; Batrancea et al., 2020; Peterson, 2021). This is a slow process, and according to a recent United Nations report (United Nations, 2022) there is no credible pathway to limit global warming to 1.5C. \n",
    "\n",
    "A question this paper wants to put on the table is whether finding funds to do what needs to be done, without creating financial instability, really needs to be this hard.\n",
    "\n",
    "Despite strong indications that the current economic growth model has a high likelihood of causing severe problems for future generations (Club of Rome, 1972; Parrique et al., 2019), comparatively little action to mitigate these problems has been undertaken since this knowledge became available in 1972. Arguments against taking action have mostly been based on economic factors and have been strongly influenced by economic interests. Lietaer et al. (2012) have indicated that there is a causal link to the current post-Keynesian money supply model.\n",
    "\n",
    "The current monetary and banking system regularly suffers from systemic crises (Laeven and Valencia, 2018). These happen despite the fact that the task of assuring financial stability has been assigned to either central banks, and/or supporting institutions.\n",
    "\n",
    "Historical research shows that loans with interest, a key feature of the post-Keynesian money supply model, invariably lead to unpayable debts when there is low to zero economic growth (Hartley and Kallis, 2021). The simulations in Kuypers et al. (2021) reveal that these unpayable debts are a systemic aspect of a debt-based monetary model where the growth of the money stock is slower than the net wealth accumulation of the credit providers.\n",
    "\n",
    "Complementary currencies, which aim to achieve sustainable economic dynamics, have been studied at length (Fisher et al., 1933; Lietaer, 2011; Groppa, 2013; Gómez and Knorringa, 2016; Vallet, 2018; Gawthorpe, 2019; Kokabian, 2020; Gelleri, 2021; Gelleri and Stodder, 2021). Although there are clear indications that these complementary currencies can successfully steer economic behavior into a more sustainable direction, their impact remains small. The Bristol pound (Johnson and Harvey-Wilson, 2017; Marshall and O’Neill, 2018), one of the more successful complementary currencies, was, at the time when the paper currency was taken out of circulation, only used by 1500 users, of which 650 were businesses. In a city that has a population of well over 450,000 inhabitants, this is a very low percentage. The Sardex (Bazzani, 2021), which was founded in 2010, has currently enlisted approximately 3200 Sardinian businesses according to data provided by the P2P Foundation[^1]. This is about 3.2% of the total number.\n",
    "\n",
    "Clearly, although complementary currencies have been proven to create more sustainable economic practices, their impact is too small to solve the transition problem within the time required.\n",
    "\n",
    "The thesis is that, in order to speed up the transition towards a sustainable economy, the current post-Keynesian monetary system (Nayan et al., 2013; McLeay et al., 2014; Werner, 2014, 2016; Deutsche Bundesbank, 2017; Gross and Sienenbrunner, 2019) itself needs to be replaced by a new model. This paper introduces such a model and focuses on both systemic stability and its suitability to fund large transition projects. These aspects are compared to the current model. Afterwards, a series of plausible assumptions are presented that can serve as a starting point for further research.\n",
    "\n",
    "The new money supply model is constructed from the ground up. First a mathematical description of the model is presented. Alongside this mathematical model, a Stock Flow Consistent (SFC) agent-based model is implemented. The output of this model is compared to the predictions of the mathematical model. Then a system stability analysis is performed for various theoretical scenarios, which are linked to sustainable transition projects where possible. Systemic stability of the model is defined as having a bounded money stock where the bounds can be deduced from the parameters of the model, regardless of the actions of account holders.  \n",
    "\n",
    "[^1]: Source: https://wiki.p2pfoundation.net/sardex"
   ]
  },
  {
   "cell_type": "markdown",
   "metadata": {},
   "source": [
    "## 2 Model description  \n",
    "The model combines two existing concepts, namely a universal basic income (UBI) and demurrage. The idea of a UBI, which is to give every citizen an unconditional fixed income, was first formally introduced by Thomas More in his book Utopia, a fictional story, which was published in 1516. Later, the idea was picked up by several political movements. Throughout recent history, several experiments have been set up around the idea (Osterkamp, 2013; Calnitsky, 2016; Kangas et al., 2019), but it has so far not been permanently implemented. Practical implementation within the current monetary model faces the problem of funding the UBI through taxes. The proposed model solves this problem by creating the money for the UBI ex nihilo. In the current post-Keynesian supply model, money is always someone's liability because it is created from debt, but with alternative money creation methods this can change. Bitcoin, for example, is considered to be an example of a liability free currency (Nerurkar et. al, 2021; Makarova, 2018; Ram, 2019; Nabilou, 2021). The model presented in this paper starts with the assumption that money can be a pure asset without needing to be someone's liability. When presenting this on a balance sheet, it follows that money on someone's account contributes 100% to their equity; see Figure 1.\n",
    "\n",
    "|Assets|Liabilities|\n",
    "|------|-----------|\n",
    "|Money: 100|Equity: 100|\n",
    "\n",
    " Figure 1 - Asset money balance sheet\n",
    "\n",
    "The term 'basic' in Universal Basic Income adds an aspect to the term that the author of this paper deems limiting. It seems to indicate that the income should cover basic living costs, but not more. This paper does not want to add any indication about how high or how low this income should be, and therefore the more neutral term guaranteed income (GI) is used.  \n",
    "\n",
    "The second concept, demurrage, is implemented as a tax on account balances. This idea comes from the work of Silvio Gesell (Gesell, 1958; Svensson and Westermark, 2020) and the stamp scrip money based on his ideas (Champ, 2008). In the presented model, the money collected through demurrage is destroyed. A fixed guaranteed income in combination with a fixed demurrage percentage, in the long run, inevitably converges to a balance between money creation and destruction, thereby guaranteeing calculable boundaries to the money stock."
   ]
  },
  {
   "cell_type": "markdown",
   "metadata": {},
   "source": [
    "### 2.1 Core model  \n",
    "The core money supply model is constructed in such a way that each cycle a predictable amount of new money is created and a predictable amount of money is destroyed. Creation happens by the system, which can be controlled by a central bank, a government or even managed as a societal common good. The controlling entity deposits a fixed guaranteed income on each $GI$ eligible account. Each living individual holds exactly one $GI$ eligible account. Destruction of money happens by charging demurrage on all existing accounts.\n",
    "\n",
    "In a real economy people often hold more than one account and even share accounts with others. The model supports this. All these other accounts are non-eligible and do not receive $GI$, Demurrage is calculated on the total balance of the accounts held by an individual. For shared accounts, the balance is split among the account holders and added to their total balance for the purpose of demurrage calculation. Demurrage is then proportionally deducted from the accounts, both eligible, and non-eligible.\n",
    "\n",
    "The dynamics of the model gives rise to a net guaranteed income per period ($NGI_n$) for every individual, that is equal to the guaranteed income minus demurrage, if any. This net guaranteed income becomes negative if demurrage becomes higher than the guaranteed income. This may appear odd, but it eradicates one of the criticisms on UBI, namely that money is given to people who do not need it.\n",
    "\n",
    "Businesses are usually separate legal entities and hold their own accounts. All these accounts are non-eligible and all accounts from a business are linked together in the same way the accounts of individuals are linked together.\n",
    "\n",
    "For the remainder of this paper, all actors hold exactly one account. This has no influence on the workings of the model since multiple accounts held by the same actor can be grouped together as one virtual account, and demurrage is calculated on the sum of the balances. A shared account is equivalent to a number of accounts, equal to the number of account holders, that each have a share of the balance of the shared account."
   ]
  },
  {
   "cell_type": "markdown",
   "metadata": {},
   "source": [
    "#### 2.1.1 Variables  \n",
    "To analyze the systemic properties of the model, the following variables are defined. These variables must be interpreted in the context of an active model, where both the money creation and destruction mechanisms are active, as are monetary transactions between accounts.\n",
    "\n",
    "* $a$: An individual account.\n",
    "* $A$: The collection of all accounts.\n",
    "* $tu$: An atomic time unit that defines the time granularity of the model.\n",
    "* $P_n$: A time period which is used as a cyclic unit. Each $P_n$ does not necessarily consist of the same number of $tu$. This is the case if, for example, $P_n$ is one month, since the number of days varies over the months. Counting of the periods starts at 1.\n",
    "* $TU_n$: The number of $tu$ in a period $P_n$.\n",
    "* $d$: Demurrage percentage calculated on the balance of each account at the beginning of each $P$. $0 \\lt d \\le 1$. \n",
    "* $GI$: The amount of money each eligible account is entitled to in each $P_n$.\n",
    "* $A_{GI}$: The collection of all eligible, or $GI$-entitled, accounts. Living individuals have exactly one account that is entitled to receive $NGI_n$. Such an account can be either active or inactive. Inactive accounts are still subject to demurrage, and inactive eligible accounts still receive $NGI_n$. Therefore, $A_{GI} \\subseteq A_a \\cup A_i = A$"
   ]
  },
  {
   "cell_type": "markdown",
   "metadata": {},
   "source": [
    "#### 2.1.2 Functions  \n",
    "* $B_t(a)$: The balance on account $a$ at time $t$.\n",
    "* $T(n)$: Time at the beginning of $P_n$.\n",
    "* $\\forall n \\in \\mathbb{N}, D_n(a)$ = $d B_{T(n)}(a)$: The demurrage amount charged on account $a$ at the beginning of $P_n$.\n",
    "* $NGI_n$: $\\forall n \\in \\mathbb{N}, NGI_n(a) = GI - D_n(a)$. The net guaranteed income for $P_n$.\n",
    "* $\\forall a \\in A, M(t) = \\sum B_t(a)$: The money stock available at time $t$."
   ]
  },
  {
   "cell_type": "markdown",
   "metadata": {},
   "source": [
    "#### 2.1.3 Dynamics of the model  \n",
    "After determining $GI$ and $d$, the model needs to be initialized by setting the account balances. The initial account balances can be set to any amount. The sum of all account balances is the initial money stock $M_0$.\n",
    "\n",
    "After this initial step and for each subsequent period, an arbitrary number of monetary transactions between individual accounts can occur. These transactions cannot bring an account balance below 0. Therefore, a transaction amount from account $a_x$ to account $a_y \\le max(0, B_t(a_x))$.\n",
    "\n",
    "At the beginning of each period $P_n$, including the first one, demurrage is calculated for each account. Then, $NGI_n$ is deposited/subtracted on/from each eligible account and $D_n$ is subtracted from each non-eligible account:\n",
    "\n",
    "$\\forall n \\gt 0, \\forall a \\in A_{GI}, B_{T(n)}(a) \\rightarrow B_{T(n)}(a) + NGI_n(a)$  \n",
    "$\\forall n \\gt 0, \\forall a \\notin A_{GI}, B_{T(n)}(a) \\rightarrow B_{T(n)}(a) - D_n(a)$\n",
    "\n",
    "The following conclusions can be drawn:\n",
    "\n",
    "(1) All accounts with a constant periodic income ($I$) converge to a calculable upper limit. This is called the $telo$ with parameters $I$, and $d$, notated as $telo(I, d)$. It is the point where $D_n(a) = I$.  \n",
    "For eligible accounts, the income $I$ consists of $GI$ plus surplus income ($IE$). For these accounts, $telo(I, d) is where $NGI$ = 0$.\n",
    "\n",
    "$\\forall a \\in A, \\lim_{t \\to \\inf}B_t(a) = \\frac{I}{d} = telo(I, d)$\n",
    "\n",
    "This holds regardless of the initial balance of the account. Should the account be initialized with a balance that is higher than $telo(I, d)$, then $D_n(a) > I$ until the balance reaches $telo(I, d)$. When the initial balance is below $telo(I, d)$, then $D_n(a) < I$ until the balance reaches $telo(I, d)$.\n",
    "\n",
    "(2) All accounts without an income converge to 0.\n",
    "\n",
    "$\\forall a \\in A, I = 0, \\lim_{t \\to \\inf}B_t(a) = \\frac{I}{d} = \\frac{0}{d} = 0 = telo(0, d)$ \n",
    "\n",
    "(3) From (1) and (2) it can be concluded that, if no transactions occur, and thus the income for all non-eligible accounts is $0$, and the income for all eligible accounts is $GI$, the money stock converges to $|A_{GI}| * telo(GI, d)$, and remains there.\n",
    "\n",
    "$\\lim_{t\\to \\inf}M_t$ = $|A_{GI}| * \\frac{GI}{d} = |A_{GI}| * telo(GI, d)$\n",
    "\n",
    "(4) The only effect transactions have is to redistribute money among accounts. This affects demurrage on all accounts involved in the transactions, but has no influence on the amount of money being created through $GI$. It can be demonstrated that the total amount of demurrage charged remains the same, regardless of the number of accounts and transactions occurring between accounts.\n",
    "\n",
    "Let $M = telo(GI, d) * |A_{GI}|$.\n",
    "\n",
    "If the number of transactions $TR$ equals 0 over all $P$, then the statement holds according to (3).\n",
    "\n",
    "If there is one transaction $T_{xy} between $a_x$ and $a_y$ then the following holds:\n",
    "\n",
    "$B(a_x) \\rightarrow B(a_x) - T_{xy}, B(a_y) \\rightarrow B(a_y) + T_{xy}$  \n",
    "$\\Rightarrow D(a_x) = d (B(a_x) - T_{xy}), D(a_y) = d (B(a_y) + T_{xy})$  \n",
    "$\\Rightarrow D(a_x) = d B(a_x) - d T_{xy}, D(a_y) = d B(a_y) + d T_{xy}$  \n",
    "$\\Rightarrow M \\rightarrow M - d T_{xy} + d T_{xy} = M$\n",
    "\n",
    "Because the statement already holds for 0 transactions according to (3), only the demurrage calculated on the amount of the transaction needs to be taken into account. This demurrage is subtracted from $D(a_x)$ and is added to $D(a_y)$, resulting in a null operation for $M$.\n",
    "\n",
    "Assume the statement holds for $TR = n$ over all $P$ and that $T_{xy}$ is a transaction amount for transaction $n + 1$ between randomly selected accounts $a_x$ and $a_y$ then the same logic as for the first transaction can be applied.\n",
    "\n",
    "This shows that, regardless of the number of accounts and transactions:\n",
    "$\\lim_{t \\to \\inf}, M_t = telo(GI, d) * |A_{GI}|$\n",
    "\n",
    "This also means all accounts are bounded.\n",
    "\n",
    "(5) $d$ determines how fast accounts near their bounds. The higher $d$, the faster this happens.\n",
    "\n",
    "Let $c = 1 - d$ and let $IE_x$ be a fixed net income/expense received from/paid to other accounts.\n",
    "\n",
    "$\\Rightarrow B(a_x)_n = \\frac{(GI + IE_x) (1 - c^{n+1})}{d}$\n",
    "\n",
    "The higher $d$, the faster $c^n = (1 - d)^n$ approaches 0, and thus the faster accounts approach their bounds. $GI$ and $IE_x$ have no influence on this speed. However, $IE_x$ does have an influence on the height of the boundary for the account. When this income/expense fluctuates over time, the target bound also fluctuates and this can cause the balance of the account to move towards but never reach the theoretical bound."
   ]
  },
  {
   "cell_type": "markdown",
   "metadata": {},
   "source": [
    "### 2.2 Stock Flow Consistent (SFC) agent based model  \n",
    "The agents in the model represent economic actors who each hold exactly one account.\n",
    "The parameters of the model are:\n",
    "\n",
    "* $L$: Length of the simulation, expressed in number of periods ($P$).\n",
    "* $tu$: Time units per $P$.\n",
    "* $GI$: Guaranteed income.\n",
    "* $d$: Demurrage percentage.\n",
    "* $N$: All agents. Agents can be living individuals or other economic actors.\n",
    "* $N_{GI}$: All $GI$ eligible agents. These are all living individuals.\n",
    "* $Y$: Number of transactions per $tu$.\n",
    "\n",
    "$M(t)$ is calculated.\n",
    "\n",
    "To simulate economic activity, a yard sale algorithm is implemented. A yard sale transaction consists of the following steps:\n",
    "\n",
    "(1) Randomly pick two agents.\n",
    "\n",
    "(2) Calculate 20% of the amount held by the poorest agent.\n",
    "\n",
    "(3) With a fair coin flip, determine the direction of the transfer.\n",
    "\n",
    "(4) Transfer the calculated amount, which can be 0 if the poorest agent has no money on their account.\n",
    "\n",
    "This yard sale algorithm is executed in two versions of the proposed model.\n",
    "\n",
    "* Version (A) only has accounts eligible for $GI$.\n",
    "* Version (B) has the same $N_{GI}$ as version (A) and adds a number of non-$GI$ eligible agents, equal to 25% of $|N_{GI}|$. These agents represent organizations, institutions, ... instead of living individuals.  \n",
    "\n",
    "Each version is run twice. The first run is initialized with each agent holding an amount of money equal to $\\frac{|N_{GI}| * telo(GI, d)}{|N|}$. The second run starts with one agent holding all the money ($|N_{GI}| * telo(GI, d)$). The output of the simulation is the evolution of the money stock.\n",
    "\n",
    "To eliminate the effect of the random generator on the outcome of the different runs, the random generator used is initialized with a fixed seed. This guarantees creating the exact same series of random numbers in all runs.\n",
    "\n",
    "After initialization, the following actions are executed each $P_n$:\n",
    "\n",
    "(1) Deposit/subtract $NGI$ on/from every eligible account.\n",
    "\n",
    "(2) Calculate and subtract $D$ from every non-eligible account.\n",
    "\n",
    "(3) For each $tu$ in $P$, execute a yard sale transaction between $Y$ pairs of randomly selected agents."
   ]
  },
  {
   "cell_type": "markdown",
   "metadata": {},
   "source": [
    "## 2.3 Simulations  \n",
    "All simulations are executed with the following parameters:\n",
    "\n",
    "* $L$ : The number of periods the simulation runs. This varies per simulation.\n",
    "* $tu$ = 30 : Each period consists of 30 time units. \n",
    "* $GI$ = 2000 : Guaranteed income is set to 2000\n",
    "* $d$ = 0.01 : Demurrage is 1% per period.\n",
    "* $N_{GI}$ = $|A_{GI}|$ = 100 : The number of eligible agents is 100.\n",
    "* $Y$ = 200 : The number of yard sale transactions per time unit is 200.\n",
    "\n",
    "The initial money stock $M_0$ is set to $N_GI * telo(GI, d)$."
   ]
  },
  {
   "cell_type": "markdown",
   "metadata": {},
   "source": [
    "### 2.3.1 Simulations (A)  \n",
    "All agents possess $GI$ eligible accounts."
   ]
  },
  {
   "cell_type": "code",
   "execution_count": null,
   "metadata": {},
   "outputs": [],
   "source": [
    "using EconoSim # Source code: https://github.com/HapponomyOrg/EconoSim.jl\n",
    "using MoneySim # Source code: https://github.com/HapponomyOrg/MoneySim.jl\n",
    "\n",
    "set_currency_precision!(4);"
   ]
  },
  {
   "attachments": {},
   "cell_type": "markdown",
   "metadata": {},
   "source": [
    "#### Simulation A1 - Initialize all account balances with $telo(GI, d)$.  "
   ]
  },
  {
   "cell_type": "code",
   "execution_count": null,
   "metadata": {},
   "outputs": [],
   "source": [
    "GI = 2000\n",
    "d = 0.01\n",
    "tu = 30\n",
    "\n",
    "N_GI = 100\n",
    "Y = 200\n",
    "L = 150\n",
    "\n",
    "basic_sumsy = SuMSy(GI, 0, d, tu)\n",
    "\n",
    "plot_money_stock(\n",
    "    analyse_money_stock(\n",
    "        run_sumsy_simulation(basic_sumsy,\n",
    "                            eligible_actors = N_GI,\n",
    "                            num_transactions = Y,\n",
    "                            sim_length = L,\n",
    "                            distributed = true)[1]), # distribute money\n",
    "    \"Money Stock - Equal Initial Distribution\",\n",
    "    theoretical_max = telo(GI, d) * N_GI)"
   ]
  },
  {
   "attachments": {},
   "cell_type": "markdown",
   "metadata": {},
   "source": [
    "<p style=\"text-align: center;\">Figure A1</p>"
   ]
  },
  {
   "attachments": {},
   "cell_type": "markdown",
   "metadata": {},
   "source": [
    "Figure A1 shows that there is a slight fluctuation in the money stock in the simulation. This is due to rounding errors because account balance accuracy is limited to four decimal numbers and smaller fractions are rounded. However, compared to the total size of the money stock this fluctuation is negligible."
   ]
  },
  {
   "attachments": {},
   "cell_type": "markdown",
   "metadata": {},
   "source": [
    "#### Simulation A2 - Initialize one account with all money.  "
   ]
  },
  {
   "cell_type": "code",
   "execution_count": null,
   "metadata": {},
   "outputs": [],
   "source": [
    "GI = 2000\n",
    "d = 0.01\n",
    "tu = 30\n",
    "\n",
    "N_GI = 100\n",
    "Y = 200\n",
    "L = 150\n",
    "\n",
    "plot_money_stock(\n",
    "    analyse_money_stock(\n",
    "        run_sumsy_simulation(basic_sumsy,\n",
    "                            eligible_actors = N_GI,\n",
    "                            num_transactions = Y,\n",
    "                            sim_length = L,\n",
    "                            distributed = false)[1]), # concentrate money\n",
    "    \"Money Stock - Initially Concentrated\",\n",
    "    theoretical_max = telo(GI, d) * N_GI)"
   ]
  },
  {
   "attachments": {},
   "cell_type": "markdown",
   "metadata": {},
   "source": [
    "<p style=\"text-align: center;\">Figure A2</p>"
   ]
  },
  {
   "attachments": {},
   "cell_type": "markdown",
   "metadata": {},
   "source": [
    "The same negligible fluctuation can be in observed figure A2, when the model is initialized with all money sitting in a single account."
   ]
  },
  {
   "cell_type": "markdown",
   "metadata": {},
   "source": [
    "### 2.3.2 Simulations (B)  \n",
    "Add 25 non-eligible agents to the pool of agents, bringing the total number to 125."
   ]
  },
  {
   "attachments": {},
   "cell_type": "markdown",
   "metadata": {},
   "source": [
    "#### Simulation B1 - Initialize all account balances with an equal amount of money.\n",
    "The total initial money stock $M0$ remains the same as in $A$, but that amount is now equally divided among 125 instead of 100 account balances, resulting in the initial balance for each account being set to $telo * 100 / 125$."
   ]
  },
  {
   "cell_type": "code",
   "execution_count": null,
   "metadata": {},
   "outputs": [],
   "source": [
    "GI = 2000\n",
    "d = 0.01\n",
    "tu = 30\n",
    "\n",
    "N_GI = 100\n",
    "Y = 200\n",
    "L = 150\n",
    "\n",
    "plot_money_stock(\n",
    "    analyse_money_stock(\n",
    "        run_sumsy_simulation(basic_sumsy,\n",
    "                            eligible_actors = N_GI,\n",
    "                            non_eligible_actors = 25,\n",
    "                            num_transactions = Y,\n",
    "                            sim_length = L,\n",
    "                            distributed = true)[1]), # distribute money\n",
    "    \"Money Stock - Equal Initial Distribution\",\n",
    "    theoretical_max = telo(GI, d) * N_GI)"
   ]
  },
  {
   "attachments": {},
   "cell_type": "markdown",
   "metadata": {},
   "source": [
    "<p style=\"text-align: center;\">Figure B1</p>"
   ]
  },
  {
   "attachments": {},
   "cell_type": "markdown",
   "metadata": {},
   "source": [
    "#### Simulation B2 - Initialize one account with all money.  "
   ]
  },
  {
   "cell_type": "code",
   "execution_count": null,
   "metadata": {},
   "outputs": [],
   "source": [
    "GI = 2000\n",
    "d = 0.01\n",
    "tu = 30\n",
    "\n",
    "N_GI = 100\n",
    "Y = 200\n",
    "L = 150\n",
    "\n",
    "plot_money_stock(\n",
    "    analyse_money_stock(\n",
    "        run_sumsy_simulation(basic_sumsy,\n",
    "                            eligible_actors = N_GI,\n",
    "                            non_eligible_actors = 25,\n",
    "                            num_transactions = Y,\n",
    "                            sim_length = L,\n",
    "                            distributed = false)[1]), # concentrate money\n",
    "    \"Money Stock - Initially Concentrated\",\n",
    "    theoretical_max = telo(GI, d) * N_GI)"
   ]
  },
  {
   "attachments": {},
   "cell_type": "markdown",
   "metadata": {},
   "source": [
    "<p style=\"text-align: center;\">Figure B2</p>"
   ]
  },
  {
   "attachments": {},
   "cell_type": "markdown",
   "metadata": {},
   "source": [
    "Figures B1 and B2 show that adding non-$GI$ eligible accounts has no influence on the predictability of the money stock."
   ]
  },
  {
   "cell_type": "markdown",
   "metadata": {},
   "source": [
    "## 3 Stress scenarios  \n",
    "The model itself is impervious to market conditions since transfers between accounts have no effect on the amount of money being created or destroyed. Therefore, the only threats to the model come from allowing excessive money creation or destruction.\n",
    "\n",
    "For each stress scenario, a mathematical analysis is performed, followed by a simulation scenario. Since the initialization of accounts has no effect on the resulting money stock, version (A), with initial equal distribution of money across all agent's accounts, has been chosen for all the stress scenarios.\n",
    "\n",
    "All stress scenarios are presented as theoretical events. While such scenarios might occur under real world circumstances, the focus in the next section lies on the systemic impact the events have on the model. The likelihood and real world circumstances under which the events might take place in the real world are discussed later."
   ]
  },
  {
   "cell_type": "markdown",
   "metadata": {},
   "source": [
    "### 3.1 Excessive money creation"
   ]
  },
  {
   "cell_type": "markdown",
   "metadata": {},
   "source": [
    "#### 3.1.1 One-off money injection event  \n",
    "Injecting a large sum of money into the model raises the money stock accordingly, but over time demurrage takes care of removing the amount that is injected.\n",
    "\n",
    "The simulation below starts off with twice the theoretical maximum amount of money, being $|A_{GI}| * telo * 2$, evenly distributed among all agent accounts."
   ]
  },
  {
   "cell_type": "code",
   "execution_count": null,
   "metadata": {},
   "outputs": [],
   "source": [
    "GI = 2000\n",
    "d = 0.01\n",
    "tu = 30\n",
    "\n",
    "N_GI = 100\n",
    "Y = 200\n",
    "L = 750\n",
    "\n",
    "plot_money_stock(\n",
    "    analyse_money_stock(\n",
    "        run_sumsy_simulation(basic_sumsy,\n",
    "                            eligible_actors = N_GI,\n",
    "                            num_transactions = Y,\n",
    "                            sim_length = L,\n",
    "                            distributed = true,\n",
    "                            model_adaptation = one_time_money_injection!)[1]),\n",
    "    \"One-off Money Injection Event\",\n",
    "    theoretical_max = telo(GI, d) * N_GI)"
   ]
  },
  {
   "attachments": {},
   "cell_type": "markdown",
   "metadata": {},
   "source": [
    "<p style=\"text-align: center;\">Figure S1</p>"
   ]
  },
  {
   "attachments": {},
   "cell_type": "markdown",
   "metadata": {},
   "source": [
    "Figure S1 shows that the money stock converges back to its theoretical maximum, being $|A_{GI}| * telo$ without the need for further interventions. With an elevated money stock and unchanged periodic money creation, demurrage is higher than the amount that is periodically created. Therefore the money stock diminishes up until the point where demurrage once again equals the amount of money being created."
   ]
  },
  {
   "cell_type": "markdown",
   "metadata": {},
   "source": [
    "#### 3.1.2 Continuous money injection  \n",
    "As shown below, continuous money injection does not result into a continuous rise of the money stock. Intuitively, injecting a fixed amount each period raises the money stock and thereby also the calculated demurrage up until the point where the added demurrage equals the injected amount. At that point, net money injection becomes 0, and the money stock stabilizes.\n",
    "\n",
    "Let $Q$ be the quantity of money being injected each period,\n",
    "\n",
    "$\\Rightarrow \\Delta M = \\frac{Q}{d}$\n",
    "\n",
    "In the following simulation, an amount equal to $\\frac{GI}{2}$ is added to each account at the start of each $P_n$. This raises the theoretical upper bound for the money stock to $N_{GI} * telo + \\frac{N_{GI} * \\frac{GI}{2}}{d}$."
   ]
  },
  {
   "cell_type": "code",
   "execution_count": null,
   "metadata": {},
   "outputs": [],
   "source": [
    "GI = 2000\n",
    "d = 0.01\n",
    "tu = 30\n",
    "\n",
    "N_GI = 100\n",
    "Y = 200\n",
    "L = 750\n",
    "\n",
    "plot_comparative_money_stock(\n",
    "    analyse_money_stock(\n",
    "        run_sumsy_simulation(basic_sumsy,\n",
    "                            eligible_actors = N_GI,\n",
    "                            num_transactions = Y,\n",
    "                            sim_length = L,\n",
    "                            distributed = true,\n",
    "                            model_adaptation = constant_money_injection!)[1]),\n",
    "    \"Continuous Money Injection\",\n",
    "    original_max = telo(basic_sumsy) * N_GI,\n",
    "    new_max = telo(GI, d) * N_GI + N_GI * GI / 2 / d)"
   ]
  },
  {
   "attachments": {},
   "cell_type": "markdown",
   "metadata": {},
   "source": [
    "<p style=\"text-align: center;\">Figure S2</p>"
   ]
  },
  {
   "attachments": {},
   "cell_type": "markdown",
   "metadata": {},
   "source": [
    "Figure S2 shows that, over time, continuous money injection raises the money stock to a new theoretical upper bound. Continuous money injection raises the amount of money created per interval. A new equilibrium is reached when the money stock reaches a level where the total demurrage equals the new, raised, total amount of money being created each interval."
   ]
  },
  {
   "cell_type": "markdown",
   "metadata": {},
   "source": [
    "### 3.2 Money destruction"
   ]
  },
  {
   "cell_type": "markdown",
   "metadata": {},
   "source": [
    "#### 3.2.1 One-off money destruction event  \n",
    "A single, large-scale money destruction event removes a single, large sum of money from the money stock. As can be observed below, the money stock automatically converges back to its boundary, $N_{GI_x} * \\frac{GI_x}{d_x}$. Intuitively, a lower money stock results in less demurrage being subtracted from the money stock, resulting in net positive money creation up to the point where demurrage and money creation amounts are again equal.\n",
    "\n",
    "The following simulation executes a single money loss event equal to half of the total money stock, being $N_{GI} * \\frac{telo}{2}$. At the beginning of the simulation, each account balance is halved."
   ]
  },
  {
   "cell_type": "code",
   "execution_count": null,
   "metadata": {},
   "outputs": [],
   "source": [
    "GI = 2000\n",
    "d = 0.01\n",
    "tu = 30\n",
    "\n",
    "N_GI = 100\n",
    "Y = 200\n",
    "L = 750\n",
    "\n",
    "plot_money_stock(\n",
    "    analyse_money_stock(\n",
    "        run_sumsy_simulation(basic_sumsy,\n",
    "                            eligible_actors = N_GI,\n",
    "                            num_transactions = Y,\n",
    "                            sim_length = L,\n",
    "                            distributed = true,\n",
    "                            model_adaptation = one_time_money_destruction!)[1]),\n",
    "        \"One-off Money Destruction Event\",\n",
    "        theoretical_max = telo(GI, d) * N_GI)"
   ]
  },
  {
   "attachments": {},
   "cell_type": "markdown",
   "metadata": {},
   "source": [
    "<p style=\"text-align: center;\">Figure S3</p>"
   ]
  },
  {
   "attachments": {},
   "cell_type": "markdown",
   "metadata": {},
   "source": [
    "Figure S3 shows that, over time, the money stock reverts to its original bound without the need for an external intervention. Intuitively, demurrage on the lowered money stock is lower than the amount of money which is created each interval. Only when the money stock has been restored to its previous level will the demurrage again equal the amount of money being created."
   ]
  },
  {
   "cell_type": "markdown",
   "metadata": {},
   "source": [
    "#### 3.2.2 Continuous money destruction  \n",
    "Continuous money destruction does not lead to a depletion of the money stock as long as the amount being destroyed is less than the total amount of money being created each period. \n",
    "\n",
    "Let $Q < N_{GI} * GI$ be the amount that is destroyed each interval.\n",
    "\n",
    "$\\Rightarrow \\Delta M = - \\frac{Q}{d}$\n",
    "\n",
    "The following simulation implements continuous money destruction. At the beginning of each period, after depositing NGI, an amount equal to $\\frac{GI}{2}$ is removed from every account."
   ]
  },
  {
   "cell_type": "code",
   "execution_count": null,
   "metadata": {},
   "outputs": [],
   "source": [
    "GI = 2000\n",
    "d = 0.01\n",
    "tu = 30\n",
    "\n",
    "N_GI = 100\n",
    "Y = 200\n",
    "L = 750\n",
    "\n",
    "plot_comparative_money_stock(\n",
    "    analyse_money_stock(\n",
    "        run_sumsy_simulation(basic_sumsy,\n",
    "                            eligible_actors = N_GI,\n",
    "                            num_transactions = Y,\n",
    "                            sim_length = L,\n",
    "                            distributed = true,\n",
    "                            model_adaptation = constant_money_destruction!)[1]),\n",
    "    \"Continuous Money Destruction\",\n",
    "    original_max = telo(GI, d) * N_GI,\n",
    "    new_max = telo(GI, d) * N_GI - GI * N_GI / 2 / d)"
   ]
  },
  {
   "attachments": {},
   "cell_type": "markdown",
   "metadata": {},
   "source": [
    "<p style=\"text-align: center;\">Figure S4</p>"
   ]
  },
  {
   "attachments": {},
   "cell_type": "markdown",
   "metadata": {},
   "source": [
    "Figure S4 shows that the money stock converges to its new theoretical bound. Destroying a fixed amount of money each interval effectively lowers the amount of money being created each interval. Therefore demurrage remains higher than the amount of money being created each interval until the money stock drops to a level where demurrage once again equals the net amount of money created."
   ]
  },
  {
   "cell_type": "markdown",
   "metadata": {},
   "source": [
    "#### 3.3.3 Continuous variable money injection/destruction  \n",
    "Even if the amount of continuous money injection/destruction were to vary, the bounds remain predictable and calculable. Each new $Q$ would merely define a new, calculable, amount the total money stock converges to over time.\n",
    "\n",
    "Issues only arise if one of the following conditions holds true for a prolonged period of time:\n",
    "\n",
    "* The amount of constant money injection constantly increases, leading to a constant inflation of the money stock.\n",
    "* The amount of money destruction is constantly greater than $|A_{GI}| * GI$, leading to a depletion of the money stock.\n",
    "\n",
    "These issues resolve themselves again as soon as the above conditions cease to hold true. Monetary policy can guard against the first issue.\n",
    "\n",
    "The second scenario is very unlikely to happen since it would either require the controlling body to destroy its own money or the nation to somehow manage to completely deplete its money stock."
   ]
  },
  {
   "cell_type": "markdown",
   "metadata": {},
   "source": [
    "## 4 Model expansion  \n",
    "The core model is the minimal viable product. No elements can be removed without jeopardizing its stability. There are however some extensions that could prove desirable and useful.\n",
    "\n",
    "The following sections introduce extensions that the writer finds interesting enough to be examined."
   ]
  },
  {
   "cell_type": "markdown",
   "metadata": {},
   "source": [
    "### 4.1 Demurrage-free buffers  \n",
    "To every $GI$ entitled account a demurrage free buffer ($DF$) can be added. In that case, demurrage is only charged on the amount above this $DF$. In itself this might not be considered as a valuable addition to the model, but it can be used as a means to provide businesses with accounts in which they can store demurrage free capital.\n",
    "For that purpose, the $DF$ needs to be lendable to others. Any individual, holding a $GI/DF$ eligible account, is allowed to lend the whole or parts of the $DF$ to others. The control of these borrowed fractions of $DF$ remains under the original account holder, who can retract them.\n",
    "\n",
    "Adding $DF$ to the model has an effect on $M$. The extreme case where all money pools into one account (1) allows for a smaller money stock than the case where all money is divided equally (2). The rationale is that all the money sitting in one account results in only one $DF$ being actually used while all $DF$ are actively used when the money is evenly distributed over all accounts.\n",
    "\n",
    "(1) $M_{min} = \\lim_{t \\to \\inf} M_t = \\frac{|A_{GI}| * GI}{d} + DF$\n",
    "\n",
    "(2) $M_{max} = \\lim_{t \\to \\inf} M_t = \\frac{|A_{GI}| * GI}{d} + |A_{GI}| * DF$\n",
    "\n",
    "The fraction of total $DF$ that is used, which depends on the distribution of the money over the accounts, has an influence on the money stock. Demurrage is only calculated on money that is not stored in $DF$ and Therefore, a maximum use of $DF$ maximizes the money stock.\n"
   ]
  },
  {
   "cell_type": "code",
   "execution_count": null,
   "metadata": {},
   "outputs": [],
   "source": [
    "GI = 2000\n",
    "d = 0.01\n",
    "tu = 30\n",
    "\n",
    "N_GI = 100\n",
    "Y = 200\n",
    "L = 750\n",
    "\n",
    "DF = 25000\n",
    "dem_free_sumsy = SuMSy(GI, DF, d, tu)\n",
    "\n",
    "plot_money_stock(\n",
    "    analyse_money_stock(\n",
    "        run_sumsy_simulation(dem_free_sumsy,\n",
    "                            eligible_actors = N_GI,\n",
    "                            num_transactions = Y,\n",
    "                            sim_length = L,\n",
    "                            distributed = true)[1]),\n",
    "        \"Demurrage-free Buffers\",\n",
    "        theoretical_min = telo(GI, d) * N_GI + DF,\n",
    "        theoretical_max = telo(GI, d, DF) * N_GI)"
   ]
  },
  {
   "attachments": {},
   "cell_type": "markdown",
   "metadata": {},
   "source": [
    "<p style=\"text-align: center;\">Figure E1</p>"
   ]
  },
  {
   "cell_type": "markdown",
   "metadata": {},
   "source": [
    "### 4.2 Tiered demurrage  \n",
    "Rather than having a flat demurrage, demurrage tiers can be introduced, similar to income tax brackets. This also introduces a lower and upper bound for the money stock, similar to the case with demurrage-free buffers. If all money sits in one account, most of it would be subjected to the highest demurrage tier. If all money is evenly distributed, less money would be subjected to the higher demurrage tiers. These two extremes define the upper and lower bounds of the money stock. The exact size of the money stock is dependent on the distribution of the money.\n",
    "\n",
    "The simulation below uses the following demurrage tiers:  \n",
    "\n",
    "| Demurrage tier | Demurrage |\n",
    "|---|---|\n",
    "| $B(a) \\lt 50.000$ | $1$% |\n",
    "| $50,000 \\lt B(a) \\lt 500,000$ | $2$% |\n",
    "| $500,000 \\lt B(a) \\lt 1,000,000$ | $5$% |\n",
    "| $1,000,000 \\lt B(a) \\lt 10,000,000$ | $10$% |\n",
    "| $10,000,000 \\lt B(a) \\lt 50,000,000$ | $50$% |\n",
    "| $50,000,000 \\lt B(a)$ | $95$% |\n"
   ]
  },
  {
   "cell_type": "code",
   "execution_count": null,
   "metadata": {},
   "outputs": [],
   "source": [
    "GI = 2000\n",
    "d = [(0, 0.01), (50000, 0.02), (500000, 0.05), (1000000, 0.1), (10000000, 0.5), (50000000, 0.95)]\n",
    "tu = 30\n",
    "\n",
    "N_GI = 100\n",
    "Y = 200\n",
    "L = 750\n",
    "\n",
    "tiered_sumsy = SuMSy(GI, 0, d, tu)\n",
    "\n",
    "plot_money_stock(\n",
    "    analyse_money_stock(\n",
    "        run_sumsy_simulation(tiered_sumsy,\n",
    "                            eligible_actors = N_GI,\n",
    "                            num_transactions = Y,\n",
    "                            sim_length = L,\n",
    "                            distributed = true)[1]),\n",
    "    \"Tiered Demurrage\",\n",
    "    theoretical_min = telo(GI * N_GI, d),\n",
    "    theoretical_max = telo(GI, d) * N_GI)"
   ]
  },
  {
   "attachments": {},
   "cell_type": "markdown",
   "metadata": {},
   "source": [
    "<p style=\"text-align: center;\">Figure E2</p>"
   ]
  },
  {
   "attachments": {},
   "cell_type": "markdown",
   "metadata": {},
   "source": [
    "There is a caveat when introducing this extension. Adding non-eligible accounts can potentially raise the money stock, as can be observed in the simulation below. The rationale is that storing money from an upper demurrage tier in the account of a new legal entity would result in less demurrage on the sum of the two accounts since the balances of separate legal entities are not added together for demurrage calculation. The potential raise in money stock is still bounded and scales with the number of non-eligible accounts that are added. "
   ]
  },
  {
   "cell_type": "code",
   "execution_count": null,
   "metadata": {},
   "outputs": [],
   "source": [
    "GI = 2000\n",
    "d = [(0, 0.01), (50000, 0.02), (500000, 0.05), (1000000, 0.1), (10000000, 0.5), (50000000, 0.95)]\n",
    "tu = 30\n",
    "\n",
    "N_GI = 100\n",
    "Y = 0\n",
    "L = 750\n",
    "\n",
    "tiered_sumsy = SuMSy(GI, 0, d, tu)\n",
    "\n",
    "plot_money_stock(\n",
    "    analyse_money_stock(\n",
    "        run_sumsy_simulation(tiered_sumsy,\n",
    "                            eligible_actors = N_GI,\n",
    "                            non_eligible_actors = 25, # add 25 actors with non-eligible accounts\n",
    "                            num_transactions = Y,\n",
    "                            sim_length = L,\n",
    "                            model_adaptation = equal_money_distribution!,\n",
    "                            distributed = true)[1]),\n",
    "    \"Tiered Demurrage\",\n",
    "    theoretical_min = telo(GI * N_GI, d),\n",
    "    theoretical_max = telo(GI, d) * N_GI)"
   ]
  },
  {
   "attachments": {},
   "cell_type": "markdown",
   "metadata": {},
   "source": [
    "<p style=\"text-align: center;\">Figure E3</p>"
   ]
  },
  {
   "attachments": {},
   "cell_type": "markdown",
   "metadata": {},
   "source": [
    "If the number of non-eligible accounts that are not linked to eligible accounts are known, a new maximum can easily be calculated. Intuitively, for all the money to be equally divided amongst all accounts, each account must receive an equal share of the total $GI$.  \n",
    "Let  \n",
    "$GI_{eq}$ be the $GI$ each account needs to receive.    \n",
    "$GI_{total} = |A_{GI}| * GI$\n",
    "\n",
    "$\\Rightarrow GI_{eq} = \\frac{GI_{total}}{|A|}$  \n",
    "\n",
    "This means that the total maximum money stock is equivalent to the maximum money stock where all accounts are eligible and receive $GI_{eq}$ instead of $GI$. Let the $telo$ of this new configuration be $telo_e$:  \n",
    "$M_{max} = $telo_e * |A|$, as shown in the following simulation."
   ]
  },
  {
   "cell_type": "code",
   "execution_count": null,
   "metadata": {},
   "outputs": [],
   "source": [
    "GI = 2000\n",
    "d = [(0, 0.01), (50000, 0.02), (500000, 0.05), (1000000, 0.1), (10000000, 0.5), (50000000, 0.95)]\n",
    "tu = 30\n",
    "\n",
    "N_GI = 100\n",
    "Y = 0\n",
    "L = 750\n",
    "\n",
    "tiered_sumsy = SuMSy(GI, 0, d, tu)\n",
    "\n",
    "GI_eq = GI * N_GI / (N_GI + 25)\n",
    "new_sumsy = SuMSy(GI_eq, 0, d, tu)\n",
    "\n",
    "plot_money_stock(\n",
    "    analyse_money_stock(\n",
    "        run_sumsy_simulation(tiered_sumsy,\n",
    "                            eligible_actors = N_GI,\n",
    "                            non_eligible_actors = 25, # add 25% actors with non-eligible accounts\n",
    "                            num_transactions = Y,\n",
    "                            sim_length = L,\n",
    "                            model_adaptation = equal_money_distribution!,\n",
    "                            distributed = true)[1]),\n",
    "    \"Tiered Demurrage\",\n",
    "    theoretical_min = telo(GI * N_GI, d),\n",
    "    theoretical_max = telo(GI_eq, d) * (N_GI + 25))"
   ]
  },
  {
   "attachments": {},
   "cell_type": "markdown",
   "metadata": {},
   "source": [
    "<p style=\"text-align: center;\">Figure E4</p>"
   ]
  },
  {
   "attachments": {},
   "cell_type": "markdown",
   "metadata": {},
   "source": [
    "It must be noted that the money stock reaching this upper limit is an extreme case which is unlikely to occur. Indeed, figure E2 shows that the money stock is more likely to remain below the maximum level due to the fact that money is not equally distributed. The following simulation adds the non-eligible accounts without keeping the money equally distributed."
   ]
  },
  {
   "cell_type": "code",
   "execution_count": null,
   "metadata": {},
   "outputs": [],
   "source": [
    "GI = 2000\n",
    "d = [(0, 0.01), (50000, 0.02), (500000, 0.05), (1000000, 0.1), (10000000, 0.5), (50000000, 0.95)]\n",
    "tu = 30\n",
    "\n",
    "N_GI = 100\n",
    "Y = 200\n",
    "L = 750\n",
    "\n",
    "tiered_sumsy = SuMSy(GI, 0, d, tu)\n",
    "new_sumsy = SuMSy(GI * N_GI / (N_GI + 25), 0, d, tu)\n",
    "\n",
    "plot_money_stock(\n",
    "    analyse_money_stock(\n",
    "        run_sumsy_simulation(tiered_sumsy,\n",
    "                            eligible_actors = N_GI,\n",
    "                            non_eligible_actors = 25, # add 25 actors with non-eligible accounts\n",
    "                            num_transactions = Y,\n",
    "                            sim_length = L,\n",
    "                            distributed = true)[1]),\n",
    "    \"Tiered Demurrage\",\n",
    "    theoretical_min = telo(GI * N_GI, d),\n",
    "    theoretical_max = telo(GI_eq, d) * (N_GI + 25))"
   ]
  },
  {
   "attachments": {},
   "cell_type": "markdown",
   "metadata": {},
   "source": [
    "<p style=\"text-align: center;\">Figure E5</p>"
   ]
  },
  {
   "attachments": {},
   "cell_type": "markdown",
   "metadata": {},
   "source": [
    "It can be concluded that, in order to safeguard the predictability of the money stock, either the number of legal entities must be tracked, or every account must be linked to one or more individual accounts. The latter solution allows to add the balances of non-individual accounts to the balances of individual accounts and brings the money stock back to the same level as when there are only eligible accounts."
   ]
  },
  {
   "cell_type": "markdown",
   "metadata": {},
   "source": [
    "## 5 Discussion"
   ]
  },
  {
   "cell_type": "markdown",
   "metadata": {},
   "source": [
    "### 5.1 System stability"
   ]
  },
  {
   "cell_type": "markdown",
   "metadata": {},
   "source": [
    "#### 5.1.1 Money stock  \n",
    "The proposed model guarantees a bounded money stock, within predictable bounds, which scales with the number of $GI$-eligible account holders. Depending on the chosen implementation (core model, demurrage-free buffer and/or tiered demurrage), the money stock is either exactly calculable or fluctuates between calculable boundaries. Higher $GI$ increases the money stock while higher $d$ decreases it. The number of $GI$-eligible accounts is determined by the size of the population. Henceforth, $GI$, $d$, and in case a demurrage-free buffer is used, $DF$ are the two/three control parameters for the model.\n",
    "\n",
    "It has been demonstrated that the proposed model is stable under the examined stress conditions. Excess money creation and/or destruction are countered by the dynamics of the model itself, and even when these events take on a structural character, new bounds for the money stock can be calculated. The time needed before these new bounds are reached depend on $d$. Higher $d$ reduces the time of the transition period. External interventions to stabilize the model, bringing the money stock within predictable boundaries, are only needed in the extreme cases when either the amount of injected newly created money permanently increases each period, or when the constant destruction of money is higher than $|A_GI| * GI$.\n",
    "\n",
    "This is an improvement over the current post-Keynesian money supply model where the money stock is dependent on the balance between newly issued loans and the down payments on existing loans. "
   ]
  },
  {
   "cell_type": "markdown",
   "metadata": {},
   "source": [
    "#### 5.1.2 Inflation  \n",
    "Causes for inflation have all been examined within the context of the current post-Keynesian money supply model (Kandil and Morsi, 2011; Leduc et al., 2007; Lim and Sek, 2015; Nguyen et al., 2015; Njegovan and Tomaš-Simin, 2020; Rabanal, 2009). Even within this much-studied context, predicting inflation remains difficult. The inflation wave that started around July 2021 was expected to be a temporary issue that would not last long. The war between Russia and Ukraine worsened matters. Central banks raised interest rates, the standard tool against inflation. Models predicted a return to the desired 2% inflation rate within foreseeable time. Inflation did start going down, but not evenly across all sectors. January 2024 data from Statbel[^2], the Belgian statistical office, shows a wide variety of year-over-year inflation numbers that range from -51.9% for natural gas to +50.9% for fresh seafood. Economists acknowledge these are uncharted waters, and it is thus prudent to be prepared for further unexpected shocks.\n",
    "\n",
    "The proposed model introduces a whole new context. Therefore, no hard statements can be made about the exact effects of the model on inflation/deflation. However, some conclusions can be drawn and thought lines for further research can be laid down.  \n",
    "\n",
    "[^2]: Data is from January 2024. Source: https://statbel.fgov.be/en/themes/consumer-prices/consumer-price-index#:~:text=The%20decrease%20in%20general%20inflation,accounts%20for%201.31%20percentage%20points."
   ]
  },
  {
   "cell_type": "markdown",
   "metadata": {},
   "source": [
    "Three scenarios will be examined: money stock inflation, demand pull and cost push.\n",
    "\n",
    "##### I. Money stock inflation  \n",
    "With $GI$ and $d$ both fixed, inflation caused by money stock expansion cannot occur with the proposed model since the money stock is determined by these parameters. This is in contrast with the current post-Keynesian money supply model where the money stock can always be expanded, either by supplementary loans or through quantitative easing. This limits the conditions that can cause inflation, based on conclusions drawn from the formula for the velocity of money.  \n",
    "\n",
    "$V_{T} = \\frac{PL * TR}{M} \\Rightarrow PL = \\frac{M * V_{T}}{TR}$  \n",
    "\n",
    "Where:  \n",
    "\n",
    "$V_{T}$ is the velocity of money for all transactions in a given time frame.  \n",
    "$PL$ is the price level.  \n",
    "$TR$ is the number of transactions in a given time frame.  \n",
    "$M$ is the total nominal amount of money in circulation in the economy.  \n",
    "\n",
    "In the proposed model, the money stock is bounded, and can not be the cause of an increase in price level. Continuous inflation, if it occurs, must thus go hand in hand with a decrease in transactions while the velocity of money does not decline accordingly, or a stagnation of the number of transactions going hand in hand with an increase of the velocity of money. These scenarios could be caused by a supply shock where supply can no longer meet demand. However, since the operating context for economic agents, created by the proposed model, is vastly different compared to the context that exists today, no hard conclusions can be drawn on the likelihood of this situation to occur. More research is required to provide a definite answer to that question."
   ]
  },
  {
   "cell_type": "markdown",
   "metadata": {},
   "source": [
    "##### II. Demand pull  \n",
    "When demand for a product or service increases, prices for that product tend to go up. This is especially the case when demand surpasses supply. When a seller receives more net profit for the same product/service, that profit can, in the current model, be stored in an account, and a reserve can be built. However, with the proposed model, money in that reserve does not amount to the total accumulation of the extra net profit. Let $NP$ be the net profit, which is price minus cost and taxes, per sale of a product or service, and let $R$ be the surplus net profit as the result of an increase in price[^3]. A non-eligible account with a non-tiered demurrage then converges to $\\frac{NP}{d}$. With the extra profit, it converges to $\\frac{NP + R}{d}$, but only for as long as the extra profit keeps coming in. As soon as prices drop again, the account balance converges to the new, and lower, $\\frac{NP + R'}{d}$. Both buildup of monetary capital in the account and capital drain as a result of reduced profit is dependent on $d.$ Higher $d$ leads to both a faster buildup and a faster drain of monetary capital for the supplier. The result is that the best strategy for the supplier would be to invest the extra profit rather quickly. This dynamic might result in a price tempering effect, even when demand exceeds production.  \n",
    "The following simulations simulate a base scenario, with a baseline for both price and demand, a rise in demand, and a rise in both price and demand. $C$ stands for the number of customers for a supplier, $RD$ stands for real demand per customer, $FD$ stands for fulfilled demand per customer and $NP$ stands for net profit per sale.\n",
    "Three simulations are run:  \n",
    "\n",
    "(a) The 'baseline' market situation. $C = 50$, $RD = 5$, $FD = 5$ and $NP = 1$.  \n",
    "(b) An elevated demand scenario where demand can still be met, no increase in net profit per sale. $C = 100$, $RD = 5$, $FD = 5$ and $NP = 1$.  \n",
    "(c) An elevated demand scenario where demand is higher than supply, leading to an increased price and resulting net profit per sale. $C = 100$, $RD = 5$, $FD = 3$ and $NP = 2$.  \n",
    "  \n",
    "[^3]: It is assumed that an increase in supply does not increase the cost per unit, and thus that the net profit per unit increases with an increase of its price. Scenarios where production cost increases are discussed in scenario III.\n"
   ]
  },
  {
   "cell_type": "code",
   "execution_count": null,
   "metadata": {},
   "outputs": [],
   "source": [
    "GI = 2000\n",
    "d = 0.01\n",
    "tu = 30\n",
    "\n",
    "basic_sumsy = SuMSy(GI, 0, d, tu)\n",
    "\n",
    "L = 1500\n",
    "\n",
    "b_data_1 = analyse_type_wealth(\n",
    "                run_consumer_supplier_simulation(basic_sumsy,\n",
    "                                                sim_length = L,\n",
    "                                                consumers_per_supplier = 50,\n",
    "                                                fulfilled_demand = 5,\n",
    "                                                net_profit = 1,\n",
    "                                                suppliers_gi_eligible = false)[1])\n",
    "b_data_2 = analyse_type_wealth(\n",
    "                run_consumer_supplier_simulation(basic_sumsy,\n",
    "                                                sim_length = L,\n",
    "                                                consumers_per_supplier = 100,\n",
    "                                                fulfilled_demand = 5,\n",
    "                                                net_profit = 1,\n",
    "                                                suppliers_gi_eligible = false)[1])\n",
    "b_data_3 = analyse_type_wealth(\n",
    "                run_consumer_supplier_simulation(basic_sumsy,\n",
    "                                                sim_length = L,\n",
    "                                                consumers_per_supplier = 100,\n",
    "                                                fulfilled_demand = 3,\n",
    "                                                net_profit = 2,\n",
    "                                                suppliers_gi_eligible = false)[1])\n",
    "plot_type_wealth([b_data_1, b_data_2, b_data_3],\n",
    "                    [:supplier],\n",
    "                    \"Supplier Balances\",\n",
    "                    [\"B1 - C = 50, RD = 5, FD = 5, NP = 1\",\n",
    "                    \"B2 - C = 100, RD = 5, FD = 5, NP = 1\",\n",
    "                    \"B3 - C = 100, RD = 5, FD = 3, NP = 2\"])"
   ]
  },
  {
   "cell_type": "markdown",
   "metadata": {},
   "source": [
    "<p style=\"text-align: center;\">Figure R1</p>"
   ]
  },
  {
   "cell_type": "markdown",
   "metadata": {},
   "source": [
    "As can be observed in figure R1, a continuously elevated net profit does not result in a continuous increase of monetary wealth for the supplier. $B1$, which results from 50 customers buying 5 products ($FD$) per cycle at a price that results in a net profit ($NP$) of 1 per unit, is considered the baseline. At 30 cycles ($tu$) per $P$ and 50 consumers ($C$) per supplier, this results in a periodic net income ($NI$) of 7,500 (reference income). Therefore with a fixed $d$ of 1%, the reference balance $B1$ converges to 750,000. It never actually reaches this level in a finite amount of time due the asymptotic nature of the function. The resulting supplier's balance $B1$ at the end of the simulation is considered to be 100% so that the other balances can easily be compared to it.  \n",
    "With a flat demurrage fee and no demurrage-free buffers, it is expected that the resulting balances increase with the same factor as the net income ($NI$). The net income $NI$ per $P$ is calculated as $NI = C * FD * NP * tu$, where $tu$ = 30."
   ]
  },
  {
   "cell_type": "code",
   "execution_count": null,
   "metadata": {},
   "outputs": [],
   "source": [
    "b_balance_1 = b_data_1.supplier[end]\n",
    "b_balance_2 = b_data_2.supplier[end]\n",
    "b_balance_3 = b_data_3.supplier[end]\n",
    "\n",
    "println(\"C = 50, RD = 5, FD = 5, NP = 1, NI = 7,500 - Balance B1 = \"\n",
    "        * string(round(b_balance_1, digits = 2))\n",
    "        * \" = 100.0%\")\n",
    "println(\"C = 100, RD = 5, FD = 5, NP = 1, NI = 15,000 - Balance B2 = \"\n",
    "        * string(round(b_balance_2, digits = 2))\n",
    "        * \" = \"\n",
    "        * string(round(b_balance_2\n",
    "        * 100 / b_balance_1, digits = 2))\n",
    "        * \"% B1\")\n",
    "println(\"C = 100, RD = 5, FD = 3, NP = 2, NI = 18,000 - Balance B3 = \"\n",
    "        * string(round(b_balance_3, digits = 2))\n",
    "        * \" = \"\n",
    "        * string(round(b_balance_3\n",
    "        * 100 / b_balance_1, digits = 2))\n",
    "        * \"% B1\")\n"
   ]
  },
  {
   "cell_type": "markdown",
   "metadata": {},
   "source": [
    "As can be observed from the calculations above, the account balances scale with the increase in net income. However, beyond this point, no extra accumulation of profit occurs, and this new increased balance would immediately drop should either net profit per unit, or demand drop."
   ]
  },
  {
   "cell_type": "markdown",
   "metadata": {},
   "source": [
    "The following simulation applies tiered demurrage instead of flat demurrage:  \n",
    "\n",
    "| Demurrage tier | Demurrage |\n",
    "|---|---|\n",
    "| $B(a) \\lt 50.000$ | $1$% |\n",
    "| $50,000 \\lt B(a) \\lt 500,000$ | $2$% |\n",
    "| $500,000 \\lt B(a) \\lt 1,000,000$ | $5$% |\n",
    "| $1,000,000 \\lt B(a) \\lt 10,000,000$ | $10$% |\n",
    "| $10,000,000 \\lt B(a) \\lt 50,000,000$ | $50$% |\n",
    "| $50,000,000 \\lt B(a)$ | $95$% |"
   ]
  },
  {
   "cell_type": "code",
   "execution_count": null,
   "metadata": {},
   "outputs": [],
   "source": [
    "GI = 2000\n",
    "d = [(0, 0.01), (50000, 0.02), (500000, 0.05), (1000000, 0.1), (10000000, 0.5), (50000000, 0.95)]\n",
    "tu = 30\n",
    "\n",
    "tiered_sumsy = SuMSy(GI, 0, d, tu)\n",
    "\n",
    "L = 1500\n",
    "\n",
    "t_data_1 = analyse_type_wealth(\n",
    "                run_consumer_supplier_simulation(tiered_sumsy,\n",
    "                                                sim_length = L,\n",
    "                                                consumers_per_supplier = 50,\n",
    "                                                fulfilled_demand = 5,\n",
    "                                                net_profit = 1,\n",
    "                                                suppliers_gi_eligible = false)[1])\n",
    "t_data_2 = analyse_type_wealth(\n",
    "                run_consumer_supplier_simulation(tiered_sumsy,\n",
    "                                                sim_length = L,\n",
    "                                                consumers_per_supplier = 100,\n",
    "                                                fulfilled_demand = 5,\n",
    "                                                net_profit = 1,\n",
    "                                                suppliers_gi_eligible = false)[1])\n",
    "t_data_3 = analyse_type_wealth(\n",
    "                run_consumer_supplier_simulation(tiered_sumsy,\n",
    "                                                sim_length = L,\n",
    "                                                consumers_per_supplier = 100,\n",
    "                                                fulfilled_demand = 3,\n",
    "                                                net_profit = 2,\n",
    "                                                suppliers_gi_eligible = false)[1])\n",
    "plot_type_wealth([t_data_1, t_data_2, t_data_3],\n",
    "                    [:supplier],\n",
    "                    \"Supplier Balances\",\n",
    "                    [\"T1 - C = 50, RD = 5, FD = 5, NP = 1\",\n",
    "                    \"T2 - C = 100, RD = 5, FD = 5, NP = 1\",\n",
    "                    \"T3 - C = 100, RD = 5, FD = 3, NP = 2\"])\n"
   ]
  },
  {
   "cell_type": "markdown",
   "metadata": {},
   "source": [
    "<p style=\"text-align: center;\">Figure R2</p>"
   ]
  },
  {
   "cell_type": "markdown",
   "metadata": {},
   "source": [
    "As can be observed in figure R2, the resulting account balances ($T_x$) do no longer scale at the same rate as the increased net income ($NI$). This is caused by the fact that higher account balances are also subject to higher demurrage. With the demurrage tiers applied, the account balances at the end of the simulation are now as follows:"
   ]
  },
  {
   "cell_type": "code",
   "execution_count": null,
   "metadata": {},
   "outputs": [],
   "source": [
    "t_balance_1 = t_data_1.supplier[end]\n",
    "t_balance_2 = t_data_2.supplier[end]\n",
    "t_balance_3 = t_data_3.supplier[end]\n",
    "\n",
    "println(\"C = 50, RD = 5, FD = 5, NP = 1, NI = 7.500 - Balance T1 = \"\n",
    "        * string(round(t_balance_1, digits = 2))\n",
    "        * \" = 100.0%\")\n",
    "println(\"C = 100, RD = 5, FD = 5, NP = 1, NI = 15,000 - Balance T2 = \"\n",
    "        * string(round(t_balance_2, digits = 2))\n",
    "        * \" = \"\n",
    "        * string(round(t_balance_2\n",
    "        * 100 / t_balance_1, digits = 2))\n",
    "        * \"% T1\")\n",
    "println(\"C = 100, RD = 5, FD = 3, NP = 2, NI = 18,000 - Balance T3 = \"\n",
    "        * string(round(t_balance_3, digits = 2))\n",
    "        * \" = \"\n",
    "        * string(round(t_balance_3\n",
    "        * 100 / t_balance_1, digits = 2))\n",
    "        * \"% T1\")\n"
   ]
  },
  {
   "cell_type": "markdown",
   "metadata": {},
   "source": [
    "In case of tiered demurrage, the effect of increased net income ($NI$) diminishes. In the example shown in figure R2, a 2-fold increase of net revenue results in a roughly 1.5-fold increase of the account balance of the supplier, and a 2.4-fold increase in net revenue only amounts to a roughly 1.7-fold increase of the balance.  \n",
    "The main difference between the effects of raising prices in the proposed model compared with raising prices in the current money supply model is that in the former the gain in wealth is bounded while in the latter it is not. If an elevated net profit can be sustained in the current model, it results in a continuous increase in wealth. This gained wealth is retained even if net profit dropped back to previous levels. In the proposed model, neither a continuous increase in accumulated wealth occurs, nor can the gained wealth be retained when net profit drops back to previous margins.  \n",
    "\n",
    "How exactly suppliers would adjust their prices in this new context warrants further research since it is clear that the behavioral incentives are quite different from what is experienced today."
   ]
  },
  {
   "cell_type": "markdown",
   "metadata": {},
   "source": [
    "##### III. Cost push  \n",
    "When production cost goes up, this creates an incentive to raise prices. In this case, the extra revenue is immediately spent on the higher production cost. The question here is what the cause of the increased production cost would be. The increase in revenue would confront those charging higher production prices with the same dynamic as when a demand-pull occurs."
   ]
  },
  {
   "cell_type": "markdown",
   "metadata": {},
   "source": [
    "#### 5.1.3 Deflation  \n",
    "Within the context of the current post-Keynesian money supply model, deflation is to be avoided since it leads to higher debt burdens, and a slowdown of the economy, which might then lead to a crisis.\n",
    "\n",
    "With the proposed model, the effects of deflation are quite different. Saving money because it is worth more tomorrow is limited due to demurrage. Only a bounded amount of money can be saved.\n",
    "\n",
    "It is possible that, should deflation occur, existing loans can be renegotiated. For the creditor, the cost of living would go down, leading to more money being accumulated on their account unless they start increasing their expenditures. Whether this would occur in all circumstances is hard to predict. There is a reasonable possibility that deflation would lead to higher demurrage costs for the creditor, creating an opportunity for the debtor to renegotiate the terms of the loan.\n",
    "\n",
    "To determine the full effects of deflation on the economy, further research is needed."
   ]
  },
  {
   "cell_type": "markdown",
   "metadata": {},
   "source": [
    "#### 5.1.4 Slowing economy  \n",
    "In the context of our current money supply model, a slowing economy is often the forebearer of economic crises. This can be, at least partially, explained by the fact that a slowing economy reduces the incentives for investment and thus the incentive for borrowing. This in turn slows down money creation. Should the net rate of money creation through lending and money destruction through down payment on loans result in the growth of the money stock falling below the net profit accumulation rate of banks in relation to their debt assets, then there is a high likelihood that a debt crisis occurs (Kuypers et al., 2021), bringing financial instability. This dynamic has also been observed in historical research, where civilizations that implemented debt with interest always seem to end up with unpayable debts when economic growth is low (Hartley, Kallis, 2021).\n",
    "Since money creation in the proposed model is not tied to economic activity, a slowing economy poses no obvious threat to financial stability. The overall effects on the economy at large needs further research."
   ]
  },
  {
   "cell_type": "markdown",
   "metadata": {},
   "source": [
    "#### 5.1.5 Funding large projects  \n",
    "Continuous money injection, comparable to quantitative easing (QE) in the current system, over an extended period, does not lead to a continuously rising money stock. Moreover, ending money injection automatically resets the money stock to its initial level after a calculable time period. This opens the door for funding large-scale transition projects with newly created money without necessarily jeopardizing financial stability. For projects with inadequate tax funding, extra money can be created ex-nihilo. This is good news for all the urgent transition projects that are needed to limit climate change and which currently have a hard time finding the necessary funds.\n",
    "\n",
    "Since holding on to large amounts of money is expensive, it is in the interest of the contractors of these projects that they receive the money when they actually need to spend it. Thus, money creation coincides with increased production, and is therefore less likely to create inflation caused by an inflated money stock. Even if inflation should occur, it will, as demonstrated in 5.1.2, most likely be temporary.\n",
    "\n",
    "To avoid corruption, it should be made public how much money is created and how it is spent.\n",
    "\n",
    "Creating money for these projects in the current system, for example through quantitative easing, would inflate the money stock with an amount equal to the amount injected. Prolonged injection of money would eventually most likely lead to monetary instability, and very likely to inflation. As shown, this is not the case with the proposed model.  \n",
    "\n",
    "What can not be predicted without further research is exactly what happens during the period when the money stock fluctuates, either up or down."
   ]
  },
  {
   "cell_type": "markdown",
   "metadata": {},
   "source": [
    "### 5.2 Hot potato effect\n",
    "Charging demurrage at fixed intervals, for example at the end of each month, could result in a ‘hot potato’ effect. Individuals and organizations might try to get rid of excess money by paying bills early. This effect occurred in Wörgl. From 1932 to 1933, under the supervision of newly appointed mayor Michael Unterguggenberger, the town introduced a new currency based on the work of Silvio Gessell (Champ, 2008; Gessel, 1958; Svensson and Westermark, 2020). The currency implemented demurrage that is comparable to the demurrage introduced in this paper. The result was that residents started paying their taxes early in order to avoid demurrage fees on the money they were holding.\n",
    "There is a way to avoid this ‘hot potato’ effect by charging partial demurrage at the moment transactions occur. This can, for eligible accounts, be combined with partial $GI$, resulting in a partial $NGI$ at each transaction. To be practical, a minimum time interval needs to be determined for these partial charges/deposits. This could be a day, an hour or even less. The partial demurrage/$GI$ would then be calculated over the time since the last transaction.\n",
    "The first transaction occurring in this interval would then be subject to partial demurrage, and in case of eligible accounts, $GI$. Further transactions during this time interval would not be subject to partial demurrage/$GI$.\n",
    "When using this method, a new concept can be introduced, namely a virtual account balance. The virtual account balance would show the amount available for a transaction at a specific time.\n",
    "The calculation of partial demurrage/$GI$ would thus be added to/subtracted from the real account balance.\n",
    "The following simulation implements transactional demurrage and $GI$, and compares the resulting virtual money stock to the money stock of the periodic model introduced in the paper."
   ]
  },
  {
   "cell_type": "code",
   "execution_count": null,
   "metadata": {},
   "outputs": [],
   "source": [
    "GI = 2000\n",
    "d = 0.01\n",
    "tu = 30\n",
    "\n",
    "N_GI = 100\n",
    "Y = 200\n",
    "L = 150\n",
    "\n",
    "transactional_sumsy = SuMSy(GI, 0, d, tu, transactional = true)\n",
    "\n",
    "plot_money_stock(\n",
    "    analyse_money_stock(\n",
    "        run_sumsy_simulation(transactional_sumsy,\n",
    "                            eligible_actors = N_GI,\n",
    "                            num_transactions = Y,\n",
    "                            sim_length = L,\n",
    "                            distributed = true)[1]),\n",
    "        \"Transactional Demurrage\",\n",
    "    money_stock_labels = \"transactional\",\n",
    "    theoretical_max = telo(transactional_sumsy) * N_GI)"
   ]
  },
  {
   "attachments": {},
   "cell_type": "markdown",
   "metadata": {},
   "source": [
    "<p style=\"text-align: center;\">Figure D1</p>"
   ]
  },
  {
   "attachments": {},
   "cell_type": "markdown",
   "metadata": {},
   "source": [
    "It can be observed that a transactional model introduces a higher fluctuation in the money stock. This is caused by the fact that partial $GI$ and demurrage are calculated. These partial amounts are smaller and thus more affected by rounding. Calculations also happen more frequently and thus more rounding occurs. However, the total fluctuation of the money stock remains negligibly small. In the simulation depicted in figure D1, the fluctuation sits around 0.00015%.\n",
    "\n",
    "Therefore, a transactional approach to guaranteed income and demurrage is a viable option.\n",
    "\n",
    "However, a trade-off needs to be made. The smaller the minimum time interval, the smaller the calculated amounts, and thus the higher the impact of rounding. It is beyond the scope of the paper to determine what the optimal minimal time interval would be."
   ]
  },
  {
   "cell_type": "markdown",
   "metadata": {},
   "source": [
    "### 5.3 Co-existence with complementary currencies\n",
    "As mentioned in the introduction, the current use of complementary currencies is limited. This can be partially explained by the fact that most people do not see the value of adding the complexity of using multiple currencies to their life, but it also has a legal, and technical, reason. In the euro zone, the only legal currency is the euro. Taxes can only be paid in euros, and where complementary currencies are tolerated, income in these alternative currencies is converted to its value in euros, and taxed in euros.  \n",
    "The technical reason for this is that, should complementary currencies become too popular, they would threaten the stability of the current, post-Keynesian money supply model. The reasoning to support this statement goes as follows: a significant increase in the use of complementary currencies would reduce the need for Euro's, with less lending as a result. This introduces the danger of a diminishing money stock, which leads to the same, potentially destabilizing, scenario as that of a slowing economy (5.1.4).  \n",
    "\n",
    "The proposed model's stability is not jeopardized by successful complementary currencies since money creation is not dependent on lending, nor is the stability of the model dependent on the use of the currency. Therefore, currencies based on the proposed model can easily co-exist with any number of complementary currencies."
   ]
  },
  {
   "cell_type": "markdown",
   "metadata": {},
   "source": [
    "## 6 Additional thoughts, further research and action points  \n",
    "Introducing a new monetary model is a huge endeavor and not every aspect of its consequences can be covered by looking at the quantitative aspects. A monetary system has a tremendous impact on the financial system it supports and would have ripple effects through society. Therefore additional research and careful planning is needed. This section introduces a series of assumptions and thoughts that can be used as a starting point for such research and offers ideas that can form the basics of an action plan for transitioning."
   ]
  },
  {
   "cell_type": "markdown",
   "metadata": {},
   "source": [
    "### 6.1 Asset accumulation\n",
    "Within the context of our current post-Keynesian monetary system, a tax on monetary wealth would most likely lead to an accumulation of non-monetary assets, such as real-estate, gold, financial market products, ... by those who can afford it. This might also be the case with the proposed system, but the conclusion is not straightforward. A thorough study of the motivational drivers of asset accumulation within the context of the proposed model, which provides financial security whereas the current one does not, would be needed before a definite conclusion can be drawn.  \n",
    "\n",
    "Should such research indicate that excessive asset accumulation remains highly likely, then the issue could be solved by progressive wealth taxation laws. The feasibility of implementing these tax laws is beyond the scope of this paper."
   ]
  },
  {
   "cell_type": "markdown",
   "metadata": {},
   "source": [
    "### 6.2 Large money transfers  \n",
    "The existence of demurrage has an impact on the way large purchases are handled. On the one hand, it is difficult for the buyer to amass large amounts of money; on the other hand, it is not desirable for the seller to receive a large sum of money in one transaction when they cannot move it off their account before demurrage is calculated. The solution for both these issues would be to convert the transfer of large sums of money to payments over time. This is beneficial for both parties. The buyer does not need to secure a large sum of money in their account and the seller does not have to worry about moving the money as fast as possible in order to avoid demurrage.\n",
    "This introduces a dynamic where smaller transactions are executed more often, thus making money more mobile. It needs to be further examined what effect this would have on the dynamics of the market."
   ]
  },
  {
   "cell_type": "markdown",
   "metadata": {},
   "source": [
    "### 6.3 Loans  \n",
    "The nature of loans would change rather drastically. Bank loans, as they exist today, would cease to exist since money can no longer be created from debt. Peer-to-peer loans would become the default. The incentive for engaging in these types of loans is created by the proposed model itself. Individuals or organizations with excessive money on their accounts could safeguard this money from demurrage by lending it to others and getting it back later. It is even conceivable that loans with negative interest are created. If the negative interest is lower than the demurrage that would have to be paid, it is still a win for the lender.\n",
    "\n",
    "The terms on which loans are paid back might also change. Today, the payback of a loan starts from the moment the loan is taken out. However, since large money transfers are likely converted to payments over time, large loans would most likely also convert to lending over time. Immediate payback of the loan would become rather obsolete in this case and would also defeat the purpose of the lender to safeguard their money against demurrage. Therefore, postponed payback of loans could see the light of day. These types of loans could, for example, become part of pension plan investments.\n",
    "\n",
    "Although bank loans would no longer exist in their current form, banks can play a role as intermediaries in the peer-to-peer loans, possibly combining smaller sums from several lenders into a larger loan needed by a large organization for example."
   ]
  },
  {
   "cell_type": "markdown",
   "metadata": {},
   "source": [
    "### 6.4 International trade"
   ]
  },
  {
   "cell_type": "markdown",
   "metadata": {},
   "source": [
    "#### 6.4.1 Exchange rates  \n",
    "Commerce between countries with their own parametrization of the proposed model requires a means to convert currencies.\n",
    "\n",
    "In today's financial markets currency exchange is done by exchange agencies that hold reserves in a range of currencies. With the proposed model that mode of operation is not advised since it would lead to a loss of currency stock. The exchange agency would need accounts for every type of currency it offers. Because the exchange agency is not an individual, it would not receive $GI$ on any of their accounts. Therefore, reserves would dwindle rapidly unless profit margins on exchanges exceed demurrage fees on every account. This could result in a high cost for currency exchange.\n",
    "\n",
    "An alternative way to implement currency exchange in the proposed model is to grant exchange agencies the power to create and destroy money according to exchange rates. Transactions would only be allowed to be executed in pairs and on the accounts of their customers. Creation of one type of currency must be paired by the destruction of another type of currency according to the going exchange rate. This would eliminate the need for currency reserves and even the necessity to hold accounts for every currency. The profit for the exchange agency is then, through this mechanism, converted in the currency of the exchange office's account which is determined by the country they are operating from.\n",
    "\n",
    "Exchange rates could be determined by the financial markets as it happens today, but, due to the fact that the money stock can be calculated, a mathematically determined exchange rate can also be introduced.\n",
    "\n",
    "Theoretically, this exchange rate could be based on the $telo$'s of the implementations. Let $telo_1$ be the $telo$ for parameters $GI_1$ and $d_1$ and let $telo_2$ be the $telo$ for parameters $GI_2$ and $d_2$. Then the exchange rate $E_{C_1 C_2}$ from $C_1$ to $C_2$ can be expressed as follows:\n",
    "\n",
    "$1 {C_1} = \\frac{telo_2}{telo_1} * C_2 \\Rightarrow E_{C_2/C_1} = \\frac{telo_2}{telo_1}$\n",
    "\n",
    "When $x * C_1$ is exchanged for $C_2$, $x * C_1$ is destroyed and $E_{C_2/C_1} * x * C_2$ is created.\n",
    "\n",
    "Another way to mathematically calculate the exchange rates between two countries would be to base it on the actual money stock $M$ divided by the number of eligible accounts, $|A_{GI}|$, since this represents the average buying power per citizen. This also takes the fluctuating money stock into account that can arise when demurrage-free buffers and/or demurrage tiers are implemented.\n",
    "\n",
    "$E_{C_2/C_1} = \\frac{\\frac{M_2}{{|A_{GI_2}|}}}{\\frac{M_1}{{|A_{GI_1}|}}}$\n",
    "\n",
    "This would result in exchange rates that follow the average buying power per country. However, none of the above methods include the effect of the speed at which the money stock reacts to changes, either through injections or removals of money, as handled in section 3. The effect of this speed on the value of a currency falls outside the scope of this paper.\n",
    "\n",
    "The question arises whether currency exchange would introduce a way to avoid high demurrage rates in one currency by converting it to another currency. If an exchange from a currency with high demurrage to a currency with low demurrage would lead to profit when that low demurrage currency is converted back into the high demurrage currency at a later point in time, then this would create an incentive for currency conversion into lower demurrage currencies. However, in both the financial market scenario and the mathematical scenario this might be avoided. In a financial market scenario, high demand in low demurrage currencies would most likely raise the price of these currencies and eliminate the financial advantage. In a mathematical scenario, these potential profit gains might be calculated and used to adjust the exchange rates in such a way that they are eliminated.  \n",
    "\n",
    "Another way to avoid demurrage evasion is through legislation. Economic actors can, through new laws, be restricted to only having accounts in their country of residence/operation and thereby be forced to receive revenue in their national currency. Determining the feasibility of such legislation is outside the scope of this paper.  \n",
    "\n",
    "It is clear that further research on this topic is necessary."
   ]
  },
  {
   "cell_type": "markdown",
   "metadata": {},
   "source": [
    "#### 6.4.2 Trade deficits/surpluses  \n",
    "Structural deficits/surpluses in international trade between countries have an effect on the money stock in both countries. Consider the following scenario:  \n",
    "\n",
    "* Country $A$ annually exports goods and services to country $B$ for a total amount of $EX_A$ in currency $C_A$.\n",
    "* Country $B$ annually exports goods and services to country $A$ for a total amount of $EX_B$ in currency $C_B$.\n",
    "* Let the exchange rate be $E_{C_A C_B}$, determined by one of the methods described in 6.3.1, so that $1 C_A = E_{C_A C_B} * C_B$.\n",
    "\n",
    "This results in a structural transfer of money between countries $A$ and $B$:  \n",
    "\n",
    "* $M_A \\rightarrow M_A + EX_A - EX_B = M_A + EX_A - \\frac{EX_B}{E_{C_A C_B}}$\n",
    "* $M_B \\rightarrow M_B + EX_B - EX_A = M_B + EX_B - E_{C_A C_B} * EX_A$  \n",
    "\n",
    "If $EX_A \\lt \\frac{EX_B}{E_{C_A C_B}}$, this transfer increases the total money stock in country $B$, while decreasing it in country $A$. Should $EX_A \\gt \\frac{EX_B}{E_{C_A C_B}}$, there is a structural transfer from country $B$ to country $A$.\n",
    "While structural international trade deficits/surpluses alter the money stock in countries, and thus can have an effect on inflation, this change is bounded by the amount of money created through $GI$ in the country with the structural deficit. The maximum amount of money that can be continuously transferred from the country with the structural deficit to the country with the structural surplus converges to the total amount of money created through $GI$. This amount can temporarily be higher, but that would eventually deplete the money stock in the country with the deficit, thereby limiting any further transfers to the amount created through $GI$ each period. This would result in an elevated money stock in the country with the surplus, and thus likely result in inflation. However, since the increase in money stock is bounded, any inflation caused by this rise in money stock would be temporary. Determining the magnitude of the inflation, and the time it would take to return to zero, requires further research."
   ]
  },
  {
   "cell_type": "markdown",
   "metadata": {},
   "source": [
    "### 6.5 Business models  \n",
    "Current business models, where businesses acquire large quantities of capital through loans that they then pay off with the income procured from production by the acquired capital, do not fit well within the proposed model. Producers of large capital assets would potentially receive large amounts at irregular intervals. In the current context, this monetary capital can either be saved or invested. The latter is still a viable option in the proposed model, but holding it in the organization's accounts would accrue demurrage costs, making it a less attractive option. Alternatives, which are a better fit with the proposed model, are either business-to-business lease contracts or product as a service contracts where the producer remains the owner of the product and takes care of any maintenance and energy costs related to it. The latter has already been applied by Thomas Rau in his RAU office in Amsterdam (Peters, 2011). In both cases, the transfer of large amounts of money would be converted into regular payments over time. The advantage for the buyer is that they do not need to have large amounts of money available for the purchase/hire. The advantage for the seller is that they do not need to deal with large sums sitting in accounts that are drained by demurrage, and they have an income stream that is far more predictable.\n",
    "This would most likely also have a positive impact on the durability and energy use of products since the cost or replacement/repairs and energy fall to the producer of the product."
   ]
  },
  {
   "cell_type": "markdown",
   "metadata": {},
   "source": [
    "### 6.6 Meaningful jobs  \n",
    "Giving everyone a net guaranteed income provides more bargaining power when looking for a job. Jobs with bad working conditions, unreasonable stress levels and toxic work environments can more readily be abandoned by employees without being too much of a financial risk. This dynamic has the potential to increase the quality and meaningfulness of jobs."
   ]
  },
  {
   "cell_type": "markdown",
   "metadata": {},
   "source": [
    "### 6.7 Entrepreneurship  \n",
    "The introduction of a net guaranteed income for all citizens could be a boost for (part-time) entrepreneurship. It would lower the financial risk of starting a business since, instead of having to be profitable, it only needs to be affordable to run it. The peer to peer lending incentive might also make it easier to acquire loans if needed."
   ]
  },
  {
   "cell_type": "markdown",
   "metadata": {},
   "source": [
    "### 6.8 Competitive market  \n",
    "When large organizations land in financial trouble, they are often rescued by governments because they provide high amounts of jobs. This creates unfair advantages for large organizations in what should be a free market. Rescuing these organizations is often seen as a better option than letting the organization go bankrupt and having many of their employees becoming dependent on unemployment benefits. However, with the proposed model, these people's income is not solely dependent on their job income. Therefore, the need to rescue these large organizations in order to preserve job security, in essence income security, for many, becomes obsolete. This levels the playing field and gives smaller players on the market a fairer chance to compete with these giants."
   ]
  },
  {
   "cell_type": "markdown",
   "metadata": {},
   "source": [
    "### 6.9 Financial markets and investing  \n",
    "Short-term capitalization, which is often the goal in current-day financial markets, does not fit well with the proposed model due to the demurrage charged on the acquired capital. Even when large amounts only sit in an account for a very short period of time before they are used for buying new financial products, they can still result in rather high demurrage costs, especially when transactional demurrage is implemented. Therefore, it is highly likely that the dynamics of financial markets would undergo changes. New investment models would probably see the light of day. One such possible investment model could be a 'postponed return' model. The idea is that an investor puts money in an investment, rather than loose it to demurrage, and gets their return on investment after several years instead of immediately. For example when they retire and their income is reduced. For this type of investment to pay off, long-term sustainable business plans would be required.\n",
    "\n",
    "When adding the optional demurrage-free buffer to the model, a new type of investment might be created: lending out parts of ones' demurrage free buffer. When (partially) lending out one's demurrage free buffer, ownership would remain with the lender and contractual options for retrieval need to be set up. This type of investment provides businesses with corporate demurrage-free buffers, which helps them build financial reserves. The incentives for engaging with this type of investment might be broader than the mostly financial incentives existing today. Businesses could offer a wide range of advantages in return or people might 'invest' in organizations they value. The exact form this would take needs to be investigated further, but it clearly creates new opportunities."
   ]
  },
  {
   "cell_type": "markdown",
   "metadata": {},
   "source": [
    "### 6.10 Government finances  \n",
    "When implementing the model, a number of questions arise around the workings and funding of the government. The most prominent one would be what type of account(s) government institutions would hold. In the core model, these would be accounts without $GI$ and with demurrage. This is prohibitive against creating financial reserves. Therefore, collection of taxes would most likely shift towards more frequent collections of smaller sums. Another solution would be to only collect taxes when expenses need to be made. This would eliminate the need for accounts and would introduce a mechanism where taxes are collected and immediately spent. Large expenditures would be hard to finance with this option. On the other hand, there exists a real possibility that large transfers of money would be converted to monetary streams over time, which would be needed to make this solution feasible.\n",
    "\n",
    "Due to the bounded nature of account balances, the proposed model might open doors for a tax system based on monetary wealth rather than on income. This could be implemented through a mechanism similar to the demurrage levied on the accounts. Two possible implementations are proposed:\n",
    "\n",
    "(a) A fixed tax rate, collected in the same way as demurrage but deposited on government accounts rather than being destroyed. These government accounts would need to function like non $GI$ entitled accounts in order to maintain systemic integrity of the proposed model. This would result in some loss of tax money to demurrage if it sits unspent in government accounts.\n",
    "\n",
    "(b) A fixed tax rate, collected on special government accounts that are not subject to demurrage. This would allow the buildup of reserves, but also introduces potential instability to the model. Large sums of money could be accumulated this way and spent all at once into the economy, resulting is a sudden rise of the money stock. As has been shown in 3.1.1, the model would automatically correct this over time, but the sudden rise of the money stock could result in temporary inflation.  \n",
    "It could be imagined that limits would be set to these reserve accounts. When these limits are exceeded, one of two options could be implemented:  \n",
    "* The surplus money could be destroyed.\n",
    "* The surplus money could be redistributed among taxpayers. This could even be done in a proportional way where the amount one receives would be relative to the amount of taxes they paid. The amount returned would then be subtracted from the amount paid so that the calculation for the next redistribution would remain fair.  \n",
    "\n",
    "> Both options would cause some fluctuation of the money stock, but since taxes and the reserve boundaries can be managed, the level of fluctuation is both bounded and calculable.\n",
    "\n",
    "(c) On-demand taxes with an upper bound. Periodic governance cost could be determined as percentage $g$ of the total money stock, the latter being derivable from $GI$ and $d$. If a safety margin is taken into account, this periodic percentage $g$ could be set as an upper bound. Each period, up to $g * B(a)$ is transferred to the governance accounts from each account. However, only the amount needed for that period is transferred. If the safety buffer is large enough it means that every period a fraction $F$, where $0 \\le F \\le 1$, of $g * B(a)$ is transferred from each account. In that case, the governance accounts do not necessarily need to be accounts. They can be mere transfer channels from taxpayers accounts to the accounts of those doing work for the government. With a setup like this, no tax money is lost to demurrage, at least not while sitting in government accounts. This setup also avoids money stock fluctuations due to taxing.\n",
    "\n",
    "With the introduction of a net guaranteed income for all citizens, numerous costs can be cut. This is similar to what has been researched for basic income scenarios, but it goes one step further. With the proposed model, no taxes need to be collected to fund the net guaranteed income since this is the source of money creation in the proposed model."
   ]
  },
  {
   "cell_type": "markdown",
   "metadata": {},
   "source": [
    "### 6.11 Impact on sustainable economy  \n",
    "As discussed in 1, turning our economy into a system that supports both environmental and social sustainability is quite a challenge. Even green growth advocates acknowledge that achieving this goal might not be feasible within the time limits dictated by the IPCC reports. Add to that the challenge of keeping the current post-Keynesian money supply model stable, especially when considering a no-growth or even degrowth economy, and the task looks extremely daunting.\n",
    "\n",
    "The proposed model solves some of these problems and facilitates solving others.\n",
    "\n",
    "There is clearly no growth incentive present in the proposed model since its inherent functioning is not dependent on the state of the economy. Furthermore, short term capitalization and short term investments, and Therefore short term thinking, are disincentivized by the dynamics of the proposed model. Long term investments with postponed return on investment on the other hand fit very well within the proposed model and are encouraged. Combined with the incentive for lease or product as a service business models, this would at the very least nudge business models and investment schemes towards longer term planning and sustainability.\n",
    "\n",
    "The self-balancing nature of the proposed model makes it possible for governments to fund large transition projects, even when collected tax money would not be sufficient. Injecting money for the purpose of government funded sustainability projects would only have a limited effect on the money stock. Furthermore, if these projects are limited in time, that effect would be temporary. Funding these projects would not, as they would today, add to government deficits. This eliminates the budgetary restraint which currently exists for such projects and would shift the focus towards execution of these project rather than to trying to find the budget for them.\n",
    "\n",
    "The built-in net guaranteed income for everyone would eradicate extreme poverty without the need for setting up complex structures, thereby at least partially contributing towards a more just and inclusive society."
   ]
  },
  {
   "cell_type": "markdown",
   "metadata": {},
   "source": [
    "### 6.12 Comparison with Modern Monetary Theory (MMT)\n",
    "Currently MMT is a much debated alternative financing model that aims to bring full employment, financial stability and a solution to our sustainability challenge (Álvarez and Bignon, 2013; Vergnhanini and Conti, 2017; Prinz and Beck, 2021; Kelton, 2021; Olk et al., 2023). Although it is beyond the scope of the paper to make a full analytical comparison between MMT and the proposed model, proposing a new general-purpose monetary model warrants at least a high-level comparison between the two models.  \n",
    "The main difference between the two models lies in the way in which money is brought into circulation and how it is taken out of circulation. With MMT, money creation through lending is supplemented with bringing money into circulation through government spending, and money destruction through paying off bank debt is supplemented by taking money out of circulation through taxes. With the proposed model, the money creation/destruction cycle through lending and paying off loans is abandoned and replaced by creating debt-free money that is deposited on every living individual's account in the form of a guaranteed income and destroying money through demurrage fees on all existing accounts. The latter results in a more predictable money stock than what is proposed by MMT. It also puts the controls at the level of monetary policy and not, as MMT does, at the political level. Although, in all fairness, in the proposed model it is also possible to initiate money creation from the political level as explained in 5.1.5. However, this only holds true for bringing money into circulation. Taking money out of circulation is taken care of by demurrage and is governed through monetary policy and not by political decisions. This has a distinct advantage over the taxation method proposed by MMT. Monetary policy is far less prone to being influenced by lobbying groups than political decisions, and thus provides a more stable and trustworthy means of taking surplus money out of circulation.  \n",
    "Another major difference is that MMT does not provide financial security in the form of a guaranteed income, which the proposed model does.  \n",
    "Additionally, all the effects discussed above that would be caused by the combination of a guaranteed income with demurrage are either lacking from MMT or would require a complex setup that is subject to political volatility."
   ]
  },
  {
   "cell_type": "markdown",
   "metadata": {},
   "source": [
    "### 6.13 Backing  \n",
    "Money in the current post-Keynesian money supply model is backed by debt. Since money in the proposed model is created as a debt-free asset, the question of what it is backed by arises.\n",
    "\n",
    "The total size of the money stock is dependent on the number of living individuals holding $GI$ eligible accounts. Therefore, the perspective can be taken that human potential backs the money stock. Without people participating in an economy, there is no economy. Not every single person participates equally in an economy, either by choice or by circumstances, but an average participation level can be assumed. This average participation level can be seen as the backing of the average share of the money stock per person. Should the population shrink, then the logical consequence is that, with equal production means, the total output of that economy shrinks too. With the proposed model this is reflected in a shrinking money stock. The same holds true for a growing population."
   ]
  },
  {
   "cell_type": "markdown",
   "metadata": {},
   "source": [
    "### 6.14 Transitioning  \n",
    "Switching the world economy over to a new monetary system needs to be planned carefully. Although the transition path to the model proposed in this paper is not trivial and there are some caveats, it is far from impossible.\n",
    "\n",
    "The proposed model could be gradually introduced alongside the current post-Keynesian model. Currency parity is advised because it eases the transition for the general population. This currency parity can be enforced through monetary policy and legislation, and by accepting taxes in the new currency on par with the existing currency.\n",
    "\n",
    "The currently ongoing debates on Central Bank Digital Currencies might be the optimal way to introduce the model into the world economy.\n",
    "\n",
    "Introducing the model alongside the current post-Keynesian model requires a minimum set of regulation in order to make sure the models together do not create havoc. While currency parity is desirable, untethered currency exchange is not. If the money generated by the proposed model would be used to pay off new bank loans in the existing model, the current-system money stock would most likely surge to unprecedented heights.\n",
    "\n",
    "The following measures are proposed (one or more can be chosen):  \n",
    "* Money generated by the new model cannot be used to pay off bank loans.\n",
    "* Money generated by the new model cannot be used to pay off bank loans created after the introduction of the model.\n",
    "* No new bank loans can be issued.\n",
    "\n",
    "The effects of the proposed measures need to be studied further, but they all safeguard against a sudden explosion of the current-system money stock.\n",
    "Further research, small scale experiments and digital economy simulations can bring more clarity on the best transition path to take."
   ]
  },
  {
   "cell_type": "markdown",
   "metadata": {},
   "source": [
    "## 7 Conclusion  \n",
    "Although it is clear that quite a few unanswered questions remain on the table, and that further research is necessary in order to provide solid answers to these questions, the proposed model holds enough merit to warrant such research.  \n",
    "\n",
    "It has been demonstrated that the proposed model is capable of providing a solid monetary base, necessary for supporting an economy. The inherent predictability and self-stabilizing nature of the money stock within calculable boundaries, dependent on parameters that can be set through monetary policy, is a clear improvement over the unpredictable and hard to manage post-Keynesian money supply model that supports our current day economy. So is the reduction of possible causes for inflation.\n",
    "\n",
    "The self-stabilizing nature of the model allows for large, government-funded, social and sustainability projects with minor risks to monetary stability and without creating large government deficits. The question that remains to be answered is what happens to price levels in the time frame the money stock rises and falls due to the financing nature of these projects.\n",
    "\n",
    "The dynamics of the proposed model intuitively incentivize long-term thinking and sustainable business planning. This is further supported by the likely incentive for investment schemes with a postponed return on investment.\n",
    "\n",
    "The built-in net guaranteed income eradicates extreme poverty, at a minimum, and provides everyone with financial security. It gives employees better bargaining power for finding meaningful jobs with decent work conditions, thereby contributing to the overall well-being of society. The built-in financial security creates more financial breathing space for beginning entrepreneurs.\n",
    "\n",
    "Large organizations in trouble do not need to be bailed out because of the jobs they provide. Individuals can always rely on the guaranteed income provided by the model, without the cost current unemployment schemes bring with them. Because of this, the free market gives small players a chance to compete with large organizations on quality of product and service. This might enhance overall quality and innovation.\n",
    "\n",
    "Adding a demurrage-free buffer to the model potentially creates a new form of investing. Partial demurrage-free buffers can be lent out to organizations, thereby providing them with demurrage-free buffers of their own. What the return for the investor might be needs to be researched. This return might not necessarily need to be in the form of money, but could take the form of non-monetary value such as good working conditions, quality products and service, prime customer contracts, ... Especially cooperative organization structures form an ideal context for this type of investment.  \n",
    "\n",
    "It is clear that the full range of the impact of the proposed model can-not yet be known, and more research is definitely needed to fill in the unknowns. However, first conclusions indicate this could be a viable replacement for the current post-Keynesian money supply model. It provides better monetary stability, is not dependent on the state of the economy, and supports incentives to build a more sustainable economy. Central Bank Digital Currencies could provide an opportunity to introduce this model alongside the existing post-Keynesian model.\n",
    "\n",
    "Although this paper puts a very ambitious proposal on the table, which is clearly outside the boundaries of most current economic thinking, it is in our best interest to at least consider the possibilities this might create. As Nelson Mandela said in his 2001 speech: everything is impossible until it's done."
   ]
  },
  {
   "cell_type": "markdown",
   "metadata": {},
   "source": [
    "## References  \n",
    "\n",
    "Álvarez, A., Bignon, V., 2013. L. Walras and C. Menger: Two Ways on the Path of Modern Monetary Theory. The European Journal of the History of Economic Thought 20, 89–124. https://doi.org/10.1080/09672567.2011.596939\n",
    "\n",
    "Alves, I.M., 2009. Green Spin Everywhere: How Greenwashing Reveals the Limits of the CSR Paradigm. Economics, 2, 26.\n",
    "\n",
    "Banerjee, S., Gulas, C.S., Iyer, E., 1995. Shades of Green: A Multidimensional Analysis of Environmental Advertising. Journal of Advertising 24, 21–31. https://doi.org/10.1080/00913367.1995.10673473\n",
    "\n",
    "Batrancea, I., Batrancea, L., Maran Rathnaswamy, M., Tulai, H., Fatacean, G., Rus, M.-I., 2020. Greening the Financial System in USA, Canada and Brazil: A Panel Data Analysis. Mathematics 8, 2217. https://doi.org/10.3390/math8122217\n",
    "\n",
    "Bazzani, G., 2021. Digital Money for Sustainable Communities: The Sardex Case, in: Maurer, A. (Ed.), Handbook of Economic Sociology for the 21st Century, Handbooks of Sociology and Social Research. Springer International Publishing, Cham, 237–251. https://doi.org/10.1007/978-3-030-61619-9_16\n",
    "\n",
    "Borlini, L., Silingardi, S., 2021. Enforcement of Investment Arbitration Awards, in: Julien Chaisse, Leïla Choukroune, Sufian Jusoh (ed.), Handbook of International Investment Law and Policy. Springer, Singapore, 1475-1498. https://doi.org/10.1007/978-981-13-3615-7_71\n",
    "\n",
    "Bowen, A., Hepburn, C., 2014. Green Growth: an Assessment. Oxford Review of Economic Policy 30, 407–422. https://doi.org/10.1093/oxrep/gru029\n",
    "\n",
    "Calnitsky, D., 2016. “More Normal than Welfare”: The Mincome Experiment, Stigma, and Community Experience. Canadian Review of Sociology/Revue Canadienne de Sociologie 53, 26–71. https://doi.org/10.1111/cars.12091\n",
    "\n",
    "Champ, B., 2008. Stamp Scrip: Money People Paid to Use. Federal Reserve Bank of Cleveland, Economic Commentary 4/1/2008\n",
    "\n",
    "Chen, Y.-S., Chang, C.-H., 2013. Greenwash and Green Trust: The Mediation Effects of Green Consumer Confusion and Green Perceived Risk. Journal of Business Ethics 114, 489–500. https://doi.org/10.1007/s10551-012-1360-0\n",
    "\n",
    "D’Alessandro, S., Cieplinski, A., Distefano, T., Dittmer, K., 2020. Feasible Alternatives to Green Growth. Nature Sustainability 3, 329–335. https://doi.org/10.1038/s41893-020-0484-y\n",
    "\n",
    "Deutsche Bundesbank, 2017. The Role of Banks, Non-banks and the Central Bank in the Money Creation Process. Monthly Report.\n",
    "\n",
    "Dogaru, L., 2021. Green Economy and Green Growth—Opportunities for Sustainable Development, in: The 14th International Conference on Interdisciplinarity in Engineering—INTER-ENG 2020. MDPI, Mures, Romania, p. 8. https://doi.org/10.3390/proceedings2020063070\n",
    "\n",
    "Faure, M., Ma, W., 2020. Investor-state Arbitration: Economic and Empirical Perspectives. Michigan Journal of International Law, 41.1, 1. https://doi.org/10.36642/mjil.41.1.investor-state\n",
    "\n",
    "Fisher I., Cohrssen H.R.L., Fisher H.W., 1933. Stamp Scrip. New York: Adelphi.\n",
    "\n",
    "Gawthorpe K., 2019. Analysis of the Demand for the Alternative Currency WIR. International Journal of Monetary Economics and Finance 12, 1. https://doi.org/10.1504/IJMEF.2019.102953\n",
    "\n",
    "Gelleri, C., 2021. Reshaping the Future of Europe with Complementary Currencies. European Papers - A Journal on Law and Integration 2021 6, 1015–1025.\n",
    "\n",
    "Gelleri, C., Stodder, J., 2021. Chiemgauer Complementary Currency - Concept, Effects, and Econometric Analysis. International Journal of Community Currency Research 25, 75–95.\n",
    "\n",
    "Gesell, S., 1958. The Natural Economic Order. Peter Owen Ltd., London.\n",
    "\n",
    "Gómez, G.M., Knorringa, P. (Eds.), 2016. Local Governance, Economic Development and Institutions. Palgrave Macmillan UK, London.\n",
    "\n",
    "Groppa, O., 2013. Complementary Currency and its Impact on the Economy. International Journal of Community Currency Research 17, 14.\n",
    "\n",
    "Gross, M., Siebenbrunner, C., 2019. Money Creation in Fiat and Digital Currency Systems. IMF Working Papers 19.\n",
    "\n",
    "Hallegatte, S., Heal, G., Fay, M., Treguer, D., 2012. From Growth to Green Growth - a Framework (No. w17841). National Bureau of Economic Research, Cambridge, MA. https://doi.org/10.3386/w17841\n",
    "\n",
    "Hartley, T., Kallis, G., 2021. Interest-bearing Loans and Unpayable Debts in Slow-growing Economies: Insights from Ten Historical Cases. Ecological Economics 188, 107132. https://doi.org/10.1016/j.ecolecon.2021.107132\n",
    "\n",
    "Hepburn, C., Pfeiffer, A., Teytelboym, A., 2018. Green Growth - Oxford Handbooks, in: The New Oxford Handbook of Economic Geography. Oxford University Press, p. 27.\n",
    "\n",
    "Hippolyte, A.R., 2017. ICSID’s Neoliberal Approach to Environmental Regulation in Developing Countries: Lessons from Latin America. International Community Law Review 19, 401–442. https://doi.org/10.1163/18719732-12340018\n",
    "\n",
    "IPCC, 2018. Special report - Global Warming of 1.5&deg;C. https://www.ipcc.ch/sr15/\n",
    "\n",
    "IPCC, 2019. Special report - Climate Change and Land. https://www.ipcc.ch/srccl/\n",
    "\n",
    "IPCC, 2019. Special report - The Ocean and Cryosphere in a Changing Climate. https://www.ipcc.ch/srocc/\n",
    "\n",
    "IPCC, 2022, Sixth Assessment Report - Mitigation of Climate Change. https://www.ipcc.ch/report/ar6/wg3/\n",
    "\n",
    "Johnson, S., Harvey-Wilson, H., 2017. A Realist Evaluation of the Bristol Pound. Centre for Development Studies, University of Bath.\n",
    "\n",
    "Khan, M.S., Ullah, I., Tariq, A., 2021. Assumption of Jurisdiction by Pakistani Supreme Court in Reko Diq Case: Another Violation of International Investment Law.  Journal of Business and Social Review in Emerging Economies, 3(7), 649-657. https://doi.org/10.26710/jbsee.v7i3.1862\n",
    "\n",
    "Kandil, M., Morsy, H., 2011. Determinants of Inflation in GCC. Middle East Development Journal, 2(3), 141-158. https://doi.org/10.1142/s1793812011000351\n",
    "\n",
    "Kangas, O., Jauhiainen, S., Simanainen, M., Ylikännö, M., 2019. The Basic Income Experiment 2017–2018 in Finland - Preliminary Results, 34.\n",
    "\n",
    "Kelton, S., 2021. The Deficit Myth: Modern Monetary Theory and How to Build a Better Economy. John Murray, London. ISBN-13, 978-1529352528\n",
    "\n",
    "Kokabian, P., 2020. Black Currency of Middle Ages and Case for Complementary Currency. Journal of Risk and Financial Management 13, 114.\n",
    "\n",
    "Kuypers, S., Goorden, T., Delepierre, B., 2021. Computational Analysis of the Properties of Post-Keynesian Endogenous Money Systems. Journal of Risk and Financial Management 14, 335. https://doi.org/10.3390/jrfm14070335\n",
    "\n",
    "Laeven, L., Valencia, F., 2018. Systemic Banking Crises Revisited. IMF Working Papers 18, 1.\n",
    "\n",
    "Larissa, B., Maran, R.M., Ioan, B., Anca, N., Mircea-Iosif, R., Horia, T., Gheorghe, F., Ema Speranta, M., Dan, M.I., 2020. Adjusted Net Savings of CEE and Baltic Nations in the Context of Sustainable Economic Growth: A Panel Data Analysis. Journal of Risk and Financial Management 13, 234. https://doi.org/10.3390/jrfm13100234\n",
    "\n",
    "Leduc, S., Sill, K., Stark, T., 2007. Self-fulfilling Expectations and the Inflation of the 1970s: Evidence from the Livingston Survey. Journal of Monetary Economics, 2(54), 433-459. https://doi.org/10.1016/j.jmoneco.2005.08.019\n",
    "\n",
    "Lietaer, B., 2011. Complementary Currencies at Work, in: Mouatt, S., Adams, C. (Eds.), Corporate and Social Transformation of Money and Banking. Palgrave Macmillan UK, London, 160–178.\n",
    "\n",
    "Lietaer B., Arnsperger C., Goerner S. and Brunnhuber S., 2012. Money—sustainability: the Missing Link. Devon: Tri-archy Press.\n",
    "\n",
    "Lim, Y., Sek, S., 2015. An Examination on the Determinants of Inflation. Journal of Economics, Business and Management, 7(3), 678-682. https://doi.org/10.7763/joebm.2015.v3.265\n",
    "\n",
    "Lyon, T.P., Montgomery, A.W., 2015. The Means and End of Greenwash. Organization & Environment, 28, 223 - 249.\n",
    "\n",
    "Makarova, M., 2018. The Influence of Bitcoin Ecosystem on Digital Economy. Economics Ecology Socium, 3(2), 35-44. https://doi.org/10.31520/2616-7107/2018.2.3-4\n",
    "\n",
    "Marshall, A.P., O’Neill, D.W., 2018. The Bristol Pound: A Tool for Localisation? Ecological Economics 146, 273–281. https://doi.org/10.1016/j.ecolecon.2017.11.002\n",
    "\n",
    "McLeay, M., Radia, A., 2014. Money Creation in the Modern Economy. Bank of England, Quarterly Bulletin 14.\n",
    "\n",
    "Meadows, D.H., Club of Rome (Eds.), 1972. The Limits to Growth: A Report for the Club of Rome’s Project on the Predicament of Mankind. Universe Books, New York.\n",
    "\n",
    "Miles, W., Lawry-White, M., 2019. Arbitral Institutions and the Enforcement of Climate Change Obligations for the Benefit of all Stakeholders: The Role of ICSID. ICSID Review - Foreign Investment Law Journal siy019. https://doi.org/10.1093/icsidreview/siy019\n",
    "\n",
    "Nabilou, H., 2021. Bitcoin Governance as a Decentralized Financial Market Infrastructure. Stanford Journal of Blockchain Law & Policy, 4, 2. https://stanford-jblp.pubpub.org/pub/bitcoin-governance\n",
    "\n",
    "Nayan, S., Kadir, N., Abdullah, M.S., Ahmad, M., 2013. Post Keynesian Endogeneity of Money Supply: Panel Evidence. Procedia Economics and Finance 7, 48–54.\n",
    "\n",
    "Nerurkar, P., Patel, D., Busnel, Y., Ludinard, R., Kumari, S., Khan, M. K., 2021. Dissecting Bitcoin Blockchain: Empirical Analysis Of Bitcoin Network (2009–2020). Journal of Network and Computer Applications, (177), 102940. https://doi.org/10.1016/j.jnca.2020.102940\n",
    "\n",
    "Nguyen, A., Dridi, J., Unsal, D., Williams, O., 2015. On the Drivers of Inflation in Sub-Saharan Africa. IMF Working Paper, 189(15), 1.` https://doi.org/10.5089/9781513583013.001\n",
    "\n",
    "Nikiforos, M., Zezza, G., 2017. Stock-flow Consistent Macroeconomic Models: a Survey. Journal of Economic Surveys 31, 1024–1239.\n",
    "\n",
    "Njegovan, N., Tomaš-Simin, M., 2020. Inflation and Prices of Agricultural Products. Economic Themes, 2(58), 203-217. https://doi.org/10.2478/ethemes-2020-0012\n",
    "\n",
    "Nordhaus, W., 2015. Climate Clubs: Overcoming Free-riding in International Climate Policy. American Economic Review 105, 1339–1370. https://doi.org/10.1257/aer.15000001\n",
    "\n",
    "OECD, 2011. ‘Towards Green Growth’ https://www.oecd.org/greengrowth/ 48012345.pdf\n",
    "\n",
    "OECD, 2012. OECD Environmental Outlook to 2050: The Consequences of Inaction, Paris, Organization\n",
    "for Economic Cooperation and Development. https://www.oecd.org/g20/topics/energy-environment-green-growth/oecdenvironmentaloutlookto2050theconsequencesofinaction.htm\n",
    "\n",
    "Olk, C., Schneider, C., Hickel, J., 2023. How to Pay for Saving the World: Modern Monetary Theory for a Degrowth Transition. Ecological Economics 214, 107968. https://doi.org/10.1016/j.ecolecon.2023.107968\n",
    "\n",
    "Osterkamp, R., 2013. The Basic Income Grant Pilot Project in Namibia: A Critical Assessment. Basic Income Studies 8. https://doi.org/10.1515/bis-2012-0007\n",
    "\n",
    "Pauwelyn, J., 2015. The Rule of Law without the Rule of Lawyers? Why Investment Arbitrators are from Mars, Trade Adjudicators from Venus. American Journal of International Law, 4(109), 761-805. https://doi.org/10.5305/amerjintelaw.109.4.0761\n",
    "\n",
    "Peters, T., 2011. Ecology Beyond Buildings - Performance-Based Consumption and Zero-Energy Research: RAU Architects. Architectural Design 81, 124–129. https://doi.org/10.1002/ad.1330\n",
    "\n",
    "Peterson K. O., 2021. Digital Finance, Green Finance and Social Finance: Is There a Link? SSRN. https://doi.org/10.2139/ssrn.3786881\n",
    "\n",
    "Rabanal, P., 2009. Inflation Differentials Between Spain and The Emu: A DSGE Perspective. Journal of Money Credit and Banking, 6(41), 1141-1166. https://doi.org/10.1111/j.1538-4616.2009.00250.x\n",
    "\n",
    "Ram, A. J., 2019. Bitcoin as a New Asset Class. Meditari Accountancy Research, 1(27), 147-168. https://doi.org/10.1108/medar-11-2017-0241\n",
    "\n",
    "Sornarajah, M., 2003. The Clash of Globalizations and the International Law on Foreign Investment: The Simon Reisman Lecture in International Trade Policy. Canadian Foreign Policy Journal 10, 1–20. https://doi.org/10.1080/11926422.2003.9673321\n",
    "\n",
    "Svensson, R., Westermark, A., 2020. Renovatio Monetae: When Gessell Taxes Worked. International Economic Review 61, 821–846. https://doi.org/10.1111/iere.12441\n",
    "\n",
    "TerraChoice, 2009. The Seven Sins of Sreenwashing. Ottawa, ON: TerraChoice Environmental Marketing Inc.\n",
    "\n",
    "TerraChoice, 2010. The Sins of Greenwashing. Ottawa, ON: TerraChoice Environmental Marketing Inc.\n",
    "\n",
    "Torres Rojas, G.M., 2019. The ICSID System: is it Broken or it has to be Reformed. European Journal of Economics, Law and Social Sciences 3, 56–67.\n",
    "\n",
    "United Nations Environment Programme (2022). Emissions Gap Report 2022: The Closing Window — Climate crisis calls for rapid transformation of societies. Nairobi. https://www.unep.org/emissions-gap-report-2022\n",
    "\n",
    "Vallet, G., 2018. The Importance of Cross-fertilisation between Economics and Sociology to Investigating Monetary Issues: the Case of Swiss WIR Currency. International Journal of Pluralism and Economics Education 9, 406–424.\n",
    "\n",
    "Vergnhanini, R., & De Conti, B. (2017). Modern Monetary Theory: A Criticism from the Periphery. Brazilian Keynesian Review, 3(2), 16-31. https://doi.org/10.33834/bkr.v3i2.115\n",
    "\n",
    "Werner, R.A., 2014. Can Banks Individually Create Money out of Nothing? — The Theories and the Empirical Evidence. International Review of Financial Analysis 36, 1–19.\n",
    "\n",
    "Werner, R.A., 2016. A Lost Century in Economics: Three Theories of Banking and the Conclusive Evidence. International Review of Financial Analysis 46, 361–379.\n",
    "\n",
    "You, Y., 2022. Application of Mediation Mechanism in International Investment Dispute Settlement. BCP Business and Management, (30), 332-339. https://doi.org/10.54691/bcpbm.v30i.2446\n"
   ]
  }
 ],
 "metadata": {
  "kernelspec": {
   "display_name": "Julia 1.10.4",
   "language": "julia",
   "name": "julia-1.10"
  },
  "language_info": {
   "file_extension": ".jl",
   "mimetype": "application/julia",
   "name": "julia",
   "version": "1.10.4"
  }
 },
 "nbformat": 4,
 "nbformat_minor": 4
}
