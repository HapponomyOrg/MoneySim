{
 "cells": [
  {
   "cell_type": "markdown",
   "metadata": {},
   "source": [
    "# Comparative systemic analysis between a money supply model with built-in financial security and the post-Keynesian money supply model"
   ]
  },
  {
   "cell_type": "markdown",
   "metadata": {},
   "source": [
    "## Abstract\n",
    "Complementary currencies have been studied at length (Fisher et al., 1933; Lietaer, 2011; Groppa, 2013; Gómez and Knorringa, 2016; Vallet, 2018; Gawthorpe, 2019; Kokabian, 2020; Gelleri, 2021; Gelleri and Stodder, 2021). They, by definition, co-exist with the dominating currency system. The current post-Keynesian based currency system (Nayan et al., 2013; McLeay et al., 2014; Werner, 2014, 2016; Deutsche Bundesbank, 2017; Gross and Sienenbrunner, 2019) has stability requirements which seem to be in conflict with a sustainable economy (Lietaer et al., 2012; Kuypers et al., 2021) and has been subjected to numerous monetary crises (Laeven and Valencia, 2018). The question poses itself whether a viable replacement can be constructed which avoids the shortcomings of the post-Keynesian money supply model and which is more suitable to support an economy geared towards sustainability.\n",
    "\n",
    "It is the goal of this paper to present such an alternative and compare it to the post-Keynesian money supply model. The core goals of the design are:\n",
    "* Simple and adequate core design: the design of model should be as simple as it can be without sacrificing functionality.\n",
    "* Self-contained and systemically self-stabilizing: all parameters necessary for controlling the model must be clearly defined and the boundaries of the model must be clear.\n",
    "* Able to support a global economy.\n",
    "* Incentivize sustainable economic practices.\n",
    "\n",
    "The constructed money supply model combines a built-in basic income, for which money is created as a debt free asset, with demurrage, comparable with the fees levied on stamp scrip money (). Demurrage serves as a mechanism to control the money stock. To test systemic stability, a Stock Flow Consistent (SFC) computer simulation (Nikiforos and Zezza, 2017) is implemented. The computer simulation is then subjected to the following scenarios for analysis and stress testing:\n",
    "* Large injections of money in the money stock.\n",
    "* Loss of money from the money stock caused by external events.\n",
    "* Analysis of a single account in a variety of contexts.\n",
    "\n",
    "The long-term effects of these scenarios are simulated and a comparison for stability is done with the computer simulation presented in Kuypers et al. (2021). Finally, optional adjustments to the model are discussed along with the assumed sustainability effects of the model on a macroeconomic scale. These effects are then compared with the effects of a post-Keynesian money supply model.\n",
    "\n",
    "It can be concluded that the presented model is more suitable to support a sustainable economy than the current, post-Keynesian, model is. This is mainly caused by demurrage prohibiting hoarding and thus disincentivizing short term capitalization. This leads to a higher focus on long term planning, which is a better basis for sustainable business practices. Demurrage combined with the built-in basic income reduces wealth inequality and gives employees better bargaining power for meaningful jobs. The model is also self stabilizing and therefore more resilient to large economic shocks like a global pandemic. Furthermore, it makes it easier to fund large scale projects such as an energy transition and implementing climate change measures."
   ]
  },
  {
   "cell_type": "markdown",
   "metadata": {},
   "source": [
    "## 1 Introduction\n",
    "The Corona pandemic has sent shockwaves through the economic fabric of the society we live in. Not only did the economy come to a grinding halt in the beginning of it, the frequent lockdowns lead to disturbances of several of our supply lines, governments have been racking up debts in order to support businesses and workers and central banks have engaged in an amount of quantitative easing (QE) history has never seen before. It was expected that the state of the economy would return to normal again once the pandemic would turn into something that was predictable and manageable. Things turned out differently. Supply chains under stress, high inflation, which was assumed to be temporary, and an unexpected war between Russia and Ukraine have painted a different outcome. Central banks are raising interest rates with the goal to temper inflation, but the effects on the economy are uncertain. Will this lead to a slowdown of our economy and maybe to a much feared stagflation? What if the economy "
   ]
  },
  {
   "cell_type": "markdown",
   "metadata": {},
   "source": [
    "## 2 Methodology\n",
    "A new money supply model is constructed from the ground up. First a mathematical description of the model is presented from which its deducible aspects are derived. Then a Stock-Flow Consistent SFC computational, agent based model is constructed for systemic stability testing under various scenarios. Systemic stability of the model is defined as having a predictable and bounded money stock which can be deduced from the parameters of the model, regardless of the actions of the agents in the simulation. After determining the conditions in which systemic stability is achieved, simulations with potentially destabilizing scenarios are executed and analyzed.\n",
    "It is then compared with the post-Keynesian money supply model simulation in Kuypers, 2021."
   ]
  },
  {
   "cell_type": "markdown",
   "metadata": {},
   "source": [
    "## 3 Model description\n",
    "### 3.1 Core model\n",
    "The core money supply model is constructed so that each cycle a predictable amount of new money is created and a predictable amount of money is destroyed. Creation happens by depositing a fixed guaranteed income on each eligible account. Each living individual holds exactly one eligible account. Destruction of money happens by charging demurrage on each existing account and destroying the amount charged.\n",
    "\n",
    "#### 3.1.1 Variables\n",
    "* $a$: An individual account. Accounts can be active or inactive. Active accounts take part in inter account transactions, inactive accounts do not.\n",
    "* $A_a$: The collection of all active accounts.\n",
    "* $A_i$: The collection of all inactive accounts.\n",
    "* $tu$: An atomic time unit which defines the time granularity of the model.\n",
    "* $P$: A time period which is used as a cyclic unit. Each $P$ does not necessarily consist of the same amount of $tu$. This is the case if, for example, $P$ is one month.\n",
    "* $L_x$: The number of $tu$ in a period $P_x$.\n",
    "* $GI$: The amount of money which is created ex-nihilo and deposited on each account at the beginning of each $P_x$.\n",
    "* $d$: Demurrage percentage charged at the end of each $P_x$.\n",
    "* $A_{GI}$: All $GI$ entitled accounts. Living individuals have exactly one account which is entitled to receive $GI$.\n",
    "* $M_t$: The money stock available at time $t$.\n",
    "\n",
    "#### 3.1.2 Functions\n",
    "* $B_t(a)$: The balance on account $a$ at time $t$.\n",
    "* $T(x)$: Time at the start of $P_x$\n",
    "* $\\forall x \\in \\mathbb{N}, WA_x(a)$ = $\\frac{\\sum_{n = 0}^{L_x - 1}B_{T(x)+n}(a)}{L_x}$: Weighted average balance of account $a$ over $P_x$.\n",
    "* $\\forall x \\in \\mathbb{N}, D_x(a)$ = $d WA_x(a)$: The demurrage amount charged over $P_x$.\n",
    "\n",
    "#### 3.1.3 Dynamics of the model\n",
    "$\\forall x, {x_i}_{0}^{\\inf} = {i}$\n",
    "\n",
    "(1) $\\forall x \\gt 0, \\forall a, B(a)_{T(x)} \\rightarrow B(a)_{T(x)} - D_{x-1}$\n",
    "\n",
    "(2) $\\forall a \\in A, B(a)_{T(x)} \\rightarrow B(a)_{T(x)} + GI$\n",
    "\n",
    "Steps 1 and 2 are executed as an atomic pair. No other transactions between accounts can occur between these steps. This results in a net $GI$ ($NGI$) which can be negative when $D_{x-1} \\gt GI$.\n",
    "\n",
    "The following conclusions can be drawn:\n",
    "\n",
    "(1) $\\forall a \\in A_{GI} \\cap A_i, \\lim_{t \\to \\inf}B_t(a) = \\frac{GI}{d}$\n",
    "\n",
    "(2) $\\forall a \\in A_i - A_{GI}, \\lim_{t \\to \\inf}B_t(a) = 0$\n",
    "\n",
    "(3) $\\lim_{t\\to \\inf}M_t$ = $|A_{GI}| * \\frac{GI}{d}$\n",
    "\n",
    "Conclusion (3) holds regardless of transactions occurring between accounts. Transactions redistribute money among the accounts. There are 2 extreme cases:\n",
    "\n",
    "(a) All money is equally distributed, resulting in (3) being trivial.\n",
    "\n",
    "(b) All money is pooled into one account $a_m$. For this to happen, every cycle, right after $GI$ is deposited, a transfer of all $GI$ to $a_m$ must occur. This would be the equivalent of having only one $GI$ entitled account $a_m$ with a $GI_m = |A_{GI}| * GI$. No outgoing transactions can occur, and thus the account can be treated as an inactive account with $GI = GI_m$.\n",
    "\n",
    "$\\Rightarrow \\lim_{t \\to \\inf}B_t(a_m) = \\frac{GI_m}{d} = \\frac{|A_{GI}| * GI}{d} = \\lim_{t\\to \\inf}M_t$ \n",
    "\n",
    "(4) All account balances are bounded. Let $I_x$ be the net average income over $P_x$ on top of $GI$.\n",
    "\n",
    "$I_x = \\frac{\\sum_{n = 1}^{L_x - 1}B_n - B_{n-1}}{L_x}$\n",
    "\n",
    "$\\forall x \\in \\mathbb{N}, I_x constant \\Rightarrow \\lim_{t \\to \\inf}B_t(a) = \\frac{(GI + I_x)}{d}$\n",
    "\n",
    "Let $I_{min}$ be the minimum average net income and $I_{max}$ the maximum average net income for account $a_n$\n",
    "\n",
    "$\\Rightarrow \\forall x \\in \\mathbb{N}, \\frac{(GI + I_{min})}{d} \\le \\lim_{t \\to \\inf}B_t(a_n) \\le \\frac{(GI + I_{max})}{d}$\n",
    "\n",
    "(5) $d$ determines how fast account near their bounds. The higher $d$, the faster this happens."
   ]
  },
  {
   "cell_type": "markdown",
   "metadata": {},
   "source": [
    "## 4 Impact\n",
    "The way the model is designed introduces a whole new range of monetary dynamics.\n",
    "\n",
    "### 4.1 Money stock\n",
    "The new model guarantees a predictable and stable money stock which scales with the number of $GI$ entitled account holders.\n",
    "\n",
    "If it is assumed that the size of an economy is related to the number of participants in that economy then it can be concluded that the size of the money stock is adaptive to the size of the economy it supports. This is especially the case for what is called 'the real economy' since people can not consume an infinite amount of goods and services and therefore the individual consumption volume is bounded. The upper bound is determined by the maximum consumption capacity of an individual.\n",
    "\n",
    "### 4.2 Inflation\n",
    "Causes for inflation have all been examined within the context of the current post-Keynesian money supply model. The dynamics of the proposed model are quite different from that model and therefore the need arises to re-examine these causes through the lens of the dynamics of the proposed model. What follows is meant to serve as a first thought exercise with the purpose to create a basis for further research:\n",
    "* Money stock: inflation caused by money stock expansion can not occur with the proposed model since the money stock is both bounded and predictable.\n",
    "* Demand-pull: when demand for a product or service is higher than what is available on the market, prices for that product go up. When a seller receives more money for the same product/service, that money can currently be stored in an account and a reserve can be built. However, with the proposed model, money in that reserve does not amount to the total accumulation of the extra net revenue. If all the extra net revenue per $P$ ($R$) were to be stored in a separate reserve account, that account's balance would converge to $\\frac{R}{d}$ and only for as long as the extra revenue keeps coming in. As soon as prices drop, the account would converge to the new, and lower, $\\frac{R}{d}$. Both buildup of monetary capital in the account as capital drain as a result of reduced revenue is dependent on $d$. Higher $d$ leads to both a faster buildup and a faster drain. The result of this is that the best strategy would be to invest the extra revenue rather quickly. This dynamic could result in a price tempering effect, even when demand exceeds production.\n",
    "* Cost-push: when production cost goes up, this creates an incentive to raise prices. In this case, the extra revenue is immediately spent on the higher production cost. The question here is what the cause of the increased production cost would be. The increase in revenue for the ones charging higher production prices would be confronted with the same dynamic as when a demand-pull occurs.\n",
    "\n",
    "### 4.3 Business models\n",
    "Current business models, where businesses acquire large quantities capital through loans which they then pay off with the income procured from production by the acquired capital, do not fit well within the proposed model. Producers of large capital assets would potentially receive large amounts at irregular intervals. In the current context that monetary capital can either be saved or invested. The latter is still a viable option in the proposed model but holding it in the companies' accounts would accrue demurrage costs, making it a less attractive option. Alternatives, which are a better fit with the proposed model, are either business to business lease contracts or product as a service contracts. In both cases the transfer of large amounts of money would be converted to regular payments over time. The advantage for the buyer is that they do not need to have large amounts of money available for the purchase/hire. The advantage for the seller is that they do not need to deal with large sums sitting in accounts that are drained by demurrage.\n",
    "\n",
    "### 4.4 Financial markets\n",
    "Short term capitalization, which is often the goal in current day financial markets, does not fit well with the proposed model due to the demurrage charged on the acquired capital. Even when large amounts only sit in an account for a very short period of time before they are used to buying new financial products, they can still result in rather high demurrage costs. Therefore, it is highly likely that the dynamics of financial markets would undergo large changes. New investment models would probably see the light of day. One such possible investment model could be a 'postponed return' model. The idea is that an investor puts money in an investment, rather than loose it to demurrage, and gets their return on investment after several years. For example when they retire and their income is reduced.\n",
    "\n",
    "### 4.5 Government finances\n",
    "When using the model for government purposes, a number of questions arise. The most prominent one would be what type of account(s) government agencies would hold. In the core model these would be accounts without $GI$ and with demurrage. This is prohibitive against creating financial reserves. Therefore, a better alternative would be to collect taxes more often but in smaller amounts.\n",
    "Due to the bounded nature of account balances, the proposed model might open doors for a tax system based on monetary wealth rather than on income. This could be implemented through a mechanism similar to the demurrage levied on the accounts. Two possible implementations are proposed:\n",
    "\n",
    "(1) A fixed tax rate, collected in the same way as demurrage but deposited on government accounts rather than being destroyed. These government accounts would need to function like non $GI$ entitled accounts in order to maintain systemic integrity of the proposed model. This would result in some loss of tax money to demurrage if it sits unspent in government accounts.\n",
    "\n",
    "(2) On demand taxes with an upper bound. Monthly governance cost could be determined as percentage $g$ of the total money stock, which is calculable and known. If a safety margin is taken into account, this monthly percentage $g$ could be set as an upper bound. This means that each month, from each account $a$, up to $g * B(a)$ is transferred to the governance accounts. However, only the amount needed for that month is transferred. If the safety buffer is large enough it means that every month a fraction $F$, where $0 \\le F \\le 1$ of $g * B(a)$ is transferred from each account. In that case the governance accounts do not necessarily need to be accounts. They can be mere transfer channels from taxpayer's accounts to the accounts of those doing work for the government. With a setup like this, no tax money is lost to demurrage, at least not while sitting in government accounts."
   ]
  },
  {
   "cell_type": "markdown",
   "metadata": {},
   "source": [
    "## 5 Model expansion\n",
    "The core model can be expanded in order to address some issues.\n",
    "\n",
    "### 5.1 Demurrage free buffers\n",
    "To every $GI$ entitled account a demurrage free buffer ($DF$) can be added. In that case, demurrage is only charged on the amount above this $DF$. In itself this might not be considered as a valuable addition to the model, but it can be used as a means to provide businesses with accounts in which they can store demurrage free capital.\n",
    "For that purpose, the $DF$ needs to be lendable to others. Any individual, holding a $GI/DF$ eligible account, is allowed to borrow the whole or parts of the $DF$ to others. The control of these borrowed fractions of $DF$ remain under the original account holder, who can retract them again. This could be regarded as a new type of investment. Instead of investing money, demurrage free buffers are provided to organizations. More research is required to determine the exact framework and consequences of this type of investment.\n",
    "\n",
    "Adding $DF$ to the model does have an effect on $M$. The extreme case where all money pools into one account (1) allows for a smaller money stock than the case where all money is divided equally (2).\n",
    "\n",
    "(1) $M_{min} = \\lim_{t \\to \\inf} M_t = \\frac{|A_{GI}| * GI}{d} + DF$\n",
    "\n",
    "(2) $M_{max} = \\lim_{t \\to \\inf} M_t = \\frac{|A_{GI}| * GI}{d} + |A_{GI}| * DF$\n",
    "\n",
    "This causes fluctuations in the money stock dependent on the distribution of money.\n",
    "\n",
    "### 5.2 Tiered demurrage\n",
    "Rather than having a flat demurrage rate, tiered demurrage can be added to the model, similar to income tax brackets. \n",
    "\n",
    "### 5.3 Repurposing of demurrage\n",
    "Instead of destroying the money collected through demurrage, it could also be repurposed as tax money. However, to keep the money stock bounded, money would still need to be destroyed. In the case of repurposing demurrage as tax money that would happen when the available budget exceeds the costs of governance. The surplus would be destroyed. In effect, all money which is not immediately spent would be destroyed.\n",
    "This does make the money stock less predictable, however. \n",
    " "
   ]
  },
  {
   "cell_type": "markdown",
   "metadata": {},
   "source": [
    "## 6 Stress scenarios"
   ]
  },
  {
   "cell_type": "markdown",
   "metadata": {},
   "source": [
    "## 7 Discussion\n"
   ]
  },
  {
   "cell_type": "markdown",
   "metadata": {},
   "source": [
    "## References\n",
    "Deutsche Bundesbank, 2017. The role of banks, non-banks and the central bank in the money creation process. Monthly Report.\n",
    "\n",
    "Fisher I., Cohrssen H.R.L. and Fisher H.W., 1933. Stamp Scrip. New York: Adelphi.\n",
    "\n",
    "Gawthorpe K., 2019. Analysis of the Demand for the Alternative Currency WIR. IJMEF 12, 1.\n",
    "\n",
    "Gelleri, C., 2021. Reshaping the Future of Europe with Complementary Currencies. European Papers - A Journal on Law and Integration 2021 6, 1015–1025.\n",
    "\n",
    "Gelleri, C., Stodder, J., 2021. Chiemgauer Complementary Currency - Concept, Effects, and Econometric Analysis. International Journal of Community Currency Research (IJCCR) 25, 75–95.\n",
    "\n",
    "Gómez, G.M., Knorringa, P. (Eds.), 2016. Local Governance, Economic Development and Institutions. Palgrave Macmillan UK, London.\n",
    "\n",
    "Groppa, O., 2013. COMPLEMENTARY CURRENCY AND ITS IMPACT ON THE ECONOMY. International Journal ofCommunity Currency Research 17, 14.\n",
    "\n",
    "Gross, M., Siebenbrunner, C., 2019. Money Creation in Fiat and Digital Currency Systems. IMF Working Papers 19.\n",
    "\n",
    "Kokabian, P., 2020. Black Currency of Middle Ages and Case for Complementary Currency. JRFM 13, 114.\n",
    "\n",
    "Kuypers, S., Goorden, T., Delepierre, B., 2021. Computational Analysis of the Properties of Post-Keynesian Endogenous Money Systems. JRFM 14, 335.\n",
    "\n",
    "Laeven, L., Valencia, F., 2018. Systemic Banking Crises Revisited. IMF Working Papers 18, 1.\n",
    "\n",
    "Lietaer, B., 2011. Complementary Currencies at Work, in: Mouatt, S., Adams, C. (Eds.), Corporate and Social Transformation of Money and Banking. Palgrave Macmillan UK, London, pp. 160–178.\n",
    "\n",
    "Lietaer B., Arnsperger C., Goerner S. and Brunnhuber S., 2012. Money—sustainability: the missing link. Devon: Tri- archy Press.\n",
    "\n",
    "McLeay, M., Radia, A., 2014. Money creation in the modern economy. Bank of England, Quarterly Bulletin 14.\n",
    "\n",
    "Nayan, S., Kadir, N., Abdullah, M.S., Ahmad, M., 2013. Post Keynesian Endogeneity of Money Supply: Panel Evidence. Procedia Economics and Finance 7, 48–54.\n",
    "\n",
    "Nikiforos, M., Zezza, G., 2017. Stock-flow Consistent Macroeconomic Models: a Survey. Journal of Economic Surveys 31, 1024–1239.\n",
    "\n",
    "Vallet, G., 2018. The importance of cross-fertilisation between economics and sociology to investigating monetary issues: the case of Swiss WIR currency. International Journal of Pluralism and Economics Education 9, 406–424.\n",
    "\n",
    "Werner, R.A., 2014. Can banks individually create money out of nothing? — The theories and the empirical evidence. International Review of Financial Analysis 36, 1–19.\n",
    "\n",
    "Werner, R.A., 2016. A lost century in economics: Three theories of banking and the conclusive evidence. International Review of Financial Analysis 46, 361–379."
   ]
  },
  {
   "cell_type": "markdown",
   "metadata": {},
   "source": [
    "Summary of main points:\n",
    "* SuMSy has no debt in the sense of bank debt. How to look at contracts for large purchases such as houses? The contract in itself holds value but is not in the hands of a bank. It is shared between the buyer and the seller. Legal clauses for defaults need to be looked at. The buyer can resell the property before the full amount has been paid. This results in a new contract where the original is continued so that the original seller still receives the benefits of the contract, unless they want to renegotiate, plus a contract to settle the value of the property minus what is owed to the original seller.\n",
    "* Create an agent simulation which is comparable to the SuMSy simulation where loans are taken out in order to fill the wealth gap, if any. To do that, first generate data for the SuMSy simulation. For each agent, perform the exact same transactions (same random seed should do it) and top up 'missing' wealth with loans. This assure minimal wealth but will probably result in a higher money stock overall and more wealth concentration in the upper tiers."
   ]
  }
 ],
 "metadata": {
  "kernelspec": {
   "display_name": "Julia 1.7.2",
   "language": "julia",
   "name": "julia-1.7"
  },
  "language_info": {
   "file_extension": ".jl",
   "mimetype": "application/julia",
   "name": "julia",
   "version": "1.7.2"
  },
  "orig_nbformat": 4
 },
 "nbformat": 4,
 "nbformat_minor": 2
}
