{
 "cells": [
  {
   "cell_type": "markdown",
   "metadata": {
    "id": "bofxHrY5T7ha"
   },
   "source": [
    "Computational Analysis of the Properties of Post-Keynesian Endogenous Money Systems\n",
    "Stef Kuypers - Thomas Goorden - Bruno Delepierre"
   ]
  },
  {
   "cell_type": "markdown",
   "metadata": {
    "id": "lBb7BVCxT7hd"
   },
   "source": [
    "Abstract\n",
    "*“Money has always been something of an embarrassment to economic theory. Everyone agrees that it is important; indeed, much of macroeconomic policy discussion makes no sense without reference to money. Yet, for the most part theory fails to provide a good account for it.”*\n",
    "(Banerjee and Maskin, 1996, p. 955)\n",
    "\n",
    "The debate about whether or not a growth imperative exists in debt based, interest bearing monetary systems has not yet been settled. It is the goal of this paper to introduce a new perspective in this discussion.\n",
    "\n",
    "For that purpose an SFC computational model is constructed which simulates a post Keynesian Endogenous Money system without including economic parameters such as production, wages, consumption and savings. A case is made that isolating the monetary system allows for better analysis of the inherent properties of such a system.\n",
    "\n",
    "Based on the output of simulations using the constructed model, a mathematical analysis is executed to determine the dominant parameters and the stability requirements of the model.\n",
    "\n",
    "The analysis shows that stability of the model is dependent on net bank profit ratios, expressed relative to their debt assets, remaining below the growth rate of the money stock. Based on these findings it is argued that the question about the existence of a growth imperative in debt based, interest bearing monetary systems needs to be reframed. The question becomes whether a steady state economy can support such a system without destabilizing it.\n",
    "\n",
    "It is concluded that there are indications that this might not be the case. However, for a definite answer more research is necessary. Real world observable data should be analysed through the lens of the presented model to bring more clarity."
   ]
  },
  {
   "cell_type": "markdown",
   "metadata": {
    "id": "iKT5Eqz7T7he"
   },
   "source": [
    "# Introduction\n",
    "This paper focuses on an analysis of a computational stock and flow consistent (SFC)  model based on post Keynesian endogenous money supply theory. This theory, which states that money is created by banks when issuing loans, has started to be more widely accepted since the publication by the Central Bank of England (McLeay and Radia, 2014). It has later been backed by the European Central Bank (ECB, 2015) and the Deutsche Bundesbank (Deutsche Bundesbank, 2017). Empirical evidence has been found by different authors. A. Werner   (Werner 2014, 2016) traced a loan through the computers of a real bank and observed the creation of deposits without any transfer of funds. Nayan et al. published a paper (Nayan et al., 2013) where the use of dynamic panel data analysis with data from 177 countries came to the conclusion that money is created endogenously in the economy through loans.\n",
    "\n",
    "Although SFC models have been extensively used to support macroeconomic theories (Lavoie and Godley, 2002, Godley, 2004, Caiani et al., 2016), no SFC models have been found which fully separate the monetary system from the rest of the economy. At the same time there is a disagreement between ecological economists and others about the existence of an inherent growth imperative in debt based, interest bearing monetary systems  (Lietaer et al., 2012, Arnsperger et al., 2021) or the absence of such an inherent growth imperative (Jackson and Victor, 2015, Cahen-Fourot and Lavoie, 2016, Richters and Siemoneit, 2017). \n",
    "\n",
    "All reviewed models include economical parameters such as production, wages and consumption while it can be argued that these are not part of the monetary system itself.\n",
    "Wages and consumption have no effect on the money stock as a whole, as money is neither created nor destroyed during this process. Money is merely moved from one actor holding an account in the aggregate money stock to another. When considering production, the production process by itself does not involve money at all when all necessary conditions - the availability of production means - are met. Money only gets involved when resources needed for production are bought, wages are paid and the final products are sold. All these operations only move money around in the aggregate money stock.\n",
    "According to post Keynesian money supply theory money creation, which goes hand in hand with debt creation, is initiated by loan demands. All papers studied analyze the incentives for these loan demands but these incentives are effectively inconsequential in order to determine the properties of the monetary system itself. The only requirement is that there is a loan demand. The incentive for this loan demand can simply be assumed. In effect, it turns out monetary systems can be studied without economic parametrization.\n",
    "\n",
    "The model presented in this paper is reduced to the minimum elements needed for a post Keynesian money supply model to be simulated: loan demand and settlement of debt. Demand for money is assumed while the precise incentive for this demand is factored out.\n",
    "\n",
    "It is assumed that a post Keynesian money supply model does not inherently lead to a growing economy. After determination of the properties of the computational model this assumption is analysed for feasibility based on the discovered properties in conjunction with a reflection on real world economic parameters."
   ]
  },
  {
   "cell_type": "markdown",
   "metadata": {
    "id": "lxEewPyUT7hf"
   },
   "source": [
    "# Methodology\n",
    "Ahis computational model has been designed so that it includes the minimum of aggregates necessary to simulate a fully functioning debt based money supply model. The aggregates are the bank sector, the aggregate of all commercial banks, and a private sector, which encompasses all households and organisations.\n",
    "\n",
    "* Bank sector:\n",
    " * Supply money on demand through private loans, thereby increasing the money stock.\n",
    " * Demand payback of outstanding private loans on predefined intervals, thereby decreasing the money stock.\n",
    "* Private sector:\n",
    " * Initiates the money supply through private loan demands.\n",
    " * Pays off outstanding private debts on predefined intervals.\n",
    "\n",
    "Balance sheet analysis is used to clarify actions executed by the simulations.\n",
    "\n",
    "A mathematical analysis is performed on the recursive functions of the model in order to arrive at an analytical solution. These solutions are tested against the output from the simulations."
   ]
  },
  {
   "cell_type": "markdown",
   "metadata": {
    "id": "tv0T_ruQT7hf"
   },
   "source": [
    "## Money creation through loans\n",
    "An increase in money stock looks as follows:\n",
    "Step 1: a loan demand is initiated from the private sector.\n",
    "Step 2: the bank sector issues the loan, resulting in the following changes to the bank’s and the private sector’s balance sheets:\n",
    "\n",
    "**Bank sector balance sheet**\n",
    "\n",
    "|**Assets**|**Liabilities**|\n",
    "|---|---|\n",
    "|+ Private debt|+ Deposits|\n",
    "\n",
    "**Private sector balance sheet**\n",
    "\n",
    "|**Assets**|**Liabilities**|\n",
    "|---|---|\n",
    "|+ Deposits|+ Private debt|"
   ]
  },
  {
   "cell_type": "markdown",
   "metadata": {
    "id": "XhhTm3FBT7hg"
   },
   "source": [
    "## Money destruction through downpayments\n",
    "A reverse operation is caused by the bank sector demanding repayment of loans from the private sector. When a loan installment is paid to the bank sector together with the accompanying interest, the following balance sheet activity is recorded:\n",
    "\n",
    "**Bank sector balance sheet**\n",
    "\n",
    "|**Assets**|**Liabilities**|\n",
    "|---|---|\n",
    "|- Private debt (Loan installment)|- Deposits (Loan installment)|\n",
    "| |- Deposits (Interest)|\n",
    "| |+ Equity (Interest)|\n",
    "\n",
    "**Private sector balance sheet**\n",
    "\n",
    "|**Assets**|**Liabilities**|\n",
    "|---|---|\n",
    "|- Deposits (Loan installment)|- Private debt (Loan installment|\n",
    "|- Deposits (Interest)|- Equity (Interest)|\n",
    "\n",
    "Payment of interest on loans also results in a decrease of deposits. However, since no corresponding activity happens on the asset side of the bank sector’s balance sheet, received interest shows up as increased equity. An equal decrease in equity happens on the private sector’s balance sheet, balancing a decrease in assets (deposits).\n",
    "Any bank fees the bank sector receives from the private sector is treated in the same way as income through interest and will therefore also result in increased bank sector equity and decreased private sector equity."
   ]
  },
  {
   "cell_type": "markdown",
   "metadata": {
    "id": "eY3enZ_pT7hg"
   },
   "source": [
    "## Bank costs\n",
    "Not all income received by the bank sector results in profit. Bank costs paid to the private sector from equity recreates deposits as follows:\n",
    "\n",
    "**Bank sector balance sheet**\n",
    "\n",
    "|**Assets**|**Liabilities**|\n",
    "|---|---|\n",
    "| |+ Deposits (Bank costs)|\n",
    "| |- Equity (Bank costs)|\n",
    "\n",
    "**Private sector balance sheet**\n",
    "\n",
    "|**Assets**|**Liabilities**|\n",
    "|---|---|\n",
    "|+ Deposits (Bank costs)|+ Equity (Bank costs)|\n",
    "\n",
    "No corresponding activity happens on the assets side of the bank sector’s balance sheet, resulting in only a change in equity for the bank sector and a corresponding and opposite change in equity for the private sector."
   ]
  },
  {
   "cell_type": "markdown",
   "metadata": {
    "id": "R_7iLhpqT7hh"
   },
   "source": [
    "## Profit retention\n",
    "Bank sector income, interest plus fees, and bank costs partially offset each other. It is assumed that the net profit made by the bank sector is equal to or greater than zero. Only net profit, retained by the bank sector, is considered in the simulation. This profit retention rate is expressed as a percentage of owned private debt. Symmetrically, the payments made by the private sector are limited to the downpayment of the loans plus the net profit retained by the bank sector."
   ]
  },
  {
   "cell_type": "markdown",
   "metadata": {
    "id": "LvrXQKynT7hh"
   },
   "source": [
    "## Model description\n",
    "The computational model is designed in such a way that simulations can be run in two different modes. Either the growth rate of the money stock is fixed or the loan demand is fixed.\n",
    "\n",
    "The choice of using money stock growth as a driver for the first mode of the simulation is based on real world observations. Indeed, looking at the data supplied by the statistical warehouse of the ECB<sup>1</sup>, the money stock (M2<sup>2</sup>) in Europe has, although not smoothly, been on the rise over the last 4 decades. Although the growth rate of the money stock has not been constant it has been bounded. An average growth rate is used in the simulations.\n",
    "\n",
    "![alt-text](https://github.com/HapponomyOrg/MoneySim.jl/raw/main/jupyter/images/M2%20-%20Europe.jpg \"M2 - Europe\")\n",
    "*Fig. 1 - M2 (millions of Euro) - Europe*\n",
    "\n",
    "![alt-text](https://github.com/HapponomyOrg/MoneySim.jl/raw/main/jupyter/images/M2%20growth%20-%20Europe.jpg \"M2 growth rate - Europe\")\n",
    "*Fig. 2 - M2 growth rate - Europe*\n",
    "\n",
    "The second mode of the simulation is based on the assumption that an unbounded loan demand is unrealistic. A fixed loan rate, a percentage relative to the money stock, is set to initialize this mode.\n",
    "\n",
    "The computational model is initialized with the following parameters:\n",
    "* Growth mode\n",
    " * $g$: growth rate of the money stock.\n",
    "* Loan demand mode\n",
    " * $LR$: loan rate expressed as a percentage of the current money stock.\n",
    "* Both modes:\n",
    " * $C$: number of cycles. Each cycle is interpreted as one year.\n",
    " * Parameters for the bank sector:\n",
    "  * $m$: loan maturity.\n",
    "  * $p$: profit retention rate on debt.\n",
    "  * The initial state of all balance sheets.\n",
    "\n",
    "Variables tracked during the simulation:\n",
    "* $t$: cycle number.\n",
    "* $M_t$: money stock.\n",
    "* $D_t$: private debt held by the bank.\n",
    "* $DR_t$ = $\\frac{D_t}{M_t}$: debt ratio.\n",
    "* $L_t$: size of the loan demand.\n",
    "* $I_t$: installment due."
   ]
  },
  {
   "cell_type": "markdown",
   "metadata": {
    "id": "8wqfbn_PT7hi"
   },
   "source": [
    "# Simulations\n",
    "The goal of the following simulations is to determine the conditions under which the model remains stable. Assuming that an ever rising $DR$ is not feasible in a real world economy, stability of the model is defined as $DR$ converging to a bounded value.\n",
    "\n",
    "The $p$ parameter value does not necessarily correspond with real world values. This is inconsequential for determining the properties of the model.\n",
    "\n",
    "Initial $M$ is created with a loan where $p = 0\\%$.<br>\n",
    "$DR$ is calculated."
   ]
  },
  {
   "cell_type": "markdown",
   "metadata": {
    "id": "iQYpUCiVT7hj"
   },
   "source": [
    "## Fixed growth rate\n",
    "Each cycle the following equations are processed:\n",
    "* $M_{target} = (1 + g)M_{t-1}$\n",
    "* $D_t = D_{t-1} - I_t$\n",
    "* $M_t = M_{t-1} - I_t - pD_{t-1}$\n",
    "* $L_t = M_{target} - M_t$\n",
    "* $M_t \\rightarrow M_t + L_t$\n",
    "* $D_t \\rightarrow D_t + L_t$"
   ]
  },
  {
   "cell_type": "markdown",
   "metadata": {},
   "source": [
    "### Mathematical analysis\n",
    "It is possible to derive an analytical solution for ($DR$) when assuming a fixed growth rate for ($M$).\n",
    "\n",
    "From the balance sheet analysis it can be concluded that $M$ plus bank sector equity ($E$) equals $D$. Expressed as continuous functions:\n",
    "\n",
    "(1)  $M(t) + E(t) = D(t)$\n",
    "\n",
    "A fraction of $M$ equal to $pD$ is converted into $E$ each cycle:\n",
    "\n",
    "(2)  $E(t) = E(t-1) + D(t-1)p$\n",
    "\n",
    "$M$ grows by percentage $g$ each cycle:\n",
    "\n",
    "(3)  $M(t) = M_0 (1+g)^t$\n",
    "\n",
    "We can define:\n",
    "\n",
    "(4) $DR(t) = \\frac{D(t)}{M(t)}$\n",
    "\n",
    "(5) $\\Rightarrow D(t) = DR(t) M(t)$\n",
    "\n",
    "(6) $\\Rightarrow E(t) = (DR(t) - 1) M(t)$\n",
    "\n",
    "substituting $(5)$ and $(6)$ in $(2)$ gives us the recurrence relation for $s(t)$:\n",
    "\n",
    "(7) $\\Rightarrow DR(t) = \\frac{DR(t-1)(1+p)-p}{1+g} + 1$\n",
    "\n",
    "the solution to which is:\n",
    "\n",
    "(8) $\\Rightarrow DR(t) = \\frac{p \\left(\\frac{1+p}{1+g}\\right)^t - g}{p-g}$\n",
    "\n",
    "#### g = 0 (no-growth scenario for M)\n",
    "If $g = 0$, $DR(t)$ reduces to $(p+1)^t$\n",
    "\n",
    "#### p = g\n",
    "$\\lim_{p\\to g}{DR(t)} = \\frac{g t}{1+g} + 1$\n",
    "\n",
    "#### p = 0 (no profit)\n",
    "$DR(t) = 1$\n",
    "\n",
    "#### 4.1.1.4 p < g\n",
    "$\\lim_{t\\to \\inf}{DR(t)} = \\frac{g}{g - p}$"
   ]
  },
  {
   "cell_type": "markdown",
   "metadata": {},
   "source": [
    "### Plots\n",
    "With each plot the output from the mathematical functions is plotted alongside the output of the simulation for comparison."
   ]
  },
  {
   "cell_type": "code",
   "execution_count": null,
   "metadata": {
    "id": "z3w1WqxIT7hi",
    "scrolled": true
   },
   "outputs": [],
   "source": [
    "using Pkg\n",
    "Pkg.add(url=\"https://github.com/HapponomyOrg/MoneySim.jl\")\n",
    "\n",
    "using EconoSim\n",
    "using MoneySim"
   ]
  },
  {
   "cell_type": "markdown",
   "metadata": {
    "id": "2axCA6usT7hj"
   },
   "source": [
    "#### g = 0%, p = 0%"
   ]
  },
  {
   "cell_type": "code",
   "execution_count": null,
   "metadata": {
    "colab": {
     "base_uri": "https://localhost:8080/",
     "height": 181
    },
    "id": "Mk1Zo4ATT7hj",
    "outputId": "590874e6-ad6f-48a0-9812-2218853485f2"
   },
   "outputs": [],
   "source": [
    "data = simulate_fixed_g(g = 0, p = 0, m = 20, cycles = 100)\n",
    "plot_debt_ratio(data, func_plot = true)"
   ]
  },
  {
   "cell_type": "code",
   "execution_count": null,
   "metadata": {
    "id": "svCKc2gIT7hk",
    "outputId": "6d4801e7-6295-4507-bdbe-4fd540085623"
   },
   "outputs": [],
   "source": [
    "print_last_ratio(debt_ratio(data), \"DR\")"
   ]
  },
  {
   "cell_type": "markdown",
   "metadata": {
    "id": "qujZpx9PT7hk"
   },
   "source": [
    "#### g = 5%, p= 0%"
   ]
  },
  {
   "cell_type": "code",
   "execution_count": null,
   "metadata": {
    "id": "-P9ZpR_pT7hk",
    "outputId": "a7d42660-5f3a-4f4d-9ec4-7a94703ee028"
   },
   "outputs": [],
   "source": [
    "data = simulate_fixed_g(g = 0.05, p = 0, m = 20, cycles = 100)\n",
    "plot_debt_ratio(data, func_plot = true)"
   ]
  },
  {
   "cell_type": "code",
   "execution_count": null,
   "metadata": {
    "id": "dwFmMDJ4T7hk",
    "outputId": "54604173-4f28-42dd-996d-d8599dc30e40"
   },
   "outputs": [],
   "source": [
    "print_last_ratio(debt_ratio(data), \"DR\")"
   ]
  },
  {
   "cell_type": "markdown",
   "metadata": {
    "id": "_BRp_4xrT7hl"
   },
   "source": [
    "#### g = 5%, p = 1%"
   ]
  },
  {
   "cell_type": "code",
   "execution_count": null,
   "metadata": {
    "id": "pLdzSzHZT7hl",
    "outputId": "b0fc54af-6440-4f90-845b-de9554b9763e"
   },
   "outputs": [],
   "source": [
    "data = data = simulate_fixed_g(g = 0.05, p = 0.01, m = 20, cycles = 100)\n",
    "plot_debt_ratio(data, func_plot = true)"
   ]
  },
  {
   "cell_type": "code",
   "execution_count": null,
   "metadata": {
    "id": "faKGn2DiT7hl",
    "outputId": "6e87398b-f3b4-448a-cbab-aa89376133e2"
   },
   "outputs": [],
   "source": [
    "print_last_ratio(debt_ratio(data), \"DR\")"
   ]
  },
  {
   "cell_type": "code",
   "execution_count": null,
   "metadata": {
    "id": "QtG6dke5T7hl",
    "outputId": "3bdd8979-6ac8-4161-9b6c-33a006277cd5"
   },
   "outputs": [],
   "source": [
    "data = simulate_fixed_g(g = 0.05, p = 0.01, m = 20, cycles = 500)\n",
    "print_last_ratio(debt_ratio(data), \"DR\")"
   ]
  },
  {
   "cell_type": "markdown",
   "metadata": {
    "id": "qNo--WaoT7hl"
   },
   "source": [
    "#### g = 5%, p = 5%"
   ]
  },
  {
   "cell_type": "code",
   "execution_count": null,
   "metadata": {
    "id": "74vNstoVT7hl",
    "outputId": "c76a7401-f034-4529-8aa3-65cf3f6a98b4"
   },
   "outputs": [],
   "source": [
    "data = simulate_fixed_g(g = 0.05, p = 0.05, m = 20, cycles = 100)\n",
    "plot_debt_ratio(data, func_plot = true)"
   ]
  },
  {
   "cell_type": "code",
   "execution_count": null,
   "metadata": {
    "id": "_A7yK1j8T7hm",
    "outputId": "8c42afd1-5fd5-4019-fb47-67f4019a6f06"
   },
   "outputs": [],
   "source": [
    "print_last_ratio(debt_ratio(data), \"DR\")"
   ]
  },
  {
   "cell_type": "markdown",
   "metadata": {
    "id": "Vxry1sYAT7hm"
   },
   "source": [
    "#### g = 5%, p = 10%"
   ]
  },
  {
   "cell_type": "code",
   "execution_count": null,
   "metadata": {
    "id": "QEioARf1T7hm",
    "outputId": "8319f4af-7f96-4d33-d1fc-d3b8cba266bc"
   },
   "outputs": [],
   "source": [
    "data = simulate_fixed_g(g = 0.05, p = 0.1, m = 20, cycles = 100)\n",
    "plot_debt_ratio(data, func_plot = true)"
   ]
  },
  {
   "cell_type": "code",
   "execution_count": null,
   "metadata": {
    "id": "PwSH2b6OT7hm",
    "outputId": "670fcab8-355c-4b3e-b6c3-b81f31ac21a7"
   },
   "outputs": [],
   "source": [
    "print_last_ratio(debt_ratio(data), \"DR\")"
   ]
  },
  {
   "cell_type": "markdown",
   "metadata": {
    "id": "cXv7I69GT7hm"
   },
   "source": [
    "## Fixed Loan Rate\n",
    "Although $L$ can be mathematically factored out, $g$ is the result of $L$ compensating for $I$ and $pD$:<br>\n",
    "$L_t\t= gM_{t-1} + I_t + pD_{t-1}$<br>\n",
    "$\\Rightarrow$<br>\n",
    "$g_t = \\frac{L_t - I_t - pD_t}{M_{t-1}}$<br>\n",
    "$\\Rightarrow$<br>$\n",
    "g_t \\gt 0 \\Leftrightarrow L_t \\gt I_t + pD_t$\n",
    "\n",
    "Assuming the bank sector wants $p \\gt 0$, it follows that $L$, and therefore $LR$, has to be sufficiently large. Although $LR$ can be calculated from $g$ and $p$, it is dependent on real world demand and can not be forced. The following simulations assume a fixed $LR$.\n",
    "\n",
    "Each cycle, the following equations are processed:<br>\n",
    "$L_t = LR \\frac{M_{t-1} - I_t}{1 - LR}$<br>\n",
    "$M_t = M_{t-1} - (I_t + pD_{t-1}) + L_t$<br>\n",
    "$D_t = D_t-1 - I_t + L_t$<br>\n",
    "$\\forall I_x, x > t, I_x \\rightarrow I_x + \\frac{L_t}m$\n",
    "\n",
    "The following output is analyzed:<br>\n",
    "$M_t$<br>\n",
    "$g_t = \\frac{M_t - M_t-1}{M_{t-1}}$<br>\n",
    "$DR_t = \\frac{D_t}{M_t}$\n",
    "\n",
    "In this mode, $L$ is clearly not factored out. Therefore $m$ is also varied in order to analyse its effect.\n",
    "\n",
    "Simulations stop automatically when $M_t \\le 0$. The effective runtime displayed equals the number of years where $M_t \\gt 0$.\n"
   ]
  },
  {
   "cell_type": "markdown",
   "metadata": {},
   "source": [
    "### Mathematical analysis\n",
    "*(Note to reviewers: this section has not been completed yet but may come available in the next couple of days)*"
   ]
  },
  {
   "cell_type": "markdown",
   "metadata": {},
   "source": [
    "### Plots"
   ]
  },
  {
   "cell_type": "markdown",
   "metadata": {
    "id": "gke979h8T7hn"
   },
   "source": [
    "#### LR = 15%, p = 0.8%, m = 20 years"
   ]
  },
  {
   "cell_type": "code",
   "execution_count": null,
   "metadata": {
    "id": "Pgr1tM4gT7hn",
    "outputId": "f32d2675-0d93-406e-b0e8-4abd4d0b48be"
   },
   "outputs": [],
   "source": [
    "data = simulate_fixed_LR(LR = 0.15, p = 0.008, m = 20, cycles = 500)\n",
    "plot_money_stock(data)"
   ]
  },
  {
   "cell_type": "code",
   "execution_count": null,
   "metadata": {
    "id": "8e5uQFjnT7hn",
    "outputId": "a0a9809e-6f6c-4b19-bb53-e16b9bc9f568"
   },
   "outputs": [],
   "source": [
    "plot_growth_ratio(data)"
   ]
  },
  {
   "cell_type": "code",
   "execution_count": null,
   "metadata": {
    "id": "Sm1Fqxa0T7hn",
    "outputId": "fbd4d4bf-a92d-4471-9497-89950d22be04"
   },
   "outputs": [],
   "source": [
    "plot_debt_ratio(data)"
   ]
  },
  {
   "cell_type": "code",
   "execution_count": null,
   "metadata": {
    "id": "cklXab_ET7hn",
    "outputId": "8410d967-64e3-400c-bca4-c39facd2fd0e"
   },
   "outputs": [],
   "source": [
    "print_last_ratio(growth_ratio(data), \"g\")"
   ]
  },
  {
   "cell_type": "code",
   "execution_count": null,
   "metadata": {
    "id": "RUPXJbmHT7hn",
    "outputId": "d8e2c0c7-e46b-4c2b-d53b-a2ff0fcf0824"
   },
   "outputs": [],
   "source": [
    "print_last_ratio(debt_ratio(data), \"DR\")"
   ]
  },
  {
   "cell_type": "markdown",
   "metadata": {
    "id": "3ohYgpc8T7ho"
   },
   "source": [
    "#### LR = 15%, p = 0.9%, m = 20 years"
   ]
  },
  {
   "cell_type": "code",
   "execution_count": null,
   "metadata": {
    "id": "9omu6hLFT7ho",
    "outputId": "6b61b13f-1192-4585-fdf5-17b25d857cfe"
   },
   "outputs": [],
   "source": [
    "data = simulate_fixed_LR(LR = 0.15, p = 0.009, m = 20, cycles = 500)\n",
    "plot_money_stock(data)"
   ]
  },
  {
   "cell_type": "code",
   "execution_count": null,
   "metadata": {
    "id": "RnFyUutrT7ho",
    "outputId": "25315341-d8be-4a3a-bcc2-e9184036cb78"
   },
   "outputs": [],
   "source": [
    "plot_growth_ratio(data)"
   ]
  },
  {
   "cell_type": "code",
   "execution_count": null,
   "metadata": {
    "id": "X8z9H9X7T7ho",
    "outputId": "035e3b51-62a0-4918-82fd-4ad53a62d869"
   },
   "outputs": [],
   "source": [
    "plot_debt_ratio(data)"
   ]
  },
  {
   "cell_type": "code",
   "execution_count": null,
   "metadata": {
    "id": "7UGuhuCOT7ho",
    "outputId": "40810fbe-4741-45b9-fc6f-06ad2891178f"
   },
   "outputs": [],
   "source": [
    "print_last_ratio(growth_ratio(data), \"g\")"
   ]
  },
  {
   "cell_type": "code",
   "execution_count": null,
   "metadata": {
    "id": "5f7M1pTpT7hp",
    "outputId": "ca8c8619-0bdc-4695-eac8-20c52104564f"
   },
   "outputs": [],
   "source": [
    "print_last_ratio(debt_ratio(data), \"DR\")"
   ]
  },
  {
   "cell_type": "markdown",
   "metadata": {
    "id": "4xzxGE_rT7hp"
   },
   "source": [
    "#### LR = 14.9%, p = 0.8%, m = 20 years"
   ]
  },
  {
   "cell_type": "code",
   "execution_count": null,
   "metadata": {
    "id": "VSa3utoZT7hp",
    "outputId": "f20699e0-d0da-41f9-9684-8055dd944a52"
   },
   "outputs": [],
   "source": [
    "data = simulate_fixed_LR(LR = 0.149, p = 0.008, m = 20, cycles = 500)\n",
    "plot_money_stock(data)"
   ]
  },
  {
   "cell_type": "code",
   "execution_count": null,
   "metadata": {
    "id": "uwJ4aTheT7hp",
    "outputId": "b09fcf02-92a4-45b9-9a78-c81da1428c8f"
   },
   "outputs": [],
   "source": [
    "plot_growth_ratio(data)"
   ]
  },
  {
   "cell_type": "code",
   "execution_count": null,
   "metadata": {
    "id": "Rx1zFe2UT7hp",
    "outputId": "c06cc55b-885a-4809-cd46-35f374336fa7"
   },
   "outputs": [],
   "source": [
    "plot_debt_ratio(data)"
   ]
  },
  {
   "cell_type": "code",
   "execution_count": null,
   "metadata": {
    "id": "NHjtO430T7hp",
    "outputId": "46297805-84f2-4ed2-97c0-8003b849a61f"
   },
   "outputs": [],
   "source": [
    "print_last_ratio(growth_ratio(data), \"g\")"
   ]
  },
  {
   "cell_type": "code",
   "execution_count": null,
   "metadata": {
    "id": "4cT79knmT7hq",
    "outputId": "51f18eee-d524-4bea-ea03-5474a1247b45"
   },
   "outputs": [],
   "source": [
    "print_last_ratio(debt_ratio(data), \"DR\")"
   ]
  },
  {
   "cell_type": "markdown",
   "metadata": {
    "id": "fvCV156dT7hq"
   },
   "source": [
    "#### LR = 14.9%, p = 0.8%, m = 30 years"
   ]
  },
  {
   "cell_type": "code",
   "execution_count": null,
   "metadata": {
    "id": "wjO4ggDwT7hq",
    "outputId": "7d36917b-fe71-4c46-9e26-623e451086c3"
   },
   "outputs": [],
   "source": [
    "data = simulate_fixed_LR(LR = 0.149, p = 0.008, m = 30, cycles = 500)\n",
    "plot_money_stock(data)"
   ]
  },
  {
   "cell_type": "code",
   "execution_count": null,
   "metadata": {
    "id": "TKM9-fZMT7hq",
    "outputId": "9d81112b-42f6-4f46-cc65-d3a7e8bfcc97"
   },
   "outputs": [],
   "source": [
    "plot_growth_ratio(data)"
   ]
  },
  {
   "cell_type": "code",
   "execution_count": null,
   "metadata": {
    "id": "j-THdjEhT7hq",
    "outputId": "f78e366c-e9a2-43ff-ef35-e1125d913d8c"
   },
   "outputs": [],
   "source": [
    "plot_debt_ratio(data)"
   ]
  },
  {
   "cell_type": "code",
   "execution_count": null,
   "metadata": {
    "id": "jMuvv4sQT7hq",
    "outputId": "bd2af7c2-a0c2-4d0f-e5b5-561a9432eebe"
   },
   "outputs": [],
   "source": [
    "print_last_ratio(growth_ratio(data), \"g\")"
   ]
  },
  {
   "cell_type": "code",
   "execution_count": null,
   "metadata": {
    "id": "LmJnLeJiT7hq",
    "outputId": "4be2aac9-432a-4f09-f75c-35595ae07a35"
   },
   "outputs": [],
   "source": [
    "print_last_ratio(debt_ratio(data), \"DR\")"
   ]
  },
  {
   "cell_type": "markdown",
   "metadata": {
    "id": "PeRj5mlOq63u"
   },
   "source": [
    "# Discussion"
   ]
  },
  {
   "cell_type": "markdown",
   "metadata": {
    "id": "Atyp93HIq-lG"
   },
   "source": [
    "## Observations"
   ]
  },
  {
   "cell_type": "markdown",
   "metadata": {
    "id": "Q-LHkNqerHsP"
   },
   "source": [
    "### Fixed growth rate\n",
    "Since $L$ has been factored out this means that loan maturity has no effect on $DR$. Indeed, when simulations are executed with different maturities, $DR$ is unaffected.\n",
    "\n",
    "When $g$ is fixed and as long as $p \\lt g$, the model remains stable and $DR$ converges to . As soon as $p \\ge g$, $DR$ no longer has an upper boundary, thereby breaking the requirement for stability. This holds true even when $g$ is determined randomly, within limited bounds, each cycle and $p$ is set relative to this random $g$.\n",
    "When the model is run with $2\\% \\le g \\le 12\\%$, which are approximately the boundaries observed in fig. 2, variations in $p$, where $p$ is either smaller, equal or greater than $g$, result in trends similar to the simulations with a fixed $g$.\n"
   ]
  },
  {
   "cell_type": "code",
   "execution_count": null,
   "metadata": {
    "id": "WSPTQhEdtvLe"
   },
   "outputs": [],
   "source": [
    "data = simulate_random_g(min_g = 0.02, max_g = 0.12, relative_p = -0.05, m = 20, cycles = 500)\n",
    "plot_debt_ratio(data)"
   ]
  },
  {
   "cell_type": "code",
   "execution_count": null,
   "metadata": {
    "id": "Kuc6-VZb6Alq"
   },
   "outputs": [],
   "source": [
    "data = simulate_random_g(min_g = 0.02, max_g = 0.12, relative_p = 0, m = 20, cycles = 500)\n",
    "plot_debt_ratio(data)"
   ]
  },
  {
   "cell_type": "code",
   "execution_count": null,
   "metadata": {
    "id": "xWHOxK586JRI"
   },
   "outputs": [],
   "source": [
    "data = simulate_random_g(min_g = 0.02, max_g = 0.12, relative_p = 0.05, m = 20, cycles = 500)\n",
    "plot_debt_ratio(data)"
   ]
  },
  {
   "cell_type": "markdown",
   "metadata": {
    "id": "7t5-yjfq7EA5"
   },
   "source": [
    "Very small differences between $p$ and $g$ lead to results which seem to deviate from the expectations but that stems from $DR$ being significantly higher and therefore, in the simulations, it takes longer before convergence occurs. This shows in the mathematical analyses."
   ]
  },
  {
   "cell_type": "markdown",
   "metadata": {
    "id": "FNWVpPyZ7P4T"
   },
   "source": [
    "### Fixed loan ratio\n",
    "For parameters leading to a stable model, the results of fixed $LR$ simulations can be fed into fixed growth simulations to produce the same results.\n",
    "\n",
    "For example, feeding the result, $g = 4.75\\%$ from the $LR = 15\\%, p = 0.8\\%$ into a fixed $g$ simulation results in the same result for $DR$, namely = 120.25%."
   ]
  },
  {
   "cell_type": "code",
   "execution_count": null,
   "metadata": {
    "id": "S6W6ux1f7437"
   },
   "outputs": [],
   "source": [
    "data = simulate_fixed_g(g = 0.0475, p = 0.008, m = 20, cycles = 500)\n",
    "plot_debt_ratio(data)"
   ]
  },
  {
   "cell_type": "code",
   "execution_count": null,
   "metadata": {
    "id": "z038nL4C8zV5"
   },
   "outputs": [],
   "source": [
    "print_last_ratio(debt_ratio(data), \"DR\")"
   ]
  },
  {
   "cell_type": "markdown",
   "metadata": {},
   "source": [
    "Simulations in fixed growth mode can also be used to calculate the resulting $LR$, which is the required $LR$ for a given combination of $p$, $g$ and $m$."
   ]
  },
  {
   "cell_type": "markdown",
   "metadata": {
    "id": "JprCCMBW9HlN"
   },
   "source": [
    "## Steady state economy\n",
    "It can clearly be stated that discussion about the possibility of a steady state economy in conjunction with a debt based, interest bearing monetary system only makes sense if that monetary system is stable. The results from the simulations and the accompanying mathematical analyses therefore add a new perspective to the discussion.\n",
    "\n",
    "Cahen-Fourot and Lavoie (Cahen-Fourot and Lavoie, 2016) state that, in order to have a steady state economy, banks and organisations must not make net profit and there should be zero net savings and thus no accumulation of private wealth.\n",
    "\n",
    "This is not contradicted by the simulations. However, no definite conclusions can be reached about whether a steady state of the economy can be reached since it is clear that the monetary system itself can be examined without taking economic parameters such as wages, production, consumption and private savings into account.\n",
    "\n",
    "It is therefore suggested that the question about whether or not a post Keynesian money supply model is inherently incompatible with a steady state economy is restated as follows:\n",
    "Can a steady state economy support  a stable post Keynesian money supply model?\n",
    "\n",
    "It is observed that the stability of the model is inherently dependent on $p \\lt g$. For this to happen, a minimal $LR$ needs to exist. This minimal $LR$ is dependent on the behavior of the economic actors in the private sector. While theoretically $p$ and $m$ could be part of monetary policy, $LR$ can not.\n",
    "\n",
    "If the position is taken that in a steady state economy businesses should be able to cover operating and depreciation costs with their profits then there is a high likelihood that sufficient $LR$ would be lacking, leading to a negative $g$. This would require the banking sector to operate at a loss in order to maintain stability, an event which is unlikely to occur.\n",
    "\n",
    "The fact that the banking sector does not always answer positively to a loan demand puts additional strain on achieving the necessary $LR$.\n",
    "\n",
    "Furthermore, if the balance sheet recession of Japan (Koo, 2013) is any indication, things look bleak. However, a declining $M$ could be the incentive needed to raise LR but more research would be required before stating definitive conclusions.\n",
    "\n",
    "Behavior from the economic actors - the private sector demanding loans and the banking sector approving loans and determining $p$ - should be included in the model. Is the banking sector willing to subject $p$ to $g$? Is the private sector willing to take out enough loans to satisfy the necessary $LR$? On which incentives does this depend? Realistically, behavior can not merely be assumed to match the requirements of a mathematical model.\n",
    "\n",
    "Excluding real world behavior and the underlying incentives of the economic actors would make this behavior external to the model and thereby result in money creation, driven by externalised behavior, to lean towards exogenity rather than endogenity, thereby undermining the exogenous character of post Keynesian money supply models. The articles from the literature study stating the absence of a growth imperative in a post Keynesian money supply model all assume that the behaviour of the economic actors falls in line with the needs of the model but no supportive arguments for the validity of these assumptions is made.\n",
    "\n",
    "Hopefully this paper introduces a new perspective in the discussion about whether or not a debt based, interest bearing monetary system inherently demands a growing economy. The most heated discussions in this debate seem to be rooted in the definition of ‘inherent growth imperative’ which looks like it is not the same for opposite sides of the argument. For those who claim there is no growth imperative, the real world behavior of the economic actors interacting with the monetary system is not taken into consideration when determining the existence of the growth imperative.\n",
    "On the opposite side of the discussion, the necessary conditions - banks and organisations freely distributing their profits - are claimed to be unrealistic and therefore a steady state can not be reached when using a debt based, interest bearing monetary system.\n",
    "In the end it comes down to deciding whether the economic actors and their real world behavior and underlying incentives are an integral part of the monetary system or not. It can be argued that an endogenous money supply can simply not exist without the demand coming from the economic actors. Even the model presented here would not generate a money supply without this demand. Therefore it can be stated that a debate about intrinsic growth imperatives without the inclusion of economic actors and their real world behavior makes little sense."
   ]
  },
  {
   "cell_type": "markdown",
   "metadata": {
    "id": "TG3WMika-xY0"
   },
   "source": [
    "## Inflation/deflation\n",
    "Although inflation and deflation have no direct effect on the model, it influences $LR$. A continuous inflation makes sure the nominal size of loans - for the same purchases - rises with time, thereby helping to prop up $g$. Should deflation occur nominal loan size would diminish thereby putting a downward strain on $LR$ and as a consequence also on $g$. Therefore deflation would put the stability of the model at risk.\n",
    "This might be a reason why central banks vie to maintain positive inflation ratios.\n"
   ]
  },
  {
   "cell_type": "markdown",
   "metadata": {
    "id": "fqcIdOUo_KoB"
   },
   "source": [
    "## Model limitations\n",
    "The destabilised outcomes of the presented simulations do not unfold themselves in the real economy today.\n",
    "\n",
    "This indicates that either $p \\lt g$ or that other elements, missing from the model, are responsible for avoiding a collapse. What follows is a brief overview of those elements that could restore balance to the model.\n"
   ]
  },
  {
   "cell_type": "markdown",
   "metadata": {
    "id": "TT7mwDbW_VFz"
   },
   "source": [
    "### Quantitative easing\n",
    "Quantitative easing (QE), which has been applied extensively by central banks during the COVID-19 pandemic, increases the money stock without resulting in increased debt. This reduces the $\\frac{D}{M}$ ratio and also lowers the required $LR$, thereby reducing stress on the model.\n",
    "However, when the debt is settled or it is cleared from the balance sheets of central banks by reselling it to the financial markets, the reverse would happen. The money stock would decrease and increase stress on the model.\n"
   ]
  },
  {
   "cell_type": "markdown",
   "metadata": {
    "id": "mGIImFe3_msC"
   },
   "source": [
    "### Government spending\n",
    "Government spending can, under certain conditions, alleviate stress from the model.\n",
    "\n",
    "When the government can spend money into existence, as claimed by MMT advocates (Kelton, 2020), $M$ can be increased in order to alleviate stress from the model.\n",
    "Decreasing $M$ through taxation holds the same risks as reselling debt bought up through QE would do, namely to increase stress on the model. $M$ deceases while $D$ remains the same, thereby raising $DR$.\n",
    "\n",
    "In case the government can not spend money into existence they either have to borrow it from the private sector by issuing bonds or borrow it from banks.\n",
    "\n",
    "When money is borrowed by issuing bonds and that money is then spent, no effects on the model occur. Money has moved from private investors to the government and back to private actors who are paid by the government. Both private investors and actors paid by the government are part of the private sector and $M$ does not change.\n",
    "\n",
    "When the government borrows from a bank and then spends that money it has the same effect as the private actor making a bank loan.\n",
    "\n",
    "Should governments hold on to money they borrowed it can be considered to be the same as accumulated wealth, i.e. ‘dead’ money.\n"
   ]
  },
  {
   "cell_type": "markdown",
   "metadata": {
    "id": "NYZyqurvAnJC"
   },
   "source": [
    "### Banks selling debt at a loss\n",
    "If banks were to sell their debt to the financial market at a loss, this would effectively create ‘debtless money’ from credit money. Consider the following balance sheets to be the initial state:\n",
    "\n",
    "**Bank balance sheet**\n",
    "\n",
    "|Assets|Liabilities|\n",
    "|---|---|\n",
    "|Private debt = 100,000|Deposits = 80,000|\n",
    "| |Equity = 20,000|\n",
    "\n",
    "**Private sector balance sheet**\n",
    "\n",
    "|Assets|Liabilities|\n",
    "|---|---|\n",
    "|Deposits = 80,000|Private debt to bank = 100,000|\n",
    "| |Equity = -20,000|\n",
    "\n",
    "If the bank were to sell 20,000 of their private debt for 15,000, renaming it to a security, the resulting balance sheets would look like this:\n",
    "\n",
    "**Bank balance sheet**\n",
    "\n",
    "|Assets|Liabilities|\n",
    "|---|---|\n",
    "|Private debt = 80,000|Deposits = 65,000|\n",
    "| |Equity = 15,000|\n",
    "\n",
    "**Private sector balance sheet**\n",
    "\n",
    "|Assets|Liabilities|\n",
    "|---|---|\n",
    "|Deposits = 65,000|Private debt to bank = 80,000|\n",
    "|Security = 20,000|Private debt to investor = 20,000|\n",
    "| |Equity = -15,000|\n",
    "\n",
    "Equity of the bank has been lowered by 5,000 and private sector equity has risen with an equal amount. From the perspective of systemic stability it doesn't even matter that the debt is ever settled. Settlement of a debt held by private actors merely moves money around instead of destroying it, which is the case when a bank debt is paid off.\n",
    "This process lowers $\\frac{D}{M}$ from 125% to 123.08%, thereby alleviating stress from the model. Banks selling debt at a loss is beneficial for the stability of the model. It is even better for the long term stability of the model when compared to QE and government spending because it essentially lowers a bank’s profit retention rate and no trivial reverse process exists.\n",
    "Solvency of banks would however be jeopardized should they lose more than they hold in equity.\n"
   ]
  },
  {
   "cell_type": "markdown",
   "metadata": {
    "id": "ODWwHOhEEulX"
   },
   "source": [
    "### Loan defaulting\n",
    "When private actors default on their loans, a process similar to selling debt as a loss occurs. In this case the loss incurred by the bank equals the value of the loan minus the price they can sell claimed assets for.\n",
    "\n",
    "This is beneficial for the long term stability of the model."
   ]
  },
  {
   "cell_type": "markdown",
   "metadata": {},
   "source": [
    "# Conclusion\n",
    "The observations from the model simulations and the accompanying mathematical analyses can not be easily disregarded. Under the assumption that the post Keynesian money supply theory is correct, the dynamics presented here must be at play. They are inherent to any debt based monetary system where banks make a profit. It would therefore be interesting to revisit the analysis on systemic banking crises, which was performed by the IMF (Laeven and Valencia, 2018), with this information in mind.\n",
    "It also brings to the light that, in the case of p > g, the most efficient way to guarantee stability of the model is to either restrict p or artificially boost g.\n"
   ]
  },
  {
   "cell_type": "markdown",
   "metadata": {
    "id": "MEF-u5CxY95k"
   },
   "source": [
    "# References\n",
    "Arnsperger, C., Bendell, J., Slater, M., 2021. Monetary Adaptation to Planetary Emergency: Addressing the Monetary Growth Imperative.\n",
    "\n",
    "Cahen-Fourot, L., Lavoie, M., 2016. Ecological monetary economics: A post-Keynesian critique. Ecological Economics 126, 163–168. https://doi.org/10.1016/j.ecolecon.2016.03.007\n",
    "\n",
    "Caiani, A., Godin, A., Caverzasi, E., Gallegati, M., Kinsella, S., Stiglitz, J.E., 2016. Agent based-stock flow consistent macroeconomics: Towards a benchmark model. Journal of Economic Dynamics and Control 69, 375–408. https://doi.org/10.1016/j.jedc.2016.06.001\n",
    "\n",
    "Deutsche Bundesbank, 2017. “The role of banks, nonbanks and the central bank in the money creation process.” Monthly Report, Deutsche Bundesbank.\n",
    "\n",
    "ECB, 2015. What is money? [Online]. Available at: https://www.ecb.europa.eu/explainers/tell-me-more/html/what_is_money.en.html\n",
    "\n",
    "Godley, W., Lavoie, M., 2012. Monetary Economics. Palgrave Macmillan UK, London. https://doi.org/10.1007/978-1-137-08599-3\n",
    "\n",
    "Godley, W., 2014 Towards a Reconstruction of Macroeconomics Using a Stock Flow Consistent (SFC) Model 24.\n",
    "\n",
    "Gross, M., Siebenbrunner, C., 2019. Money Creation in Fiat and Digital Currency Systems. IMF Working Papers 19 [Online]. Available at: https://doi.org/10.5089/9781513521565.001\n",
    "\n",
    "Jackson, T., Victor, P.A., 2015. Does credit create a ‘growth imperative’? A quasi-stationary economy with interest-bearing debt. Ecological Economics 120, 32–48. https://doi.org/10.1016/j.ecolecon.2015.09.009\n",
    "\n",
    "Kelton, S., 2020. The deficit myth: modern monetary theory and how to build a better economy. John Murray.\n",
    "\n",
    "Koo, R.C., 2013. Balance sheet recession as the ‘other half’ of macroeconomics. EJEEP 10, 136–157. https://doi.org/10.4337/ejeep.2013.02.01\n",
    "\n",
    "Laeven, L., Valencia, F., 2018. Systemic Banking Crises Revisited. IMF Working Papers 18, 1. https://doi.org/10.5089/9781484376379.001\n",
    "\n",
    "Lavoie, M., Godley, W., 2002 Kaleckian models of growth in a coherent stock-flow monetary framework: a Kaldorian view 36.\n",
    "\n",
    "Lietaer, B., Arnsperger, C., Goerner, S., Brunnhuber, S., 2012. Money - Sustainability: The Missing Link.\n",
    "\n",
    "McLeay, M., Radia, A., 2014. Money creation in the modern economy.\n",
    "\n",
    "Richters, O., Siemoneit, A., 2017. Consistency and stability analysis of models of a monetary growth imperative. Ecological Economics 136, 114–125.\n",
    "\n",
    "Werner, R.A., 2016. A lost century in economics: Three theories of banking and the conclusive evidence. International Review of Financial Analysis 46, 361–379 [Online]. Available at: https://doi.org/10.1016/j.irfa.2015.08.014\n",
    "\n",
    "Werner, R.A., 2014. Can banks individually create money out of nothing? — The theories and the empirical evidence. International Review of Financial Analysis 36, 1–19 [Online]. Available at: https://doi.org/10.1016/j.irfa.2014.07.015"
   ]
  },
  {
   "cell_type": "markdown",
   "metadata": {
    "id": "WeI2KG6AFMLS"
   },
   "source": [
    "# Appendix A - Source code\n",
    "Source code for the model is implemented in Julia and is available at:\n",
    "https://github.com/HapponomyOrg/MoneySim.jl\n",
    "\n",
    "The source code uses the EconoSim.jl v0.1.2 package which is available at:\n",
    "https://github.com/HapponomyOrg/EconoSim.jl\n"
   ]
  },
  {
   "cell_type": "markdown",
   "metadata": {
    "id": "iMemuvLKT7hr"
   },
   "source": [
    "# Footnotes\n",
    "\n",
    "1: Eurostat website: https://sdw.ecb.europa.eu/\n",
    "\n",
    "2: Since cash is not used in the model, M2 is not exactly the same as $M$ but it is the closest real world measurement to it."
   ]
  }
 ],
 "metadata": {
  "colab": {
   "include_colab_link": true,
   "name": "Paper.ipynb",
   "provenance": [],
   "toc_visible": true
  },
  "kernelspec": {
   "display_name": "JuliaPro_v1.5.4-1 1.5.4",
   "language": "julia",
   "name": "juliapro_v1.5.4-1-1.5"
  },
  "language_info": {
   "file_extension": ".jl",
   "mimetype": "application/julia",
   "name": "julia",
   "version": "1.5.4"
  }
 },
 "nbformat": 4,
 "nbformat_minor": 4
}
