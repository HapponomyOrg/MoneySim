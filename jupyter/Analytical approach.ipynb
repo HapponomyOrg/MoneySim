{
 "cells": [
  {
   "cell_type": "code",
   "execution_count": 6,
   "metadata": {},
   "outputs": [
    {
     "name": "stderr",
     "output_type": "stream",
     "text": [
      "\u001b[32m\u001b[1m  Resolving\u001b[22m\u001b[39m package versions...\n",
      "\u001b[32m\u001b[1mNo Changes\u001b[22m\u001b[39m to `~/.julia/environments/v1.5/Project.toml`\n",
      "\u001b[32m\u001b[1mNo Changes\u001b[22m\u001b[39m to `~/.julia/environments/v1.5/Manifest.toml`\n",
      "\u001b[32m\u001b[1m  Resolving\u001b[22m\u001b[39m package versions...\n",
      "\u001b[32m\u001b[1mNo Changes\u001b[22m\u001b[39m to `~/.julia/environments/v1.5/Project.toml`\n",
      "\u001b[32m\u001b[1mNo Changes\u001b[22m\u001b[39m to `~/.julia/environments/v1.5/Manifest.toml`\n"
     ]
    }
   ],
   "source": [
    "using Pkg; Pkg.add(\"Latexify\"); Pkg.add(\"LaTeXStrings\");"
   ]
  },
  {
   "cell_type": "code",
   "execution_count": 7,
   "metadata": {},
   "outputs": [],
   "source": [
    "using Latexify; ; using LaTeXStrings"
   ]
  },
  {
   "cell_type": "markdown",
   "metadata": {},
   "source": [
    "# Money & Debt\n",
    "## Basic equations\n",
    "Money in circulation plus non-circulating money equals total debt:\n",
    "\n",
    "(1)  $M(t) + P(t) = D(t)$\n",
    "\n",
    "A fraction $p$ of the debt $D$ is converted into non-circulating money each cycle:\n",
    "\n",
    "(2)  $P(t) = P(t-1) + D(t-1)p$\n",
    "\n",
    "Money in circulation grows by percentage g each cycle:\n",
    "\n",
    "(3)  $M(t) = M_0 (1+g)^t$\n",
    "\n",
    "## Solution\n",
    "\n",
    "We can define:\n",
    "\n",
    "(4) $s(t) = \\frac{M(t)}{P(t)}$\n",
    "\n",
    "(5) $\\Rightarrow P(t) = s(t) M(t)$\n",
    "\n",
    "(6) $\\Rightarrow D(t) = (s(t) + 1) M(t)$\n",
    "\n",
    "substituting $(5)$ and $(6)$ in $(2)$ gives us the recurrence relation for $s(t)$:\n",
    "\n",
    "(7) $\\Rightarrow s(t) = \\frac{s(t-1)(1+p)+p}{1+g}$\n",
    "\n",
    "the solution to which is\n",
    "\n",
    "(8) $\\Rightarrow s(t) = \\frac{p\\left(\\left(\\frac{1+p}{1+g}\\right)^t - 1\\right)}{p-g}$\n",
    "\n",
    "(This can be verified by using `RSolve[{s[t] == (s[t-1]*(1+p)+p)/(1+g),s(0) == 0}, s[t], t]` in Wolfram Alpha)\n",
    "\n",
    "## Special cases\n",
    "\n",
    "### g = 0 (no-growth scenario for money stock)\n",
    "If $g = 0$, $s(t)$ reduces to $(p+1)^t-1$\n",
    "\n",
    "### p approaches g\n",
    "$\\lim_{p\\to g}{s(t)} = \\frac{g t}{1+g}$\n",
    "\n",
    "### p = 0 (no profit)\n",
    "$s(t) = 0$\n",
    "\n",
    "### p < g\n",
    "$\\lim_{t\\to \\inf}{s(t)} = \\frac{p}{g-p}$"
   ]
  },
  {
   "cell_type": "code",
   "execution_count": null,
   "metadata": {},
   "outputs": [],
   "source": []
  }
 ],
 "metadata": {
  "kernelspec": {
   "display_name": "JuliaPro_v1.5.4-1 1.5.4",
   "language": "julia",
   "name": "juliapro_v1.5.4-1-1.5"
  },
  "language_info": {
   "file_extension": ".jl",
   "mimetype": "application/julia",
   "name": "julia",
   "version": "1.5.4"
  }
 },
 "nbformat": 4,
 "nbformat_minor": 4
}
