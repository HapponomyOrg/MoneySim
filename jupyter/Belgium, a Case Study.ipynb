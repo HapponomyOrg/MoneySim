{
 "cells": [
  {
   "cell_type": "markdown",
   "metadata": {},
   "source": [
    "# Case study: Belgium running on an alternative monetary system\n",
    "In order to get an idea of the effect of implementing the monetary system proposed in Kuypers, 2024 on a real economy, a simulation is run based on real monetary and financial data from Belgium over the year 2023. This data includes the size of the population, the average M2 money stock, and the total expenses made by the government. From these expenses, the interest cost, unemployment cost and pension cost are subtracted. Interest cost is subtracted because with the proposed monetary system no interest on debt needs to be paid. Unemployment costs and pension costs are subtracted because they are replaced with a guaranteed income of 2000€ per capita. Taxes are collected through a demurrage like mechanism.\n",
    "\n",
    "Several scenarios with different demurrage and tax settings settings are run.\n",
    "\n",
    "For each scenario, the two extremes, and one intermediate case, of tax expenditure are simulated:  \n",
    "* All taxes are distributed evenly among the population.\n",
    "* All taxes are distributed evenly among 50% of the population. These receiving actors are fixed.\n",
    "* All taxes are allocated to one actor in the population. The actor receiving these taxes is fixed."
   ]
  },
  {
   "cell_type": "markdown",
   "metadata": {},
   "source": [
    "## 1. Base scenario - flat demurrage and tax\n",
    "The simplest scenario is to calculate a flat demurrage and tax percentage so that the money stock remains stable and all expenses can be paid by the collected taxes.  \n",
    "With a given monthly guaranteed income ($GI$), fixed population ($P$) and known money stock ($M$), monthly demurrage ($d$) can be calculated as follows: $d = \\frac{GI}{M/P}$. The monthly tax percentage ($t$) can, given the monthly expenses ($E$), be calculated as follows: $t = \\frac{E}{M / P}$."
   ]
  },
  {
   "cell_type": "code",
   "execution_count": null,
   "metadata": {},
   "outputs": [],
   "source": [
    "using EconoSim\n",
    "using MoneySim\n",
    "\n",
    "d_data = simulate_belgium(tax_type = DEMURRAGE_TAX, tax_brackets = DEM_TAX)\n",
    "\n",
    "d_dfa = analyse_wealth(d_data)\n",
    "\n",
    "plot_wealth(d_dfa[1],\n",
    "            [TOP_0_1, TOP_1, TOP_10, HIGH_MIDDLE_40, BOTTOM_50],\n",
    "            title = \"Yard Sale Model - GDP Belgium - Dem Tax\",\n",
    "            labels = [\"Top 0.01%\", \"Top 1%\", \"Top 10%\", \"Middle 40%\", \"Bottom 50%\"])"
   ]
  },
  {
   "cell_type": "code",
   "execution_count": null,
   "metadata": {},
   "outputs": [],
   "source": [
    "using EconoSim\n",
    "using MoneySim\n",
    "\n",
    "i_data = simulate_belgium(tax_type = INCOME_TAX, tax_brackets = INCOME_TAX_BRACKETS)\n",
    "\n",
    "i_dfa = analyse_wealth(i_data)\n",
    "\n",
    "plot_wealth(i_dfa[1],\n",
    "            [TOP_0_1, TOP_1, TOP_10, HIGH_MIDDLE_40, BOTTOM_50],\n",
    "            title = \"Yard Sale Model - GDP Belgium - Income Tax\",\n",
    "            labels = [\"Top 0.01%\", \"Top 1%\", \"Top 10%\", \"Middle 40%\", \"Bottom 50%\"])"
   ]
  },
  {
   "cell_type": "code",
   "execution_count": null,
   "metadata": {},
   "outputs": [],
   "source": [
    "plot_collected_tax(MoneySim.NET_MONTHLY_EXPENSES_PER_CAPITA * 10000 * 12, [i_data[2], d_data[2]],[\"Income tax\", \"Demurrage tax\"])"
   ]
  },
  {
   "cell_type": "code",
   "execution_count": null,
   "metadata": {},
   "outputs": [],
   "source": [
    "dm = analyse_money_stock(d_data[1])\n",
    "im = analyse_money_stock(i_data[1])\n",
    "\n",
    "plot_money_stock([dm, im], \"Money stock - Belgium\", money_stock_labels = [\"Demurrage tax\", \"Income tax\"])"
   ]
  },
  {
   "cell_type": "code",
   "execution_count": null,
   "metadata": {},
   "outputs": [],
   "source": [
    "dem_taxes = FixedTaxScheme(DEMURRAGE_TAX,\n",
    "                                tax_target = NET_MONTHLY_EXPENSES_PER_CAPITA * NUM_ACTORS,\n",
    "                                tax_recipients = Integer(round(NUM_ACTORS / 2)),\n",
    "                                tax_interval = 1,\n",
    "                                tax_brackets = t,\n",
    "                                tax_free = 0,\n",
    "                                vat_interval = 3,\n",
    "                                vat = VAT)\n",
    "\n",
    "d_data = run_sumsy_gdp_simulation(sumsy,\n",
    "                                    eligible_actors = NUM_ACTORS,\n",
    "                                    gdp_per_capita = GDP_PER_CAPITA,\n",
    "                                    years = 50,\n",
    "                                    tax_scheme = dem_taxes)\n",
    "\n",
    "d_dfa = analyse_wealth(d_data)\n",
    "\n",
    "plot_wealth(d_dfa[1],\n",
    "            [TOP_0_1, TOP_1, TOP_10, HIGH_MIDDLE_40, BOTTOM_50],\n",
    "            title = \"Yard Sale Model - GDP Belgium - Dem Tax\",\n",
    "            labels = [\"Top 0.01%\", \"Top 1%\", \"Top 10%\", \"Middle 40%\", \"Bottom 50%\"])"
   ]
  },
  {
   "cell_type": "code",
   "execution_count": null,
   "metadata": {},
   "outputs": [],
   "source": [
    "income_taxes = FixedTaxScheme(INCOME_TAX,\n",
    "                                tax_target = NET_MONTHLY_EXPENSES_PER_CAPITA * NUM_ACTORS,\n",
    "                                tax_recipients = Integer(round(NUM_ACTORS / 2)),\n",
    "                                tax_interval = 12,\n",
    "                                tax_brackets = INCOME_TAX_BRACKETS,\n",
    "                                tax_free = 0,\n",
    "                                vat_interval = 3,\n",
    "                                vat = VAT)\n",
    "\n",
    "i_data = run_sumsy_gdp_simulation(sumsy,\n",
    "                                    eligible_actors = NUM_ACTORS,\n",
    "                                    gdp_per_capita = GDP_PER_CAPITA,\n",
    "                                    years = 50,\n",
    "                                    tax_scheme = income_taxes)\n",
    "\n",
    "\n",
    "i_dfa = analyse_wealth(i_data)\n",
    "\n",
    "plot_wealth(i_dfa[1],\n",
    "            [TOP_0_1, TOP_1, TOP_10, HIGH_MIDDLE_40, BOTTOM_50],\n",
    "            title = \"Yard Sale Model - GDP Belgium - Income Tax\",\n",
    "            labels = [\"Top 0.01%\", \"Top 1%\", \"Top 10%\", \"Middle 40%\", \"Bottom 50%\"])"
   ]
  },
  {
   "cell_type": "code",
   "execution_count": null,
   "metadata": {},
   "outputs": [],
   "source": [
    "plot_collected_tax(NET_MONTHLY_EXPENSES_PER_CAPITA * 1000 * 12, [i_data[2], d_data[2]],[\"Income tax\", \"Demurrage tax\"])"
   ]
  },
  {
   "cell_type": "code",
   "execution_count": null,
   "metadata": {},
   "outputs": [],
   "source": [
    "dem_taxes = FixedTaxScheme(DEMURRAGE_TAX,\n",
    "                                tax_target = NET_MONTHLY_EXPENSES_PER_CAPITA * NUM_ACTORS,\n",
    "                                tax_recipients = 1,\n",
    "                                tax_interval = 1,\n",
    "                                tax_brackets = t,\n",
    "                                tax_free = 0,\n",
    "                                vat_interval = 3,\n",
    "                                vat = VAT)\n",
    "\n",
    "d_data = run_sumsy_gdp_simulation(sumsy,\n",
    "                                    eligible_actors = NUM_ACTORS,\n",
    "                                    gdp_per_capita = GDP_PER_CAPITA,\n",
    "                                    years = 50,\n",
    "                                    tax_scheme = dem_taxes)\n",
    "\n",
    "d_dfa = analyse_wealth(d_data)\n",
    "\n",
    "plot_wealth(d_dfa[1],\n",
    "            [TOP_0_1, TOP_1, TOP_10, HIGH_MIDDLE_40, BOTTOM_50],\n",
    "            title = \"Yard Sale Model - GDP Belgium - Dem Tax\",\n",
    "            labels = [\"Top 0.1%\", \"Top 1%\", \"Top 10%\", \"Middle 40%\", \"Bottom 50%\"])"
   ]
  },
  {
   "cell_type": "code",
   "execution_count": null,
   "metadata": {},
   "outputs": [],
   "source": [
    "income_taxes = FixedTaxScheme(INCOME_TAX,\n",
    "                                tax_target = NET_MONTHLY_EXPENSES_PER_CAPITA * NUM_ACTORS,\n",
    "                                tax_recipients = 1,\n",
    "                                tax_interval = 12,\n",
    "                                tax_brackets = INCOME_TAX_BRACKETS,\n",
    "                                tax_free = 0,\n",
    "                                vat_interval = 3,\n",
    "                                vat = VAT)\n",
    "\n",
    "i_data = run_sumsy_gdp_simulation(sumsy,\n",
    "                                    eligible_actors = NUM_ACTORS,\n",
    "                                    gdp_per_capita = GDP_PER_CAPITA,\n",
    "                                    years = 50,\n",
    "                                    tax_scheme = income_taxes)\n",
    "\n",
    "\n",
    "i_dfa = analyse_wealth(i_data)\n",
    "\n",
    "plot_wealth(i_dfa[1],\n",
    "            [TOP_0_1, TOP_1, TOP_10, HIGH_MIDDLE_40, BOTTOM_50],\n",
    "            title = \"Yard Sale Model - GDP Belgium - Income Tax\",\n",
    "            labels = [\"Top 0.01%\", \"Top 1%\", \"Top 10%\", \"Middle 40%\", \"Bottom 50%\"])"
   ]
  },
  {
   "cell_type": "code",
   "execution_count": null,
   "metadata": {},
   "outputs": [],
   "source": [
    "plot_collected_tax(NET_MONTHLY_EXPENSES_PER_CAPITA * 1000 * 12, [i_data[2], d_data[2]],[\"Income tax\", \"Demurrage tax\"])"
   ]
  }
 ],
 "metadata": {
  "kernelspec": {
   "display_name": "Julia 1.11.2",
   "language": "julia",
   "name": "julia-1.11"
  },
  "language_info": {
   "file_extension": ".jl",
   "mimetype": "application/julia",
   "name": "julia",
   "version": "1.11.2"
  }
 },
 "nbformat": 4,
 "nbformat_minor": 2
}
