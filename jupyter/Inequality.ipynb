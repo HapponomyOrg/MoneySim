{
 "cells": [
  {
   "cell_type": "markdown",
   "metadata": {},
   "source": [
    "# Increasing economic fairness through monetary policy\n",
    "### Stef Kuypers PhD Researcher VUB"
   ]
  },
  {
   "cell_type": "markdown",
   "metadata": {},
   "source": [
    "## Abstract\n",
    "According to the latest reports from the World Bank, the OECD and Oxfam, inequality within countries is on the rise again. Even though there are some notable exceptions, such as Europe, where inequality has been decreasing, the level of inequality is higher than expected across the board. These levels of inequality have devastating effects on society at large, and it seems very plausible that current measures to bring the level of inequality down are inadequate, and in many cases are failing to be effective.  \n",
    "This paper starts by giving an overview of the effects of high inequality on society, democracy and well-being of the different layers of the population, before exploring the most likely systemic causes of the persistence of this inequality. This exploration looks into results from economical, psychological, sociological and neurological research in order to create a systemic overview of forces at play.  \n",
    "It will be shown that current economic and political constructs are inadequate to address high levels of inequality in an adequate way and that there is a need for a structural methodology that inherently reduces inequality, and that is shielded as much as possible from ideology based politics. This paper proposes to tackle the problem through a monetary policy that inherently redistributes monetary wealth, and consistently pushes towards, but never reaches, full equality. This proposition is then analyzed in order to determine its advantages and disadvantages. These are then compared to the current post-Keynesian monetary policy.  \n",
    "In the last part of the paper, these findings are reintegrated with the results from the other research fields.\n",
    "\n",
    "One of the aspects this paper wants to bring to light is the necessity for interdisciplinary research, and especially collaboration between economists, psychologists, sociologists, political scientists, and neurologists in order to get a better grasp on economic events and mechanisms."
   ]
  },
  {
   "cell_type": "markdown",
   "metadata": {},
   "source": [
    "## 1. Introduction\n",
    "Economic equality refers to the fair distribution of wealth, resources, and opportunities within a society, and is considered a fundamental aspect of social justice and fairness (Rawls, 2005; Valentini, 2012). The pursuit of economic equality is rooted in the belief that all individuals should have access to necessities, opportunities for advancement, and a reasonable standard of living, thereby providing them with an equitable chance to succeed and prosper, regardless of their socioeconomic background or circumstances. From a moral and ethical standpoint, the concept of economic equality is often linked to principles of distributive justice, that emphasize the fair allocation of resources and benefits within society, and can thus be considered to be worth striving for. \n",
    "\n",
    "As Piketty has stated in his book, A Brief History of Equality (Piketty, 2022), decreasing inequality requires constant vigilance, and, when left unattended, inequality has a tendency to increase.\n",
    "\n",
    "From a systems thinking perspective (Meadows, 2009), that means there must be one or more reinforcing feedback loops related to inequality in our socio-economic system. Left unchecked, reinforcing feedback loops are detrimental for any system, and it is therefore paramount that these loops are identified and interventions are made in order to counter their effects. It is the goal of this paper to do just that; identify at least the most obvious reinforcing feedback loops and propose a systemic intervention that would transform them into balancing feedback loops.\n",
    " \n",
    "Econophysics has identified such a feedback loop in the yard sale asset exchange model. In asset exchange models random agents exchange wealth according to a specified set of rules. In the yard sale model, the amount of wealth that is exchanged is dependant on the wealth of the poorest agent while the direction of the wealth exchange is determined by a fair coin flip. Independent of initial setup, execution of this model invariably leads to all wealth being concentrated with a single actor. This is due to a subtle bias that works in favor of the wealthiest agent in the model. Although the chance of winning in any transaction is equal for both agents, the wealthier agent looses a proportionally smaller part of their wealth in case of a loss compared to the poorer agent. Thereby putting a higher downward pressure on every agent's wealth, except for the wealthiest.\n",
    "\n",
    "Real world wealth inequality is not as extreme as this simple model suggests, indicating it is too simple. Governments have implemented redistribution measures through progressive taxation, social welfare programs, and initiatives to promote access to education and employment opportunities, aimed at reducing income and wealth disparities. Further research as shown that, when these measures are added to the model, the results are within acceptable error margins of real world inequality.\n",
    "\n",
    " in many countries across the world income and wealth inequality have been on the rise over the past few decades (Wolff, 1996; OECD, 2015; Zucman, 2019; Cantante, 2020; Meyer and Sullivan, 2023; Zhuang, 2023). Moreover, the levels of inequality that are observed today are considered to be excessive (Norton and Ariely, 2011; Peterson, 2017).\n",
    "mentioned above are applied to these models, they reproduce current inequality data within acceptable error margins.\n",
    "\n",
    "Despite these redistribution measures, inequality is still on the rise and are therefore deemed inadequate to tackle this issue on a systemic level. This paper introduces a systemic solution based on the alternative monetary system presented in Kuypers, 2024."
   ]
  },
  {
   "cell_type": "markdown",
   "metadata": {},
   "source": [
    "## 2. Methodology\n",
    "A worst case implementation of the yard sale model is taken as the baseline against which to test the proposed solution. It favors the wealthier actors and generates absolute inequality when no redistributive measures are taken. It is therefore assumed that, if the proposed solution can reduce inequality to an acceptable level in this worst-case scenario, the solution would also adequately work in a real world environment that is less brutal.\n",
    "\n",
    "In order to map the evolution of the model to a relevant time frame, the GDP per capita of Belgium in 2023 is used to determine how many transactions take place over the time span of a  year. The year \"ends\" when the sum of the transactions exceeds the product of the number of actors in the simulation with the GDP per capita. That way it can be determined how long it would take until full inequality would be reached.\n",
    "\n",
    "A computational model is built with the goal of testing wether the proposed systemic solution is capable of countering the effect of this simple yard sale model."
   ]
  },
  {
   "cell_type": "markdown",
   "metadata": {},
   "source": [
    "## 3. Identifying reinforcing feedback loops\n",
    "Most of the research that has been found on this topic deals with income and consumption inequality, and not directly with wealth inequality. When part of the population has an income that is more than sufficient to cover the cost of living, it is assumed that income inequality inherently leads to wealth inequality because the availability of income that does not need to be spent on the cost of living is available to acquire capital, and thus increased wealth. This acquired capital potentially generates surplus income, thereby exacerbating income inequality, and thus wealth inequality. This reinforcing feedback loop is known as the Matthew effect.\n",
    "\n",
    "This is reflected in Piketty's conclusion on wealth and power in his book \"Capital in the 21st Century\" (Piketty and Goldhammer, 2017) where he emphasizes the inherent characteristic of rising wealth and wealth inequality in capitalist economies. He argues that this trend is driven by the fact that the rate of return on capital ($r$) exceeds the growth rate of the economy ($g$), leading to a continuous increase in wealth inequality over time (Piketty, 2015; Madsen, 2017).\n",
    "\n",
    "There exists a wealth transfer dynamic, modeled by the yard sale model[^1], that concentrates wealth in the hands of an ever diminishing portion of the participants. Perpetual evaluation of the model results in all the wealth being in the hands of a single actor. It appears that the wealth concentration dynamic of the yard-sale model is active in the current-day free market economy, albeit with adjustments from redistribution measures implemented by governments (Boghosian, 2014; Boghosian et al., 2016; Vallejos et al., 2018). This dynamic might be partially explained by the bargaining advantage the wealthy have over the poor (Jeong, 2013), but it might also be influenced by what people assume what a person needs and/or deserves. This is influenced by the worldview of the one making the assessment (Dromi, 2012; Khatry et al., 2021; Waldfogel et al., 2021). Whatever the cause, it is undeniable that this is a reinforcing dynamic that increases inequality.\n",
    "\n",
    "Socio-economic shocks, such as the 2008 financial crisis and the COVID-19 pandemic, mainly affect vulnerable groups (Pfeffer et al., 2013; Compton et al., 2018; Van Bavel and Scheffer, 2021; Perry et al., 2021; Popyk and Pustułka, 2023), thereby widening the wealth and opportunity gap. Taking the research of Mullainathan and Shafir (Mullainathan and Shafir, 2021) into account, the latter is not surprising because affluent groups have a larger financial buffer with which to withstand the effects of those socio-economic shocks, and they are not prone to the cognitive limitations that result from living in financial scarcity, and are therefore more likely to take better strategical decisions. Systemic research has identified 151 bank crises, 236 currency crises and 75 sovereign debt crises worldwide between 1970 and 2017 (Laeven and Valencia, 2018), an interplay link has been established between credit money and macroeconomic instability (Cincotti et al., 2010; Kuypers et al., 2021), and historic research has indicated that debt with interest, which is the basis of our current-day monetary system, inevitably results in nonpayable debt in slow or non-growing economies (Hartley and Kallis, 2021). From this it can be concluded that socio-economic shocks are not exceptions and that they can be included within the category of systemic reinforcing feedback loops vis-a-vis inequality.\n",
    "\n",
    "The various monetary policies implemented by central banks have a varying effect on inequality. Contractionary policies clearly seem to have a positive effect on income inequality (Coibion et al., 2017; Mumtaz and Theophilopoulou, 2017; Creel and El Herradi, 2024). Quantitative easing (QE) also seems to contribute to increased inequality (Mumtaz and Theophilopoulou, 2017). The latter might be caused by the fact that the money created by QE has a higher probability to end up in the hand of the affluent through inflated financial asset prices. \n",
    "\n",
    "[^1]: In the yard sale model random pairs of actors are chosen that transfer an amount of wealth, equal to a fixed percentage of the wealth of the poorest actor', in a random direction."
   ]
  },
  {
   "cell_type": "markdown",
   "metadata": {},
   "source": [
    "## 3. Power and wealth and their influence on moral decision-making\n",
    "What is understood by power varies (Guinote, Vescio, 2010, chapter 1). Although it is beyond the scope of this paper to go into detail on all the different aspects and intricacies of power, it is deemed important to clarify what is meant by power in the context of what follows. Power is defined as the capacity to have, either directly or indirectly, a measurable influence on the outcome of a situation or process. This power is situated on a scale ranging from absolute, where the power holder does not need to take the desires of those who are impacted into account, to consensual, where the power is a consequence of consent by those subject to it, and thus can be taken away. Two dimensions of power are adopted: personal power, that is the ability to act, and/or agency (Ng, 1980; Russel, 1938; Thibaut, Kelley, 1959), and social power (), that is the power held over others. For the rest of the paper, power is used when referring to social power.\n",
    "\n",
    "When thinking about political leadership, it stands to reason that ethics and morality should play an important role in decision-making. In a perfect democracy, political power would be fully consensual, and facilitate a society where well-being and prosperity, within the sustainability boundaries of what our planet can support, for all current and future generations would be top priority. The current day reality is that political corruption, and power abuse still cause massive societal problems and geopolitical tension. Wars are still raging. We still fail to adequately tackle climate change, and biodiversity crises. Inequality is still at an unacceptable level. This presents the world with a wicked problem for which there are no simple solution, but exposing some systemic leverage points should provide a means to start shifting things in a direction that would be beneficial for all. The question that is put on the table is which systemic aspects of our current day world help or hinder moral and ethical decision-making.  \n",
    "\n",
    "Very wealthy families and individuals manage to gather large amounts of economic power, often through pyramidal control structures and power networks, that in turn leads to increased political influence (Morck et al., 2004; Maclean et al., 2010; Rossi, 2014), and thus more power. According to a small scale survey on the political preferences of the very wealthy, these people seem to have a tendency to support conservative policies, and are more inclined to oppose structural redistribution programs (Page et al., 2013). This can potentially lead towards an entrenchment of the wealthy in political power positions that can make it difficult to effectively create needed political change that would go against the vested interest of those holding these power seats (Acemoglu and Robinson, 2008). In the US these dynamics lead to the average citizen having near zero effect on policy decisions, if their interests oppose the interests of the economic elites (Tahoun and Van Lent, 2019), and it can thus be concluded that the power of economic elites in the US is near absolute. These dynamics are a clear threat to democracy, and, considering the vested interests of, for example, fossil fuel companies, hinder necessary action that would allow us to move towards a sustainable economy within the limited time frame we have left.\n",
    "\n",
    "Pitting these findings against research on general moral behavior creates an insight on the discrepancy between how people usually behave and how those in power do. To start, research shows that test subjects behave morally better in real situations than in imaginary situations, suggesting that people are more moral than they think ()\n",
    "\n",
    "Neurological studies show that people (Crockett et al., 2017) This seems to indicate that the common saying that power corrupts and absolute power corrupts absolutely, is upheld by research. There are indeed plenty of research results that point to the negative effects and abuse of power (Galinsky, Magee, Inesi, Gruenfeld, 2006; Chen et al., 2001; Ng, 1982; Keltner et al., 2003; Bargh, Raymond, Pryor, Strack, 1995; Bugental, 1993) The good news is that this is not always the case, but there are many aspects that need to be taken into account in order to create a comprehensive picture of how power, and its cousin wealth, can have either beneficial, or devastating effects on society.  \n",
    "\n",
    "According to DeCelles et al. (2012), people with strong moral identity are capable of handling power without getting corrupted while those with weaker moral identity are more prone to succumb to corruption, and immoral, and self-serving behavior. However, this does not necessarily mean that people lacking a strong moral identity should be considered immoral. Moral behavior is impacted by how people think about themselves. If they recall a recent moral action, their current day behavior is likely to slide towards more self-serving behavior through \n",
    "\n",
    "\n",
    "Legitimacy of power (French, Raven, 1959). No research that also includes consent. Could be the definition of 'moral power'.\n",
    "\n",
    "\n",
    "Observers see people in power as unconstrained (Overbeck et al., 2006). Powerful people see themselves as highly constrained (Orizio, 2002)\n",
    "\n",
    "When rule-based, and outcome-based morale thinking are in competition with each-other, high-powered people tend to lean towards rule-based thinking while those who do not feel powerful lean more towards outcome-based moral thinking. This is however not the case when the ones who are in power would be negatively impacted by a rule-based decision (Lammers and Stapel, 2009).\n",
    "\n",
    "Attack on Capitol a result of power imbalances? Example of power exerted by the powerless. Although a strong leader, with power, was present.\n",
    "\n",
    "Social psychological research has shown power to be associated with failure to recognize others’ points of view (Galinsky, Magee, Inesi, & Gruenfeld, 2006), with self-serving behavior (Chen et al., 2001; Ng, 1982), with hostile teasing and aggression (Keltner et al., 2003), with an increased likelihood to sexually harass (Bargh, Raymond, Pryor, & Strack, 1995), and with domestic abuse (Bugental, 1993). \n",
    "\n",
    "\n"
   ]
  },
  {
   "cell_type": "markdown",
   "metadata": {},
   "source": [
    "## 4. The influence of education and business sectors on moral and ethical acting\n",
    "Behavioral Ethics and Teaching Ethical Decision Making (ref)"
   ]
  },
  {
   "cell_type": "markdown",
   "metadata": {},
   "source": [
    "## 6. Psychological preferences towards equality\n",
    "In order to be able to propose policies, the first question that needs to answered is: what is the preferred level of equality in society? Is full equality necessary or even desired or is it sufficient to keep equality below a certain level?\n",
    "\n",
    "The oldest field in which equality has been discussed is philosophy. "
   ]
  },
  {
   "cell_type": "markdown",
   "metadata": {},
   "source": [
    "## 7. The role of the post-Keynesian money supply model and market mechanisms in inequality"
   ]
  },
  {
   "cell_type": "markdown",
   "metadata": {},
   "source": [
    "## 8. The need for counter-intuitive regulatory systems"
   ]
  },
  {
   "cell_type": "markdown",
   "metadata": {},
   "source": [
    "## 9. Proposition of increasing economic fairness through monetary policy\n",
    "Taking all previous findings into account, it is reasonanble to say that society would benefit from structural counter-inequality measures that are implemented at a level that is shielded as much as possible from political power dynamics and their associated ideologies. Central banks define the workings of the momentary system and determine the parameters and interventions of that monetary system by writing them down in monetary policies. Although not completely void of political influence, these monetary policies seem to avoid the large fluctuations that can be observed in social equality measures such as unemployment support, medical support, fair taxes, ... () It is therefore suggesteed that systemic counter-inequality measures are implemented at the level of the monetary system."
   ]
  },
  {
   "attachments": {},
   "cell_type": "markdown",
   "metadata": {},
   "source": [
    "## 10. Inequality simulations\n",
    "\n",
    "All simulations use the yard-sale model with a wealth transfer rate of 20%. All actors start out with equal wealth. Since this paper deals with a proposed monetary system, monetary wealth is used as a proxy for real wealth.\n",
    "\n",
    "Only transactions between non-broke actors are considered. An actor is considered broke if the calculated 20% of their wealth equals zero[^2].\n",
    "\n",
    "Each cycle, the following occurs:\n",
    "* 2 random actors, non-broke, are picked\n",
    "\n",
    "* 20% of the wealth of the poorest actor is calculated. If both are equally rich, 20% of the wealth of 1 actor is calculated. This is the amount of wealth transfer that will take place.\n",
    "\n",
    "* A fair coin flip determines whether wealth is transferred from actor 1 to actor 2 or vice versa.\n",
    "\n",
    "* Wealth is transferred.\n",
    "\n",
    "* If, after the transfer, one of the actors is broke they will not be picked for subsequent transactions.\n",
    "\n",
    "The data for the simulations is based on the M2 and the population in Belgium. An average amount of euros per citizen is calculated. The data for the year 2023 has been used. On average, M2 equalled 639 billion euros[^3] and the size of population was 11.7 million[^4]. The simulations are run with 1000 actors for performance reasons.\n",
    "\n",
    "Additional data to calculate tax requirements: https://www.nbb.be/doc/dq/n/dq3/histo/nnco23.pdf\n",
    "\n",
    "[^2]: The simulations are run with a precision of 4 digits. Therefore, the rounded value of 20% of an actor's non-zero wealth can be 0. In that case the actor is considered to be broke.  \n",
    "[^3]: Rounded average over the months January to July of 2024. Data source: https://tradingeconomics.com/belgium/money-supply-m2  \n",
    "[^4]: Rounded to the nearest million. Data source: https://www.worldometers.info/world-population/belgium-population/"
   ]
  },
  {
   "cell_type": "code",
   "execution_count": null,
   "metadata": {},
   "outputs": [],
   "source": [
    "using EconoSim\n",
    "using MoneySim\n",
    "\n",
    "set_currency_precision!(4)\n",
    "M2 = Currency(639000000000)\n",
    "POPULATION = 11700000\n",
    "AVG_MONEY_PER_CITIZEN = M2 / POPULATION\n",
    "NUM_ACTORS = 1000\n",
    "GDP_PER_CAPITA = 49791 # GDP per capita for Belgium in 2023.\n",
    "TOTAL_EXPENSES = 319141000000 - 0.02 * 319141000000 # Subtract interest cost\n",
    "EXPENCES_PER_CAPITA = TOTAL_EXPENSES / POPULATION\n",
    "SOCIAL_EXPENSES = 150851000000\n",
    "SOCIAL_EXPENSES_PER_CAPITA = SOCIAL_EXPENSES / POPULATION\n",
    "NET_EXPENSES_PER_CAPITA = EXPENCES_PER_CAPITA - SOCIAL_EXPENSES_PER_CAPITA; "
   ]
  },
  {
   "attachments": {},
   "cell_type": "markdown",
   "metadata": {},
   "source": [
    "### x.1 Baseline simulation\n",
    "In the standard yard-sale model, pairs of actors are randomly selected to perform a transaction. In order to match these transactions to a measurable timeline, the number of transactions per year has been made dependant on the yearly GDP per capita for Belgium. To determine a baseline to compare with in subsequent simulations, a GDP adapted standard yard-sale simulation is executed where the money stock remains fixed over time. "
   ]
  },
  {
   "cell_type": "markdown",
   "metadata": {},
   "source": [
    "It can be observed that the top tier accumulates an ever increasing share of the total wealth. This observation is in line with the conclusions from Boghosian, 2014.  \n",
    "That means that an increasing amount of actors will be broke. This data can be collected from the simulation."
   ]
  },
  {
   "cell_type": "markdown",
   "metadata": {},
   "source": [
    "Because an ever decreasing number of actors participates in the transactions, the number of transactions per participant increases due to the fact that the number of total transactions per cycle is fixed. This is unrealistic.\n",
    "\n",
    "Another possibility is to fix the minimum total amount transferred during a cycle. This would be an approximation of the GDP of the simulation. The GDP per capita in Belgium was 49,791 Euros in 2023[^5].\n",
    "\n",
    "The following figure shows the wealth distribution when yard-sale transactions are executed until the minimum GDP for a cycle has been reached.\n",
    "\n",
    "[^5]: Source: https://www.focus-economics.com/country-indicator/belgium/gdp-per-capita-eur/"
   ]
  },
  {
   "cell_type": "code",
   "execution_count": null,
   "metadata": {},
   "outputs": [],
   "source": [
    "data = run_fixed_wealth_gdp_simulation(num_actors = NUM_ACTORS,\n",
    "                                    initial_wealth = AVG_MONEY_PER_CITIZEN,\n",
    "                                    gdp_per_capita = GDP_PER_CAPITA,\n",
    "                                    years = 75,\n",
    "                                    termination_handler = TERMINATE_WHEN_ONE_NON_BROKE)\n",
    "dfa = analyse_wealth(data)\n",
    "plot_wealth(dfa[1],\n",
    "            [TOP_0_1, TOP_1, TOP_10, HIGH_MIDDLE_40, BOTTOM_50],\n",
    "            title = \"Yard Sale Model - GDP Belgium - 1000 Actors\",\n",
    "            labels = [\"Top 0.01%\", \"Top 1%\", \"Top 10%\", \"Middle 40%\", \"Bottom 50%\"])"
   ]
  },
  {
   "cell_type": "code",
   "execution_count": null,
   "metadata": {},
   "outputs": [],
   "source": [
    "data = run_fixed_wealth_gdp_simulation(num_actors = NUM_ACTORS * 20,\n",
    "                                    initial_wealth = AVG_MONEY_PER_CITIZEN,\n",
    "                                    gdp_per_capita = GDP_PER_CAPITA,\n",
    "                                    years = 75,\n",
    "                                    termination_handler = TERMINATE_WHEN_ONE_NON_BROKE)\n",
    "dfa = analyse_wealth(data)\n",
    "plot_wealth(dfa[1],\n",
    "            [TOP_0_1, TOP_1, TOP_10, HIGH_MIDDLE_40, BOTTOM_50],\n",
    "            title = \"Yard Sale Model - GDP Belgium - 20000 Actors\",\n",
    "            labels = [\"Top 0.01%\", \"Top 1%\", \"Top 10%\", \"Middle 40%\", \"Bottom 50%\"])"
   ]
  },
  {
   "cell_type": "markdown",
   "metadata": {},
   "source": [
    " It can be observed that an ever decreasing number of actors is participating to generate the required GDP. This means that the amount that is transferred probably increases due to the fact that a fixed percentage of the amount of the poorest actor is transferred, combined with an ever higher concentration of wealth.\n",
    "\n",
    " The following figure tracks the evolution of the GDP over time."
   ]
  },
  {
   "cell_type": "code",
   "execution_count": null,
   "metadata": {},
   "outputs": [],
   "source": [
    "plot_non_broke_actors(data[2])"
   ]
  },
  {
   "cell_type": "code",
   "execution_count": null,
   "metadata": {},
   "outputs": [],
   "source": [
    "plot_gdp(data[2])"
   ]
  },
  {
   "cell_type": "markdown",
   "metadata": {},
   "source": [
    "As can be observed, GDP rises sharply after a while. This is due to the fact that some transactions are "
   ]
  },
  {
   "cell_type": "code",
   "execution_count": null,
   "metadata": {},
   "outputs": [],
   "source": [
    "plot_transactions(data[2])"
   ]
  },
  {
   "cell_type": "code",
   "execution_count": null,
   "metadata": {},
   "outputs": [],
   "source": [
    "plot_min_max_transactions(data[2])"
   ]
  },
  {
   "attachments": {},
   "cell_type": "markdown",
   "metadata": {},
   "source": [
    "## 2 SuMSy simulations\n",
    "\n",
    "### 2.1 Basic SuMSy\n",
    "The same yard sale method as described above is used. Every cycle, 200 transactions are executed in the way described above. Every 30 cycles, demurrage is charged according to the SuMSy model parameters and GI is deposited."
   ]
  },
  {
   "cell_type": "markdown",
   "metadata": {},
   "source": [
    "Looking at figure x, it is clear that inequality has been drastically reduced. However, the number of transactions is arbitrary, just as it was with the baseline simulation.\n",
    "\n",
    "The following code sets up a simulation where GDP is used in order to determine the number of transactions per cycle, and GI and demurrage are set so that the money stock remains stable."
   ]
  },
  {
   "cell_type": "code",
   "execution_count": null,
   "metadata": {},
   "outputs": [],
   "source": [
    "GI = 2000\n",
    "d = GI / AVG_MONEY_PER_CITIZEN\n",
    "dem_free = 0\n",
    "sumsy = SuMSy(GI, dem_free, d, 30)\n",
    "\n",
    "GDP_PER_CAPITA = 49791\n",
    "\n",
    "data = run_sumsy_gdp_simulation(sumsy,\n",
    "                                eligible_actors = NUM_ACTORS,\n",
    "                                gdp_per_capita = GDP_PER_CAPITA,\n",
    "                                years = 50)\n",
    "\n",
    "dfa = analyse_wealth(data)\n",
    "plot_wealth(dfa[1],\n",
    "            [TOP_0_1, TOP_1, TOP_10, HIGH_MIDDLE_40, BOTTOM_50],\n",
    "            type = PERCENTAGE,\n",
    "            title = \"Alternative Money System - GDP Belgium\")"
   ]
  },
  {
   "cell_type": "code",
   "execution_count": null,
   "metadata": {},
   "outputs": [],
   "source": [
    "plot_non_broke_actors(data[2])"
   ]
  },
  {
   "cell_type": "code",
   "execution_count": null,
   "metadata": {},
   "outputs": [],
   "source": [
    "plot_money_stock(dfa[2], \"SuMSy - GDP Money Stock\")"
   ]
  },
  {
   "cell_type": "code",
   "execution_count": null,
   "metadata": {},
   "outputs": [],
   "source": [
    "plot_gdp(data[2])"
   ]
  },
  {
   "cell_type": "code",
   "execution_count": null,
   "metadata": {},
   "outputs": [],
   "source": [
    "plot_transactions(data[2])"
   ]
  },
  {
   "cell_type": "code",
   "execution_count": null,
   "metadata": {},
   "outputs": [],
   "source": [
    "plot_min_max_transactions(data[2], \"Min/Max Transaction Size\")"
   ]
  },
  {
   "attachments": {},
   "cell_type": "markdown",
   "metadata": {},
   "source": [
    "### 2.2 Basic SuMSy - Slow Economy\n",
    "Slow economies only execute 50 transactions per cycle instead of 200."
   ]
  },
  {
   "attachments": {},
   "cell_type": "markdown",
   "metadata": {},
   "source": [
    "### 2.3 Basic SuMSy + Taxes"
   ]
  },
  {
   "cell_type": "code",
   "execution_count": null,
   "metadata": {},
   "outputs": [],
   "source": [
    "\n",
    "df = run_sumsy_simulation(sumsy, transaction_model = taxed_yard_sale!, num_actors = 1000, num_transactions = 200, sim_length = 500)\n",
    "dfa = analyse_wealth(df)\n",
    "plot_wealth(dfa, \"Basic SuMSy + Taxes\")"
   ]
  },
  {
   "cell_type": "code",
   "execution_count": null,
   "metadata": {},
   "outputs": [],
   "source": [
    "plot_money_stock(dfa, \"Basic SuMSy + Taxes\")"
   ]
  },
  {
   "attachments": {},
   "cell_type": "markdown",
   "metadata": {},
   "source": [
    "### 2.4 Demurrage Free Buffer"
   ]
  },
  {
   "cell_type": "code",
   "execution_count": null,
   "metadata": {},
   "outputs": [],
   "source": [
    "dem_free_sumsy = SuMSy(2000, 50000, 0.01, 30)\n",
    "df = run_sumsy_simulation(dem_free_sumsy, num_actors = 1000, num_transactions = 200, sim_length = 500)\n",
    "dfa = analyse_wealth(df)\n",
    "plot_wealth(dfa, \"Demurrage Free Buffer\")"
   ]
  },
  {
   "cell_type": "code",
   "execution_count": null,
   "metadata": {},
   "outputs": [],
   "source": [
    "plot_money_stock(dfa, \"Demurrage Free Buffer\")"
   ]
  },
  {
   "attachments": {},
   "cell_type": "markdown",
   "metadata": {},
   "source": [
    "### 2.5 Tiered Demurrage"
   ]
  },
  {
   "cell_type": "code",
   "execution_count": null,
   "metadata": {},
   "outputs": [],
   "source": [
    "tiers = [(0, 0.01), (50000, 0.02), (500000, 0.05), (1000000, 0.1), (10000000, 0.5), (50000000, 0.95)]\n",
    "tiered_sumsy = SuMSy(2000, 0, tiers, 30)\n",
    "df = run_sumsy_simulation(tiered_sumsy, eligible_actors = 1000, num_transactions = 200, sim_length = 500)\n",
    "dfa = analyse_wealth(df[1], 1000)\n",
    "plot_wealth(dfa,\n",
    "            [:top_0_1, :top_1, :top_10, :middle_40, :bottom_50],\n",
    "            \"Tiered Demurrage\",\n",
    "            [\"Top 0.01%\", \"Top 1%\", \"Top 10%\", \"Middle 40%\", \"Bottom 50%\"])"
   ]
  },
  {
   "cell_type": "code",
   "execution_count": null,
   "metadata": {},
   "outputs": [],
   "source": [
    "tiers = [(0, 0.05), (50000, 0.10), (100000, 0.05), (500000, 0.1), (1000000, 0.5), (5000000, 0.75), (10000000, 1)]\n",
    "tiered_sumsy = SuMSy(2000, 0, tiers, 30)\n",
    "df = run_sumsy_simulation(tiered_sumsy, eligible_actors = 1000, num_transactions = 200, sim_length = 500)\n",
    "dfa = analyse_wealth(df[1], 1000)\n",
    "plot_wealth(dfa,\n",
    "            [:top_0_1, :top_1, :top_10, :middle_40, :bottom_50],\n",
    "            \"Tiered Demurrage - Limitarism\",\n",
    "            [\"Top 0.01%\", \"Top 1%\", \"Top 10%\", \"Middle 40%\", \"Bottom 50%\"])"
   ]
  },
  {
   "cell_type": "code",
   "execution_count": null,
   "metadata": {},
   "outputs": [],
   "source": [
    "plot_money_stock(dfa, \"Tiered Demurage\")"
   ]
  },
  {
   "attachments": {},
   "cell_type": "markdown",
   "metadata": {},
   "source": [
    "### 2.6 Demurrage Free Buffer + Tiered Demurrage"
   ]
  },
  {
   "cell_type": "code",
   "execution_count": null,
   "metadata": {},
   "outputs": [],
   "source": [
    "tiers = [(0, 0.01), (50000, 0.02), (500000, 0.05), (1000000, 0.1), (10000000, 0.5), (50000000, 0.95)]\n",
    "tiered_dem_free_sumsy = SuMSy(2000, 50000, tiers, 30)\n",
    "df = run_sumsy_simulation(tiered_dem_free_sumsy, num_aeligible_actorsctors = 1000, num_transactions = 200, sim_length = 500)\n",
    "dfa = analyse_wealth(df[1], 1000)\n",
    "plot_wealth(dfa, \"Demurrage Free Buffer + Tiered Demurrage\")"
   ]
  },
  {
   "cell_type": "code",
   "execution_count": null,
   "metadata": {},
   "outputs": [],
   "source": [
    "plot_money_stock(dfa, \"Demurrage Free Buffer + Tiered Demurrage\")"
   ]
  },
  {
   "attachments": {},
   "cell_type": "markdown",
   "metadata": {},
   "source": [
    "## 3 Equivalents in the current system\n",
    "### 3.1 UBI + Taxes\n",
    "* 2000 UBI.\n",
    "* 9% tax on each transaction."
   ]
  },
  {
   "cell_type": "code",
   "execution_count": null,
   "metadata": {},
   "outputs": [],
   "source": [
    "no_dem_sumsy = SuMSy(2000, 0, 0, 30)\n",
    "df = run_sumsy_simulation(no_dem_sumsy, num_actors = 1000, num_transactions = 200, sim_length = 3000, transaction_model = taxed_yard_sale!)\n",
    "dfa = analyse_wealth(df)\n",
    "plot_wealth(dfa, \"UBI + Taxes\")"
   ]
  },
  {
   "cell_type": "code",
   "execution_count": null,
   "metadata": {},
   "outputs": [],
   "source": [
    "plot_money_stock(dfa, \"UBI + Taxes\")"
   ]
  },
  {
   "attachments": {},
   "cell_type": "markdown",
   "metadata": {},
   "source": [
    "### 3.2 Borrow Net Income\n",
    "* Borrow net income. Net income calculated with basic SuMSy."
   ]
  },
  {
   "cell_type": "code",
   "execution_count": null,
   "metadata": {},
   "outputs": [],
   "source": [
    "df = run_debt_based_simulation(model_action = borrow_income, num_actors = 1000, num_transactions = 200, sim_length = 3000)\n",
    "dfa = analyse_wealth(df)\n",
    "plot_wealth(dfa, \"Borrow Net Income\")"
   ]
  },
  {
   "cell_type": "code",
   "execution_count": null,
   "metadata": {},
   "outputs": [],
   "source": [
    "plot_money_stock(analyse_money_stock(df), \"Borrow Net Income\")"
   ]
  },
  {
   "attachments": {},
   "cell_type": "markdown",
   "metadata": {},
   "source": [
    "### 3.3 Borrow when Poor\n",
    "* Borrow 1000 when balance < 100."
   ]
  },
  {
   "cell_type": "code",
   "execution_count": null,
   "metadata": {},
   "outputs": [],
   "source": [
    "df = run_debt_based_simulation(model_action = borrow_when_poor, num_actors = 1000, num_transactions = 200, sim_length = 3000)\n",
    "dfa = analyse_wealth(df)\n",
    "plot_wealth(dfa, \"Borrow when Poor\")"
   ]
  },
  {
   "cell_type": "code",
   "execution_count": null,
   "metadata": {},
   "outputs": [],
   "source": [
    "plot_money_stock(dfa, \"Borrow when Poor\")"
   ]
  },
  {
   "attachments": {},
   "cell_type": "markdown",
   "metadata": {},
   "source": [
    "### 3.4 Borrow when Rich\n",
    "* Borrow balance / 10 when balance > 50000."
   ]
  },
  {
   "cell_type": "code",
   "execution_count": null,
   "metadata": {},
   "outputs": [],
   "source": [
    "df = run_debt_based_simulation(model_action = borrow_when_rich, num_actors = 1000, num_transactions = 200, sim_length = 3000)\n",
    "dfa = analyse_wealth(df)\n",
    "plot_wealth(dfa, \"Borrow when Rich\")"
   ]
  },
  {
   "cell_type": "code",
   "execution_count": null,
   "metadata": {},
   "outputs": [],
   "source": [
    "plot_money_stock(dfa, \"Borrow when Rich\")"
   ]
  },
  {
   "attachments": {},
   "cell_type": "markdown",
   "metadata": {},
   "source": [
    "### 3.5 UBI + Taxes + Borrow when Poor\n",
    "* 2000 UBI.\n",
    "* 9% tax on each transaction.\n",
    "* Borrow 1000 when balance < 100."
   ]
  },
  {
   "cell_type": "code",
   "execution_count": null,
   "metadata": {},
   "outputs": [],
   "source": [
    "df = run_debt_based_simulation(transaction_model = taxed_yard_sale!, model_action = ubi_borrow_when_poor, num_actors = 1000, num_transactions = 200, sim_length = 3000)\n",
    "dfa = analyse_wealth(df)\n",
    "plot_wealth(dfa, \"UBI + Taxes + Borrow when Poor\")"
   ]
  },
  {
   "cell_type": "code",
   "execution_count": null,
   "metadata": {},
   "outputs": [],
   "source": [
    "plot_money_stock(dfa, \"UBI + Taxes + Borrow when Poor\")"
   ]
  },
  {
   "attachments": {},
   "cell_type": "markdown",
   "metadata": {},
   "source": [
    "### 3.6 UBI + Taxes + Borrow when Poor + Borrow when Rich\n",
    "* 2000 UBI.\n",
    "* 9% tax on each transaction.\n",
    "* Borrow 1000 when balance < 100.\n",
    "* Borrow balance / 10 when balance > 50000."
   ]
  },
  {
   "cell_type": "code",
   "execution_count": null,
   "metadata": {},
   "outputs": [],
   "source": [
    "df = run_debt_based_simulation(transaction_model = taxed_yard_sale!, model_action = ubi_borrow_when_poor_rich, num_actors = 1000, num_transactions = 50, sim_length = 3000)\n",
    "dfa = analyse_wealth(df)\n",
    "plot_wealth(dfa, \"UBI + Taxes + Borrow\")"
   ]
  },
  {
   "cell_type": "code",
   "execution_count": null,
   "metadata": {},
   "outputs": [],
   "source": [
    "plot_money_stock(dfa, \"UBI + Taxes + Borrow\")"
   ]
  },
  {
   "attachments": {},
   "cell_type": "markdown",
   "metadata": {},
   "source": [
    "# System Stability Simulations\n",
    "## 1 Current system\n",
    "### 1.1 Money Stock Growth > Net Bank Profits\n",
    "* Money Stock Growth = 1%\n",
    "* Net Bank Profit = 0.5%\n"
   ]
  },
  {
   "cell_type": "code",
   "execution_count": null,
   "metadata": {},
   "outputs": [],
   "source": [
    "data = simulate_fixed_g(g = 0.01, p = 0.005, m = 20, cycles = 100)\n",
    "plot_debt_ratio(data, func_plot = true)"
   ]
  },
  {
   "attachments": {},
   "cell_type": "markdown",
   "metadata": {},
   "source": [
    "### 1.2 Money Stock Growth < Net Bank Profits\n",
    "* Money Stock Growth = 1%\n",
    "* Net Bank Profit = 1.5%"
   ]
  },
  {
   "cell_type": "code",
   "execution_count": null,
   "metadata": {},
   "outputs": [],
   "source": [
    "data = simulate_fixed_g(g = 0.01, p = 0.015, m = 20, cycles = 100)\n",
    "plot_debt_ratio(data, func_plot = true)"
   ]
  },
  {
   "attachments": {},
   "cell_type": "markdown",
   "metadata": {},
   "source": [
    "### 1.3 Money Stock Growth < 0%, Net Bank Profit > 0%\n",
    "* Money Stock Growth = -0.1%\n",
    "* Net Bank Profit = 1.5%"
   ]
  },
  {
   "cell_type": "code",
   "execution_count": null,
   "metadata": {},
   "outputs": [],
   "source": [
    "data = simulate_fixed_g(g = -0.001, p = 0.015, m = 20, cycles = 100)\n",
    "plot_debt_ratio(data, func_plot = true)"
   ]
  },
  {
   "attachments": {},
   "cell_type": "markdown",
   "metadata": {},
   "source": [
    "Contact this person when draft is done: https://www.quantamagazine.org/rediet-abebe-tackles-inequality-with-computer-science-20210401/"
   ]
  },
  {
   "cell_type": "markdown",
   "metadata": {},
   "source": [
    "# To be included ... somewhere\n",
    "It is paramount that inequality is approached through a multi disciplanary lens, and not solely from an economic perspective, even though an effective systemic counter measure lies in the field of monetary policies. Current economic theories are often subject to neoliberal ideologies (Carr, 2023), and therefore need critical objective scrutiny from the fields of psychology, neurology, and sociology in order to paint a full, comprehensive picture of the vastness of what unfair inequality means to our society."
   ]
  },
  {
   "cell_type": "markdown",
   "metadata": {},
   "source": [
    "# Discussion \n",
    "The link between social ills and inequality are not unilaterally accepted. According to Delhey and Steckermeire (Delhey and Steckermeier, 2020), the role of prosperity can not be ruled out, and . There are other aspects to be considered too. Most research on inequality focuses on income inequality However, this may also be linked to the perception of inequality in wealthier societies since the perception of inequality has a higher psychological influence than the actual level of inequality (up to a point; this needs to be supported with references). \n",
    "\n",
    "- Absolute inequality is not desired (Cappelen et al., 2014; Starmans et al., 2017; Allard and Cova, 2020), which means that the model, with the correct parametrization, might be able to bring inequality down to a fair level.\n",
    "- High inequality has detrimental effects on society. Causal links have been established between high inequality and a plethora of societal ills (Wilkinson and Pickett, 2009). Both mental and physical health are negatively affected (Wilkinson and Pickett, 2006; Pickett and Wilkinson, 2015; Curran and Mahutga, 2018; Wilkinson, 2019), albeit sometimes indirect (Raphael, 2000), thereby increasing healthcare costs. Social mobility, and interaction between social classes is reduced (Kraus et al., 2017), which creates roadblocks for people to exit poverty. Violence increases, which leads to higher government spending on security measures and police forces. Trust in other people, governments and institutions decreases (Oishi et al., 2011), which can lead to social unrest. Social relations weaken, thereby negatively affecting the social fabric that holds society together, and happiness decreases caused by feelings of unfairness and mistrust (Cai et al., 2018), and a higher loss of status effect when looking up on the social ladder than there is a satisfaction effect when looking down (Gao et al., 2022).\n",
    "\n",
    "The real level of inequality is largely misinterpreted by the population at large (Norton and Ariely, 2011; Ziano et al., 2022)\n",
    "\n",
    "Levels of inequality affect what people regard as fair and/or enough, making people in more unequal societies strive more for riches and status than people in more equal societies (Walasek et al., 2018; Goya‐Tocchetto and Payne, 2022; Wang et al., 2023).\n",
    "\n",
    "Living in poverty has a non-trivial effect on those experiencing it. As stated in their book Scarcity (Mullainathan and Shafir, 2021), people living under financial stress suffer from tunnel vision, have a reduced capacity of long-term thinking and even see their IQ drop by about 13 points. All traits that would otherwise help people to escape from poverty. Moreover, people living under financial duress have less leeway for spending mistakes due to a lack of a financial buffer, and lack the funds for investing.\n",
    "\n",
    "A recent study found a high likelihood of a connection between chronic stress and a weakened immune system (Chang et al., 2024). This could be an explanation of why less affluent people experience worse health than their richer peers.\n",
    "\n",
    "Working poverty (Hick and Marx, 2022) [need to read the paper]; the problem of employed people living in poverty.\n",
    "\n",
    "Include prosperity from discussion in this section?"
   ]
  },
  {
   "cell_type": "markdown",
   "metadata": {},
   "source": [
    "# Limitations\n",
    "It has been proven that, from a quantitative perspective, the monetary system presented in Kuypers, 2024 has the potential to drastically reduce inequality at the systemic level, but inequality is about more than quantitative data. It has a strong psychological component too.\n",
    "\n",
    "Inequality is often underestimated (Norton and Ariely, 2011), and there are indications that perceived inequality and acceptance of existing systems have a more profound effect on people's behavior than actual inequality (Gimpelson and Treisman, 2018; Du and King, 2022; Silagadze et al., 2023). This dynamic is clearly present in societies that have a strong meritocratic ideology. In those societies inequality is higher and so is the resistance against measures that would tackle it, even from those of the lower classes\n",
    "\n",
    "\n"
   ]
  },
  {
   "cell_type": "markdown",
   "metadata": {},
   "source": [
    "# Further research\n",
    "It would be helpful to determine whether there exists a threshold where an increase, or decrease, in inequality has a measurable effect on perceived inequality. Finding such a threshold would help to determine what the parameters of the model proposed in Kuypers, 2024 need to be in order to have a measurable effect on societal ills caused by real or perceived inequality. It is acknowledged that such research would be complex because cultural and ideological context can have an influence on such a threshold and needs to be taken into account. Collaboration with psychologists, sociologists, and neurologists is therefore advised.\n",
    "\n",
    "In many experiments money cues are often used as a reward/punishment to research behavioral responses to moral choice situations (Kang and Camerer, 2013). Taken the behavioral effects of money itself into account, these studies might have to be revisited in order to determine whether non-monetary rewards-punishments would have the same effects.\n",
    "\n",
    "The design of the monetary system itself might also influence how people react to money cues. Research with complementary currencies indicates that elevated pro-social behavior increases amongst users of these currencies. Whether this is directly linked to the design of these currencies or whether these currencies are used by people who have a stronger tendency towards pro-social behavior requires more research.\n",
    "\n",
    "Another area where further research is needed is to determine how the new model could be introduced, taking into account the power dynamics, and the resulting inequalities that have been created by the current system."
   ]
  },
  {
   "cell_type": "markdown",
   "metadata": {},
   "source": [
    "# Conclusion"
   ]
  },
  {
   "cell_type": "markdown",
   "metadata": {},
   "source": [
    "# References\n",
    "Acemoglu, D., Robinson, J.A., 2008. Persistence of Power, Elites, and Institutions. American Economic Review 98, 267–293. https://doi.org/10.1257/aer.98.1.267\n",
    "\n",
    "** Allard, A., Cova, F., 2020. Equality Beyond Needs‐Satisfaction: An Empirical Investigation. J Applied Philosophy 37, 273–298. https://doi.org/10.1111/japp.12388\n",
    "\n",
    "* Balac, Z., 2008. Monetary Inflation’s Effect on Wealth Inequality: An Austrian Analysis. The Quarterly Journal of Austrian Economics 11, 1–17. https://doi.org/10.1007/s12113-008-9028-4\n",
    "\n",
    "** Bjorklund, A., Roine, J., Waldenström, D., 2008. Intergenerational Top Income Mobility in Sweden: A Combination of Equal Opportunity and Capitalistic Dynasties. SSRN Journal. https://doi.org/10.2139/ssrn.1298244\n",
    "\n",
    "** Boghosian, B.M., 2014. Kinetics of wealth and the Pareto law. Phys. Rev. E 89, 042804. https://doi.org/10.1103/PhysRevE.89.042804\n",
    "\n",
    "** Boghosian, B.M., Devitt-Lee, A., Wang, H., 2016. The Growth of Oligarchy in a Yard-Sale Model of Asset Exchange - A Logistic Equation for Wealth Condensation:, in: Proceedings of the 1st International Conference on Complex Information Systems. Presented at the 1st International Conference on Complex Information Systems, SCITEPRESS - Science and and Technology Publications, Rome, Italy, pp. 187–193. https://doi.org/10.5220/0005956501870193\n",
    "\n",
    "** Boserup, S.H., Kopczuk, W., Kreiner, C.T., 2018. Born with a Silver Spoon? Danish Evidence on Wealth Inequality in Childhood. The Economic Journal 128, F514–F544. https://doi.org/10.1111/ecoj.12496\n",
    "\n",
    "** Cai, J., Zhang, L., Zhao, Y., Coyte, P., 2018. Psychological Mechanisms Linking County-Level Income Inequality to Happiness in China. IJERPH 15, 2667. https://doi.org/10.3390/ijerph15122667\n",
    "\n",
    "** Cappelen, A.W., Eichele, T., Hugdahl, K., Specht, K., Sørensen, E.Ø., Tungodden, B., 2014. Equity theory and fair inequality: A neuroeconomic study. Proc. Natl. Acad. Sci. U.S.A. 111, 15368–15372. https://doi.org/10.1073/pnas.1414602111\n",
    "\n",
    "** Carr, P., 2023. ‘How the other half lives’?: Taking a critical approach to the social psychology of economic inequality and extreme wealth. Social & Personality Psych 17, e12743. https://doi.org/10.1111/spc3.12743\n",
    "\n",
    "** Chang, H., Perkins, M.H., Novaes, L.S., Qian, F., Zhang, T., Neckel, P.H., Scherer, S., Ley, R.E., Han, W., De Araujo, I.E., 2024. Stress-sensitive neural circuits change the gut microbiome via duodenal glands. Cell S0092867424007797. https://doi.org/10.1016/j.cell.2024.07.019\n",
    "\n",
    "** Cincotti, S., Raberto, M., Teglio, A., 2010. Credit Money and Macroeconomic Instability in the Agent-based Model and Simulator Eurace. Economics 4, 20100026. https://doi.org/10.5018/economics-ejournal.ja.2010-26\n",
    "\n",
    "** Coibion, O., Gorodnichenko, Y., Kueng, L., Silvia, J., 2017. Innocent Bystanders? Monetary policy and inequality. Journal of Monetary Economics 88, 70–89. https://doi.org/10.1016/j.jmoneco.2017.05.005\n",
    "\n",
    "** Compton, R., Giedeman, D., Muller, L., 2018. Racial Differentials in the Wealth Effects of the Financial Crisis and Great Recession. J Econ Race Policy 1, 126–141. https://doi.org/10.1007/s41996-018-0015-7\n",
    "\n",
    "** Creel, J., El Herradi, M., 2024. Income inequality and monetary policy in the euro area. Int. J Fin Econ 29, 332–355. https://doi.org/10.1002/ijfe.2688\n",
    "\n",
    "Crockett, M.J., Siegel, J.Z., Kurth-Nelson, Z., Dayan, P., Dolan, R.J., 2017. Moral transgressions corrupt neural representations of value. Nat Neurosci 20, 879–885. https://doi.org/10.1038/nn.4557\n",
    "\n",
    "** Curran, M., Mahutga, M.C., 2018. Income Inequality and Population Health: A Global Gradient? J Health Soc Behav 59, 536–553. https://doi.org/10.1177/0022146518808028\n",
    "\n",
    "DeCelles, K.A., DeRue, D.S., Margolis, J.D., Ceranic, T.L., 2012. Does power corrupt or enable? When and why power facilitates self-interested behavior. Journal of Applied Psychology 97, 681–689. https://doi.org/10.1037/a0026811\n",
    "\n",
    "** Delhey, J., Steckermeier, L.C., 2020. Social Ills in Rich Countries: New Evidence on Levels, Causes, and Mediators. Soc Indic Res 149, 87–125. https://doi.org/10.1007/s11205-019-02244-3\n",
    "\n",
    "** Dromi, S.M., 2012. Penny for Your Thoughts: Beggars and the Exercise of Morality in Daily Life 1. Sociological Forum 27, 847–871. https://doi.org/10.1111/j.1573-7861.2012.01359.x\n",
    "\n",
    "** Du, H., King, R.B., 2022. What predicts perceived economic inequality? The roles of actual inequality, system justification, and fairness considerations. British J Social Psychol 61, 19–36. https://doi.org/10.1111/bjso.12468\n",
    "\n",
    "** Gao, L., Sun, B., Du, Z., Lv, G., 2022. How Wealth Inequality Affects Happiness: The Perspective of Social Comparison. Front. Psychol. 13, 829707. https://doi.org/10.3389/fpsyg.2022.829707\n",
    "\n",
    "Gilens, M., Page, B.I., 2014. Testing Theories of American Politics: Elites, Interest Groups, and Average Citizens. Perspectives on Politics 12, 564–581. https://doi.org/10.1017/S1537592714001595\n",
    "\n",
    "** Gimpelson, V., Treisman, D., 2018. Misperceiving inequality. Economics & Politics 30, 27–54. https://doi.org/10.1111/ecpo.12103\n",
    "\n",
    "** Goya‐Tocchetto, D., Payne, B.K., 2022. How Economic Inequality Shapes Thought and Action. J Consum Psychol 32, 146–161. https://doi.org/10.1002/jcpy.1277\n",
    "\n",
    "Guinote, A., Vescio, T.K. (Eds.), 2010. The social psychology of power. Guilford Press, New York.\n",
    "\n",
    "** Jeong, B., 2013. Bargaining and Wealth Accumulation. SSRN Journal. https://doi.org/10.2139/ssrn.2257403\n",
    "\n",
    "** Hartley, T., Kallis, G., 2021. Interest-bearing loans and unpayable debts in slow-growing economies: Insights from ten historical cases. Ecological Economics 188, 107132. https://doi.org/10.1016/j.ecolecon.2021.107132\n",
    "\n",
    "** Hick, R., Marx, I., 2022. Poor Workers in Rich Democracies: On the Nature of In-Work Poverty and its Relationship to Labour Market Policies. SSRN Journal. https://doi.org/10.2139/ssrn.4114722\n",
    "\n",
    "Kang, M.J., Camerer, C.F., 2013. fMRI evidence of a hot-cold empathy gap in hypothetical and real aversive choices. Frontiers in Neuroscience. 7. https://doi.org/10.3389/fnins.2013.00104\n",
    "\n",
    "** Khatry, P., Manokara, K., Harris, L.T., 2021. Socioeconomic Status and Dehumanization in India: Elaboration of the Stereotype Content Model in a Non-WEIRD Sample. Social Psychological and Personality Science 12, 908–919. https://doi.org/10.1177/1948550620976206\n",
    "\n",
    "** Kraus, M.W., Park, J.W., Tan, J.J.X., 2017. Signs of Social Class: The Experience of Economic Inequality in Everyday Life. Perspect Psychol Sci 12, 422–435. https://doi.org/10.1177/1745691616673192\n",
    "\n",
    "** Kuypers, S., Goorden, T., Delepierre, B., 2021. Computational Analysis of the Properties of Post-Keynesian Endogenous Money Systems. JRFM 14, 335. https://doi.org/10.3390/jrfm14070335\n",
    "\n",
    "** Laeven, L., Valencia, F., 2018. Systemic Banking Crises Revisited. IMF Working Papers 18, 1. https://doi.org/10.5089/9781484376379.001\n",
    "\n",
    "Lammers, J., Stapel, D.A., 2009. How power influences moral thinking. Journal of Personality and Social Psychology 97, 279–289. https://doi.org/10.1037/a0015437\n",
    "\n",
    "Maclean, M., Harvey, C., Chia, R., 2010. Dominant Corporate Agents and the Power Elite in France and Britain. Organization Studies 31, 327–348. https://doi.org/10.1177/0170840609357377\n",
    "\n",
    "** Madsen, J.B., 2017. Is Inequality Increasing in r-g? Piketty’s Principle of Capitalist Economics and the Dynamics of Inequality in Britain, 1210-2013. SSRN Journal. https://doi.org/10.2139/ssrn.3059334\n",
    "\n",
    "Meadows, D., 2009. Thinking in systems: a primer. Chelsea Green Publishing, Rizzoli International Publications, New York.\n",
    "\n",
    "** Meyer, B.D., Sullivan, J.X., 2023. Consumption and Income Inequality in the United States since the 1960s. Journal of Political Economy 131, 247–284. https://doi.org/10.1086/721702\n",
    "\n",
    "* Mijs, J.J.B., 2019. The Paradox of Inequality: Income Inequality and Belief in Meritocracy go Hand in Hand (preprint). SocArXiv. https://doi.org/10.31235/osf.io/dcr9b\n",
    "\n",
    "Morck, R., Wolfenzon, D., Yeung, B., 2004. Corporate Governance, Economic Entrenchment and Growth (No. w10692). National Bureau of Economic Research, Cambridge, MA. https://doi.org/10.3386/w10692\n",
    "\n",
    "** Mullainathan, S., Shafir, E., 2021. Scarcity: the new science of having less and how it defines our lives, First Holt paperbacks edition. ed. Henry Holt and Company, New York, NY.\n",
    "\n",
    "** Mumtaz, H., Theophilopoulou, A., 2017. The impact of monetary policy on inequality in the UK. An empirical analysis. European Economic Review 98, 410–423. https://doi.org/10.1016/j.euroecorev.2017.07.008\n",
    "\n",
    "** Norton, M.I., Ariely, D., 2011. Building a Better America—One Wealth Quintile at a Time. Perspect Psychol Sci 6, 9–12. https://doi.org/10.1177/1745691610393524\n",
    "\n",
    "** OECD, 2015. In It Together: Why Less Inequality Benefits All. OECD. https://doi.org/10.1787/9789264235120-en\n",
    "\n",
    "OECD, 2021. Does Inequality Matter? How People Perceive Economic Disparities and Social Mobility, OECD Publishing, Paris, https://doi.org/10.1787/3023ed40-en.\n",
    "\n",
    "** Oishi, S., Kesebir, S., Diener, E., 2011. Income Inequality and Happiness. Psychological Science 22, 1095–1100. https://doi.org/10.1177/0956797611417262\n",
    "\n",
    "Page, B.I., Bartels, L.M., Seawright, J., 2013. Democracy and the Policy Preferences of Wealthy Americans. Perspect. polit. 11, 51–73. https://doi.org/10.1017/S153759271200360X\n",
    "\n",
    "** Perry, B.L., Aronson, B., Pescosolido, B.A., 2021. Pandemic precarity: COVID-19 is exposing and exacerbating inequalities in the American heartland. Proc. Natl. Acad. Sci. U.S.A. 118, e2020685118. https://doi.org/10.1073/pnas.2020685118\n",
    "\n",
    "** Peterson, E., 2017. Is Economic Inequality Really a Problem? A Review of the Arguments. Social Sciences 6, 147. https://doi.org/10.3390/socsci6040147\n",
    "\n",
    "** Pfeffer, F.T., Danziger, S., Schoeni, R.F., 2013. Wealth Disparities Before and After the Great Recession. The ANNALS of the American Academy of Political and Social Science 650, 98–123. https://doi.org/10.1177/0002716213497452\n",
    "\n",
    "** Pickett, K.E., Wilkinson, R.G., 2015. Income inequality and health: A causal review. Social Science & Medicine 128, 316–326. https://doi.org/10.1016/j.socscimed.2014.12.031\n",
    "\n",
    "** Piketty, T., Goldhammer, A., 2017. Capital in the twenty-first century.\n",
    "\n",
    "** Piketty, T., 2022. A brief history of equality. The Belknap Press of Harvard University Press, Cambridge, Massachusetts London, England.\n",
    "\n",
    "** Popyk, A., Pustułka, P., 2023. Educational Disadvantages During COVID-19 Pandemic Faced by Migrant Schoolchildren in Poland. Int. Migration & Integration 24, 487–505. https://doi.org/10.1007/s12134-022-00953-2\n",
    "\n",
    "** Raphael, D., 2000. Health Inequities in the United States: Prospects and Solutions. Journal of Public Health Policy 21, 394. https://doi.org/10.2307/3343281\n",
    "\n",
    "** Rawls, J., 2005. A theory of justice, Orig. ed., reprint. ed. Belknap Press, Cambridge, Mass.\n",
    "\n",
    "Rossi, M.A., 2014. The impact of individual wealth on posterior political power. Journal of Economic Behavior & Organization 106, 469–480. https://doi.org/10.1016/j.jebo.2014.08.006\n",
    "\n",
    "** Silagadze, N., Christensen, H.S., Sirén, R., Grönlund, K., 2023. Perceptions of Inequality and Political Participation: The Moderating Role of Ideology. Political Studies Review 21, 285–305. https://doi.org/10.1177/14789299221082037\n",
    "\n",
    "** Starmans, C., Sheskin, M., Bloom, P., 2017. Why People Prefer Unequal Societies. Nature Human Behaviour 1, 0082. https://doi.org/10.1038/s41562-017-0082\n",
    "\n",
    "Tahoun, A., Van Lent, L., 2019. The Personal Wealth Interests of Politicians and Government Intervention in the Economy*. Review of Finance 23, 37–74. https://doi.org/10.1093/rof/rfy015\n",
    "\n",
    "** Valentini, L., 2012. Assessing the global order: justice, legitimacy, or political justice? Critical Review of International Social and Political Philosophy 15, 593–612. https://doi.org/10.1080/13698230.2012.727307\n",
    "\n",
    "** Vallejos, H.A., Nutaro, J.J., Perumalla, K.S., 2018. An agent-based model of the observed distribution of wealth in the United States. J Econ Interact Coord 13, 641–656. https://doi.org/10.1007/s11403-017-0200-9\n",
    "\n",
    "** Van Bavel, B., Scheffer, M., 2021. Historical effects of shocks on inequality: the great leveler revisited. Humanit Soc Sci Commun 8, 76. https://doi.org/10.1057/s41599-021-00763-4\n",
    "\n",
    "** Walasek, L., Bhatia, S., Brown, G.D.A., 2018. Positional Goods and the Social Rank Hypothesis: Income Inequality Affects Online Chatter about High‐ and Low‐Status Brands on Twitter. J Consum Psychol 28, 138–148. https://doi.org/10.1002/jcpy.1012\n",
    "\n",
    "** Waldfogel, H.B., Sheehy-Skeffington, J., Hauser, O.P., Ho, A.K., Kteily, N.S., 2021. Ideology selectively shapes attention to inequality. Proc. Natl. Acad. Sci. U.S.A. 118, e2023985118. https://doi.org/10.1073/pnas.2023985118\n",
    "\n",
    "** Wang, Z., Jetten, J., Steffens, N.K., 2023. Restless in an Unequal World: Economic Inequality Fuels the Desire for Wealth and Status. Pers Soc Psychol Bull 49, 871–890. https://doi.org/10.1177/01461672221083747\n",
    "\n",
    "** Wilkinson, R.G., Pickett, K.E., 2006. Income inequality and population health: A review and explanation of the evidence. Social Science & Medicine 62, 1768–1784. https://doi.org/10.1016/j.socscimed.2005.08.036\n",
    "\n",
    "** Wilkinson, R.G., Pickett, K.E., 2009. Income Inequality and Social Dysfunction. Annual Review of Sociology 35, 493–511. https://doi.org/10.1146/annurev-soc-070308-115926\n",
    "\n",
    "** Wilkinson, R.G., 2019. Income distribution and life expectancy, in: Stewart, R. (Ed.), Management of Health Care. Routledge, pp. 35–41. https://doi.org/10.4324/9780429450242-4\n",
    "\n",
    "** Wolff, E.N., 1996. INTERNATIONAL COMPARISONS OF WEALTH INEQUALITY. Review of Income and Wealth 42, 433–451. https://doi.org/10.1111/j.1475-4991.1996.tb00193.x\n",
    "\n",
    "** Zhuang, J., 2023. Income and Wealth Inequality in Asia and the Pacific: Trends, Causes, and Policy Remedies. Asian Economic Policy Review 18, 15–41. https://doi.org/10.1111/aepr.12399\n",
    "\n",
    "** Ziano, I., Lembregts, C., Pandelaere, M., 2022. People weigh salaries more than ratios in judgments of income inequality, fairness, and demands for redistribution. Journal of Economic Psychology 89, 102495. https://doi.org/10.1016/j.joep.2022.102495\n",
    "\n",
    "** Zucman, G., 2019. Global Wealth Inequality. Annual Review of Economics 11, 109–138. https://doi.org/10.1146/annurev-economics-080218-025852\n",
    "\n"
   ]
  },
  {
   "cell_type": "markdown",
   "metadata": {},
   "source": [
    "## Reading list\n",
    "\n",
    "* \"The Open Society and it's Enemies\" by Karl Popper\n",
    "* \"The Poverty of Historicism\" by Karl Popper\n",
    "* \"Adults in the Room: My Battle with Europe’s Deep Establishment\" by Yanis Varoufakis\n",
    "* \"The Road to Serfdom\" by Friedrich A. Hayek\n",
    "* \"The Theory of the Leisure Class\" by Thorstein Veblen\n",
    "* \"The Affluent Society\" by John Kenneth Galbraith\n",
    "* \"Capitalism, Socialism and Democracy\" by Joseph Schumpeter\n",
    "* \"Debt: The First 5000 Years\" by David Graeber\n",
    "* \"Who Rules the World\" by Noam Chomsky\n",
    "* \"Political Ponerology: The Science of Evil, Psychopathy, and the Origins of Totalitarianism\" by Andrew M. Lobaczewski"
   ]
  }
 ],
 "metadata": {
  "kernelspec": {
   "display_name": "Julia 1.11.0",
   "language": "julia",
   "name": "julia-1.11"
  },
  "language_info": {
   "file_extension": ".jl",
   "mimetype": "application/julia",
   "name": "julia",
   "version": "1.11.0"
  },
  "orig_nbformat": 4
 },
 "nbformat": 4,
 "nbformat_minor": 2
}
